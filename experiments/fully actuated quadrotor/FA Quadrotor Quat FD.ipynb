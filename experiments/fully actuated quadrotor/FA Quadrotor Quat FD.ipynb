{
 "cells": [
  {
   "cell_type": "code",
   "execution_count": 1,
   "metadata": {},
   "outputs": [
    {
     "name": "stderr",
     "output_type": "stream",
     "text": [
      "\u001b[32m\u001b[1m    Updating\u001b[22m\u001b[39m registry at `C:\\Users\\g.kirillov\\.julia\\registries\\General.toml`\n",
      "\u001b[32m\u001b[1m   Resolving\u001b[22m\u001b[39m package versions...\n",
      "\u001b[33m\u001b[1m┌ \u001b[22m\u001b[39m\u001b[33m\u001b[1mWarning: \u001b[22m\u001b[39mThe active manifest file at `C:\\Users\\g.kirillov\\DDP\\Manifest.toml` has an old format that is being maintained.\n",
      "\u001b[33m\u001b[1m│ \u001b[22m\u001b[39mTo update to the new format run `Pkg.upgrade_manifest()` which will upgrade the format without re-resolving.\n",
      "\u001b[33m\u001b[1m└ \u001b[22m\u001b[39m\u001b[90m@ Pkg.Types C:\\buildbot\\worker\\package_win64\\build\\usr\\share\\julia\\stdlib\\v1.7\\Pkg\\src\\manifest.jl:287\u001b[39m\n",
      "\u001b[32m\u001b[1m  No Changes\u001b[22m\u001b[39m to `C:\\Users\\g.kirillov\\DDP\\Project.toml`\n",
      "\u001b[32m\u001b[1m  No Changes\u001b[22m\u001b[39m to `C:\\Users\\g.kirillov\\DDP\\Manifest.toml`\n",
      "\u001b[33m\u001b[1m┌ \u001b[22m\u001b[39m\u001b[33m\u001b[1mWarning: \u001b[22m\u001b[39mThe active manifest file is an older format with no julia version entry. Dependencies may have been resolved with a different julia version.\n",
      "\u001b[33m\u001b[1m└ \u001b[22m\u001b[39m\u001b[90m@ C:\\Users\\g.kirillov\\DDP\\Manifest.toml:0\u001b[39m\n"
     ]
    }
   ],
   "source": [
    "import Pkg; Pkg.add(\"Rotations\")"
   ]
  },
  {
   "cell_type": "code",
   "execution_count": 2,
   "metadata": {},
   "outputs": [
    {
     "name": "stderr",
     "output_type": "stream",
     "text": [
      "\u001b[32m\u001b[1m  Activating\u001b[22m\u001b[39m project at `C:\\Users\\g.kirillov\\DDP`\n"
     ]
    }
   ],
   "source": [
    "import Pkg; Pkg.activate(\".\"); Pkg.instantiate()"
   ]
  },
  {
   "cell_type": "code",
   "execution_count": 3,
   "metadata": {},
   "outputs": [],
   "source": [
    "import Pkg; Pkg.precompile()"
   ]
  },
  {
   "cell_type": "code",
   "execution_count": 4,
   "metadata": {},
   "outputs": [
    {
     "name": "stderr",
     "output_type": "stream",
     "text": [
      "\u001b[32m\u001b[1m    Building\u001b[22m\u001b[39m WebIO ──→ `C:\\Users\\g.kirillov\\.julia\\scratchspaces\\44cfe95a-1eb2-52ea-b672-e2afdf69b78f\\c9529be473e97fa0b3b2642cdafcd0896b4c9494\\build.log`\n",
      "\u001b[32m\u001b[1m    Building\u001b[22m\u001b[39m Blink ──→ `C:\\Users\\g.kirillov\\.julia\\scratchspaces\\44cfe95a-1eb2-52ea-b672-e2afdf69b78f\\08d0b679fd7caa49e2bca9214b131289e19808c0\\build.log`\n",
      "\u001b[32m\u001b[1m    Building\u001b[22m\u001b[39m MeshCat → `C:\\Users\\g.kirillov\\.julia\\scratchspaces\\44cfe95a-1eb2-52ea-b672-e2afdf69b78f\\ca4a1e45f5d2a2148c599804a6619da7708ede69\\build.log`\n"
     ]
    }
   ],
   "source": [
    "using Pkg\n",
    "Pkg.build(\"MeshCat\")"
   ]
  },
  {
   "cell_type": "code",
   "execution_count": 5,
   "metadata": {},
   "outputs": [],
   "source": [
    "using LinearAlgebra\n",
    "using PyPlot\n",
    "using ForwardDiff\n",
    "using RobotZoo\n",
    "using RobotDynamics\n",
    "import RobotDynamics as RD\n",
    "using MatrixCalculus\n",
    "using JLD2\n",
    "using StaticArrays\n",
    "using Rotations\n",
    "using DifferentialEquations"
   ]
  },
  {
   "cell_type": "code",
   "execution_count": 6,
   "metadata": {},
   "outputs": [
    {
     "data": {
      "text/plain": [
       "0.05"
      ]
     },
     "execution_count": 6,
     "metadata": {},
     "output_type": "execute_result"
    }
   ],
   "source": [
    "#Acrobot Dynamics\n",
    "include(\"models/FullyActuatedQuadrotor.jl\")\n",
    "using .MyRobots\n",
    "\n",
    "a = MyRobots.FAQuadrotor()\n",
    "h = 0.05"
   ]
  },
  {
   "cell_type": "code",
   "execution_count": 7,
   "metadata": {},
   "outputs": [
    {
     "data": {
      "text/plain": [
       "6"
      ]
     },
     "execution_count": 7,
     "metadata": {},
     "output_type": "execute_result"
    }
   ],
   "source": [
    "Nx = 13   # number of state\n",
    "Nu = 6     # number of controls"
   ]
  },
  {
   "cell_type": "code",
   "execution_count": 8,
   "metadata": {},
   "outputs": [
    {
     "data": {
      "text/plain": [
       "quadrotor_dynamics (generic function with 1 method)"
      ]
     },
     "execution_count": 8,
     "metadata": {},
     "output_type": "execute_result"
    }
   ],
   "source": [
    "function quadrotor_dynamics(x, u, t)\n",
    "    x = SVector{Nx}(x)\n",
    "    u = SVector{Nu}(u)\n",
    "    return Array(dynamics(a, x, u))\n",
    "end\n"
   ]
  },
  {
   "cell_type": "code",
   "execution_count": 9,
   "metadata": {},
   "outputs": [
    {
     "data": {
      "text/plain": [
       "dfdu (generic function with 1 method)"
      ]
     },
     "execution_count": 9,
     "metadata": {},
     "output_type": "execute_result"
    }
   ],
   "source": [
    "function dfdx(x,u)\n",
    "    prob_init = ODEProblem(quadrotor_dynamics, x, (0, h), u)\n",
    "    x1 = solve(prob_init, TRBDF2())[end]\n",
    "    result = zeros(Nx,Nx)\n",
    "    for i in 1:Nx\n",
    "        dx = zeros(Nx)\n",
    "        dx[i] = h\n",
    "        prob_i = ODEProblem(quadrotor_dynamics, x + dx, (0, h), u)\n",
    "        x1_i = solve(prob_i, TRBDF2())[end]\n",
    "        result[:, i] .= (x1_i - x1)/h\n",
    "    end\n",
    "    return result\n",
    "end\n",
    "\n",
    "function dfdu(x,u)\n",
    "    prob_init = ODEProblem(quadrotor_dynamics, x, (0, h), u)\n",
    "    x1 = solve(prob_init, Tsit5())[end]\n",
    "    result = zeros(Nx,Nu)\n",
    "    for i in 1:Nu\n",
    "        du = zeros(Nu)\n",
    "        du[i] = h\n",
    "        prob_i = ODEProblem(quadrotor_dynamics, x, (0, h), u + du)\n",
    "        x1_ui = solve(prob_i, Tsit5())[end]\n",
    "        result[:, i] .= (x1_ui - x1)/h\n",
    "    end\n",
    "    return result\n",
    "end"
   ]
  },
  {
   "cell_type": "code",
   "execution_count": 10,
   "metadata": {},
   "outputs": [
    {
     "data": {
      "text/plain": [
       "dynamics_rk4 (generic function with 1 method)"
      ]
     },
     "execution_count": 10,
     "metadata": {},
     "output_type": "execute_result"
    }
   ],
   "source": [
    "function dynamics_rk4(x,u)\n",
    "    #RK4 integration with zero-order hold on u\n",
    "    prob_init = ODEProblem(quadrotor_dynamics, x, (0, h), u)\n",
    "    xn = solve(prob_init, TRBDF2())[end]\n",
    "    xn[4:7] .= xn[4:7]/norm(xn[4:7])\n",
    "    return xn\n",
    "end"
   ]
  },
  {
   "cell_type": "code",
   "execution_count": 11,
   "metadata": {},
   "outputs": [],
   "source": [
    "Tfinal = 2.0 # final time\n",
    "Nt = Int(Tfinal/h)+1    # number of time steps\n",
    "thist = Array(range(0,h*(Nt-1), step=h));"
   ]
  },
  {
   "cell_type": "code",
   "execution_count": 12,
   "metadata": {},
   "outputs": [],
   "source": [
    "# Cost weights\n",
    "Q = Diagonal([1.0 * ones(7); 0.1 * ones(6)]);\n",
    "R = Array(0.001*I(Nu));\n",
    "Qn = Array(1000.0*I(Nx));"
   ]
  },
  {
   "cell_type": "code",
   "execution_count": 13,
   "metadata": {},
   "outputs": [
    {
     "data": {
      "text/plain": [
       "stage_cost (generic function with 1 method)"
      ]
     },
     "execution_count": 13,
     "metadata": {},
     "output_type": "execute_result"
    }
   ],
   "source": [
    "function stage_cost(x,u)\n",
    "    return 0.5*((x-xgoal)'*Q*(x-xgoal)) + 0.5(u'*R*u)\n",
    "end"
   ]
  },
  {
   "cell_type": "code",
   "execution_count": 14,
   "metadata": {},
   "outputs": [
    {
     "data": {
      "text/plain": [
       "terminal_cost (generic function with 1 method)"
      ]
     },
     "execution_count": 14,
     "metadata": {},
     "output_type": "execute_result"
    }
   ],
   "source": [
    "function terminal_cost(x)\n",
    "    return 0.5*(x-xgoal)'*Qn*(x-xgoal)\n",
    "end\n",
    "# посмотреть как делают остальные"
   ]
  },
  {
   "cell_type": "code",
   "execution_count": 15,
   "metadata": {},
   "outputs": [
    {
     "data": {
      "text/plain": [
       "cost (generic function with 1 method)"
      ]
     },
     "execution_count": 15,
     "metadata": {},
     "output_type": "execute_result"
    }
   ],
   "source": [
    "function cost(xtraj,utraj)\n",
    "    J = 0.0\n",
    "    for k = 1:(Nt-1)\n",
    "        J += stage_cost(xtraj[:,k],utraj[:,k])\n",
    "        # display(J)\n",
    "    end\n",
    "    J += terminal_cost(xtraj[:,Nt])\n",
    "    \n",
    "    return J\n",
    "end"
   ]
  },
  {
   "cell_type": "code",
   "execution_count": 16,
   "metadata": {},
   "outputs": [
    {
     "data": {
      "text/plain": [
       "backward_pass! (generic function with 1 method)"
      ]
     },
     "execution_count": 16,
     "metadata": {},
     "output_type": "execute_result"
    }
   ],
   "source": [
    "function backward_pass!(p,P,d,K)\n",
    "    \n",
    "    ΔJ = 0.0\n",
    "    p[:,Nt] .= Qn*(xtraj[:,Nt]-xgoal)\n",
    "    P[:,:,Nt] .= Qn\n",
    "    \n",
    "    for k = (Nt-1):-1:1\n",
    "        #Calculate derivatives\n",
    "        q = Q*(xtraj[:,k]-xgoal)\n",
    "        r = R*utraj[:, k]\n",
    "    \n",
    "        A = dfdx(xtraj[:,k], utraj[:,k]) #ForwardDiff.jacobian(dx->dynamics_rk4(dx,utraj[k]),xtraj[:,k])\n",
    "        B = dfdu(xtraj[:,k], utraj[:,k]) #ForwardDiff.derivative(du->dynamics_rk4(xtraj[:,k],du),utraj[k])\n",
    "        \n",
    "        # Ax = dAdx(xtraj[:,k], utraj[:,k])\n",
    "        # Bx = dBdx(xtraj[:,k], utraj[:,k])\n",
    "        # Au = dAdu(xtraj[:,k], utraj[:,k])\n",
    "        # Bu = dBdu(xtraj[:,k], utraj[:,k])\n",
    "    \n",
    "        gx = q + A'*p[:,k+1]\n",
    "        gu = r + B'*p[:,k+1]\n",
    "    \n",
    "        #iLQR (Gauss-Newton) version\n",
    "        Gxx = Q + A'*P[:,:,k+1]*A\n",
    "        Guu = R + B'*P[:,:,k+1]*B\n",
    "        Gxu = A'*P[:,:,k+1]*B\n",
    "        Gux = B'*P[:,:,k+1]*A\n",
    "        \n",
    "        #DDP (full Newton) version\n",
    "        # Gxx = Q + A'*P[:,:,k+1]*A + kron(p[:,k+1]',I(Nx))*comm(Nx,Nx)*Ax\n",
    "        # Guu = R + B'*P[:,:,k+1]*B + (kron(p[:,k+1]',I(Nu))*comm(Nx,Nu)*Bu)[1]\n",
    "        # Gxu = A'*P[:,:,k+1]*B + kron(p[:,k+1]',I(Nx))*comm(Nx,Nx)*Au\n",
    "        # Gux = B'*P[:,:,k+1]*A + kron(p[:,k+1]',I(Nu))*comm(Nx,Nu)*Bx\n",
    "        \n",
    "        β = 0.1\n",
    "        while !isposdef(Symmetric([Gxx Gxu; Gux Guu]))\n",
    "            Gxx += A'*β*I*A\n",
    "            Guu += B'*β*I*B\n",
    "            Gxu += A'*β*I*B\n",
    "            Gux += B'*β*I*A\n",
    "            β = 2*β\n",
    "            # display(\"regularizing G\")\n",
    "            if β == Inf\n",
    "                return NaN\n",
    "            end\n",
    "        end\n",
    "\n",
    "        try\n",
    "            _ = Guu \\ ones(size(Guu,1))\n",
    "        catch e\n",
    "            if isa(e, SingularException)\n",
    "                return NaN\n",
    "            end\n",
    "        end\n",
    "\n",
    "        d[:,k] .= Guu\\gu\n",
    "        K[:,:,k] .= Guu\\Gux\n",
    "    \n",
    "        p[:,k] .= gx - K[:,:,k]'*gu + K[:,:,k]'*Guu*d[:,k] - Gxu*d[:,k]\n",
    "        P[:,:,k] .= Gxx + K[:,:,k]'*Guu*K[:,:,k] - Gxu*K[:,:,k] - K[:,:,k]'*Gux\n",
    "    \n",
    "        ΔJ += gu'*d[:,k]\n",
    "    end\n",
    "    \n",
    "    return ΔJ\n",
    "end"
   ]
  },
  {
   "cell_type": "code",
   "execution_count": null,
   "metadata": {},
   "outputs": [],
   "source": []
  },
  {
   "cell_type": "code",
   "execution_count": 17,
   "metadata": {},
   "outputs": [],
   "source": [
    "#Initial guess\n",
    "m=a.mass\n",
    "g=9.81\n",
    "uhover = SVector{Nu}([0; 0; m*g;0;0;0])\n",
    "x0 = ([0.0; 0.0; 0; 1; 0; 0; 0; 0; 0; 0; 0; 0; 0])\n",
    "xgoal = SVector{13}([0.0; 0.0; 0.0; 0.965926; 0.258819; 0.0; 0.0; 0; 0; 0; 0; 0; 0])\n",
    "xtraj = kron(ones(1,Nt), x0)\n",
    "utraj = zeros(Nu, Nt-1) .+ uhover\n",
    "#f = jldopen(\"guess.jld2\", \"r\")\n",
    "#utraj = f[\"utraj\"];"
   ]
  },
  {
   "cell_type": "code",
   "execution_count": 18,
   "metadata": {},
   "outputs": [
    {
     "data": {
      "text/latex": [
       "\\begin{verbatim}\n",
       "Quadrotor{R}\n",
       "\\end{verbatim}\n",
       "A standard quadrotor model, with simple aerodynamic forces. The orientation is represent by a general rotation \\texttt{R}. The body z-axis point is vertical, so positive controls cause acceleration in the positive z direction.\n",
       "\n",
       "\\section{Constructor}\n",
       "\\begin{verbatim}\n",
       "Quadrotor(; kwargs...)\n",
       "Quadrotor{R}(; kwargs...)\n",
       "\\end{verbatim}\n",
       "where \\texttt{R <: Rotation\\{3\\}} and defaults to \\texttt{UnitQuaternion\\{Float64\\}} if omitted. The keyword arguments are\n",
       "\n",
       "\\begin{itemize}\n",
       "\\item \\texttt{mass} - mass of the quadrotor, in kg (default = 0.5)\n",
       "\n",
       "\n",
       "\\item \\texttt{J} - inertia of the quadrotor, in kg⋅m² (default = \\texttt{Diagonal([0.0023, 0.0023, 0.004])})\n",
       "\n",
       "\n",
       "\\item \\texttt{gravity} - gravity vector, in kg/m² (default = [0,0,-9.81])\n",
       "\n",
       "\n",
       "\\item \\texttt{motor\\_dist} - distane between the motors, in m (default = 0.1750)\n",
       "\n",
       "\n",
       "\\item \\texttt{km} - motor torque constant (default = 0.0245)\n",
       "\n",
       "\n",
       "\\item \\texttt{kf} - motor force constant (default = 1.0)\n",
       "\n",
       "\\end{itemize}\n"
      ],
      "text/markdown": [
       "```\n",
       "Quadrotor{R}\n",
       "```\n",
       "\n",
       "A standard quadrotor model, with simple aerodynamic forces. The orientation is represent by a general rotation `R`. The body z-axis point is vertical, so positive controls cause acceleration in the positive z direction.\n",
       "\n",
       "# Constructor\n",
       "\n",
       "```\n",
       "Quadrotor(; kwargs...)\n",
       "Quadrotor{R}(; kwargs...)\n",
       "```\n",
       "\n",
       "where `R <: Rotation{3}` and defaults to `UnitQuaternion{Float64}` if omitted. The keyword arguments are\n",
       "\n",
       "  * `mass` - mass of the quadrotor, in kg (default = 0.5)\n",
       "  * `J` - inertia of the quadrotor, in kg⋅m² (default = `Diagonal([0.0023, 0.0023, 0.004])`)\n",
       "  * `gravity` - gravity vector, in kg/m² (default = [0,0,-9.81])\n",
       "  * `motor_dist` - distane between the motors, in m (default = 0.1750)\n",
       "  * `km` - motor torque constant (default = 0.0245)\n",
       "  * `kf` - motor force constant (default = 1.0)\n"
      ],
      "text/plain": [
       "\u001b[36m  Quadrotor{R}\u001b[39m\n",
       "\n",
       "  A standard quadrotor model, with simple aerodynamic forces. The orientation\n",
       "  is represent by a general rotation \u001b[36mR\u001b[39m. The body z-axis point is vertical, so\n",
       "  positive controls cause acceleration in the positive z direction.\n",
       "\n",
       "\u001b[1m  Constructor\u001b[22m\n",
       "\u001b[1m  ≡≡≡≡≡≡≡≡≡≡≡≡≡\u001b[22m\n",
       "\n",
       "\u001b[36m  Quadrotor(; kwargs...)\u001b[39m\n",
       "\u001b[36m  Quadrotor{R}(; kwargs...)\u001b[39m\n",
       "\n",
       "  where \u001b[36mR <: Rotation{3}\u001b[39m and defaults to \u001b[36mUnitQuaternion{Float64}\u001b[39m if omitted.\n",
       "  The keyword arguments are\n",
       "\n",
       "    •  \u001b[36mmass\u001b[39m - mass of the quadrotor, in kg (default = 0.5)\n",
       "\n",
       "    •  \u001b[36mJ\u001b[39m - inertia of the quadrotor, in kg⋅m² (default =\n",
       "       \u001b[36mDiagonal([0.0023, 0.0023, 0.004])\u001b[39m)\n",
       "\n",
       "    •  \u001b[36mgravity\u001b[39m - gravity vector, in kg/m² (default = [0,0,-9.81])\n",
       "\n",
       "    •  \u001b[36mmotor_dist\u001b[39m - distane between the motors, in m (default = 0.1750)\n",
       "\n",
       "    •  \u001b[36mkm\u001b[39m - motor torque constant (default = 0.0245)\n",
       "\n",
       "    •  \u001b[36mkf\u001b[39m - motor force constant (default = 1.0)"
      ]
     },
     "execution_count": 18,
     "metadata": {},
     "output_type": "execute_result"
    }
   ],
   "source": [
    "?RobotZoo.Quadrotor"
   ]
  },
  {
   "cell_type": "code",
   "execution_count": 19,
   "metadata": {},
   "outputs": [
    {
     "data": {
      "text/plain": [
       "35.91830286324001"
      ]
     },
     "execution_count": 19,
     "metadata": {},
     "output_type": "execute_result"
    }
   ],
   "source": [
    "#Initial Rollout\n",
    "for k = 1:(Nt-1)\n",
    "    xtraj[:,k+1] .= dynamics_rk4(xtraj[:,k],utraj[:,k])\n",
    "end\n",
    "J = cost(xtraj,utraj)"
   ]
  },
  {
   "cell_type": "code",
   "execution_count": 20,
   "metadata": {},
   "outputs": [
    {
     "data": {
      "text/plain": [
       "0.9499713877985294"
      ]
     },
     "metadata": {},
     "output_type": "display_data"
    },
    {
     "data": {
      "text/plain": [
       "0.9498927029330974"
      ]
     },
     "metadata": {},
     "output_type": "display_data"
    },
    {
     "data": {
      "text/plain": [
       "0.9498927029314328"
      ]
     },
     "metadata": {},
     "output_type": "display_data"
    }
   ],
   "source": [
    "#DDP Algorithm\n",
    "p = ones(Nx,Nt)\n",
    "P = zeros(Nx,Nx,Nt)\n",
    "d = ones(Nu,Nt-1)\n",
    "K = zeros(Nu,Nx,Nt-1)\n",
    "ΔJ = 1.0\n",
    "\n",
    "xn = zeros(Nx,Nt)\n",
    "un = zeros(Nu,Nt-1)\n",
    "\n",
    "gx = zeros(Nx)\n",
    "gu = zeros(Nu)\n",
    "Gxx = zeros(Nx,Nx)\n",
    "Guu = zeros(Nu)\n",
    "Gxu = zeros(Nx)\n",
    "Gux = zeros(Nx)\n",
    "\n",
    "iter = 0\n",
    "Jp = 0\n",
    "while abs(Jp-J) >  5 * 1e-5\n",
    "    iter += 1    \n",
    "    \n",
    "    #Backward Pass\n",
    "    ΔJ = backward_pass!(p,P,d,K)\n",
    "    if isnan(ΔJ)\n",
    "        stop = true\n",
    "        break\n",
    "    end\n",
    "    \n",
    "    #Forward rollout with line search\n",
    "    xn[:,1] = xtraj[:,1]\n",
    "    α = 1.0\n",
    "    \n",
    "    # display(K[:,:,1] * (xn[:,1]-xtraj[:,1]))\n",
    "    # display(utraj[:,1] - α*d[:,1] - K[:,:,1] * (xn[:,1]-xtraj[:,1]))\n",
    "    \n",
    "    for k = 1:(Nt-1)\n",
    "        un[:,k] .= utraj[:,k] - α*d[:,k] - K[:,:,k] * (xn[:,k]-xtraj[:,k])\n",
    "        xn[:,k+1] .= dynamics_rk4(xn[:,k],un[:,k])\n",
    "    end\n",
    "    Jn = cost(xn,un)\n",
    "    # display(Jn)\n",
    "    while isnan(Jn) || Jn > (J - 1e-2*α*ΔJ)\n",
    "        α = 0.5*α\n",
    "        for k = 1:(Nt-1)\n",
    "            un[:,k] .= utraj[:,k] - α*d[:,k] - K[:,:,k] * (xn[:,k]-xtraj[:,k])\n",
    "            xn[:,k+1] .= dynamics_rk4(xn[:,k],un[:,k])\n",
    "        end\n",
    "        Jn = cost(xn,un)\n",
    "        # display(Jn)\n",
    "    end\n",
    "    Jp = J\n",
    "    J = Jn\n",
    "    xtraj .= xn\n",
    "    utraj .= un\n",
    "    display(J)\n",
    "    # display(iter)\n",
    "    # display(α)\n",
    "    # display(maximum(abs.(d[:])))\n",
    "    # display(xtraj[:, Nt])\n",
    "end"
   ]
  },
  {
   "cell_type": "code",
   "execution_count": 21,
   "metadata": {},
   "outputs": [
    {
     "data": {
      "text/plain": [
       "3"
      ]
     },
     "execution_count": 21,
     "metadata": {},
     "output_type": "execute_result"
    }
   ],
   "source": [
    "iter"
   ]
  },
  {
   "cell_type": "code",
   "execution_count": 22,
   "metadata": {},
   "outputs": [
    {
     "data": {
      "text/plain": [
       "3×3 QuatRotation{Float64} with indices SOneTo(3)×SOneTo(3)(QuaternionF64(0.368871, -0.754934, 0.206149, -0.501509)):\n",
       "  0.411982   0.0587266   0.909297\n",
       " -0.681243  -0.642873    0.350175\n",
       "  0.605127  -0.763718   -0.224845"
      ]
     },
     "execution_count": 22,
     "metadata": {},
     "output_type": "execute_result"
    }
   ],
   "source": [
    "QuatRotation(RotXYZ(1,2,3))"
   ]
  },
  {
   "cell_type": "code",
   "execution_count": 23,
   "metadata": {},
   "outputs": [
    {
     "data": {
      "text/plain": [
       "0.9498927029314328"
      ]
     },
     "execution_count": 23,
     "metadata": {},
     "output_type": "execute_result"
    }
   ],
   "source": [
    "J"
   ]
  },
  {
   "cell_type": "code",
   "execution_count": 24,
   "metadata": {},
   "outputs": [
    {
     "data": {
      "image/png": "[encoded data removed]",
      "text/plain": [
       "Figure(PyObject <Figure size 640x480 with 1 Axes>)"
      ]
     },
     "metadata": {},
     "output_type": "display_data"
    },
    {
     "data": {
      "text/plain": [
       "1-element Vector{PyCall.PyObject}:\n",
       " PyObject <matplotlib.lines.Line2D object at 0x000000006A1A8470>"
      ]
     },
     "execution_count": 24,
     "metadata": {},
     "output_type": "execute_result"
    }
   ],
   "source": [
    "plot(thist,xtraj[1,:])\n",
    "plot(thist,xtraj[2,:])\n",
    "plot(thist,xtraj[3,:])"
   ]
  },
  {
   "cell_type": "code",
   "execution_count": 25,
   "metadata": {},
   "outputs": [
    {
     "data": {
      "image/png": "[encoded data removed]",
      "text/plain": [
       "Figure(PyObject <Figure size 640x480 with 1 Axes>)"
      ]
     },
     "metadata": {},
     "output_type": "display_data"
    },
    {
     "data": {
      "text/plain": [
       "1-element Vector{PyCall.PyObject}:\n",
       " PyObject <matplotlib.lines.Line2D object at 0x000000006A28BDA0>"
      ]
     },
     "execution_count": 25,
     "metadata": {},
     "output_type": "execute_result"
    }
   ],
   "source": [
    "plot(thist,xtraj[4,:])\n",
    "plot(thist,xtraj[5,:])\n",
    "plot(thist,xtraj[6,:])\n",
    "plot(thist,xtraj[7,:])"
   ]
  },
  {
   "cell_type": "code",
   "execution_count": 26,
   "metadata": {},
   "outputs": [
    {
     "data": {
      "image/png": "[encoded data removed]",
      "text/plain": [
       "Figure(PyObject <Figure size 640x480 with 1 Axes>)"
      ]
     },
     "metadata": {},
     "output_type": "display_data"
    },
    {
     "data": {
      "text/plain": [
       "PyObject <matplotlib.legend.Legend object at 0x00000000777D6630>"
      ]
     },
     "execution_count": 26,
     "metadata": {},
     "output_type": "execute_result"
    }
   ],
   "source": [
    "# ошибку вычисляем с помощью матриц вращения, потом перевести в angleaxis. Вывести только угол ошибки\n",
    "ang_errors = zeros(Nt)\n",
    "pos_errors = zeros(Nt)\n",
    "r_des = xgoal[1:3]\n",
    "q_des = xgoal[4:7]\n",
    "for i in 1:Nt\n",
    "    x = xtraj[:, i]\n",
    "    r = x[1:3]\n",
    "    q = x[4:7]\n",
    "    err_ang = QuatRotation(q_des) * QuatRotation(q)'\n",
    "    ang_errors[i] = AngleAxis(QuatRotation(err_ang)).theta\n",
    "    pos_errors[i] = norm(r-r_des)\n",
    "end\n",
    "plot(thist, ang_errors, label=\"orientation error\")\n",
    "plot(thist, pos_errors, label=\"position error\")\n",
    "legend()"
   ]
  },
  {
   "cell_type": "code",
   "execution_count": 27,
   "metadata": {},
   "outputs": [],
   "source": [
    "# траектория с промежуточной точкой\n",
    "# оживить эйелера"
   ]
  },
  {
   "cell_type": "code",
   "execution_count": 28,
   "metadata": {},
   "outputs": [
    {
     "data": {
      "image/png": "[encoded data removed]",
      "text/plain": [
       "Figure(PyObject <Figure size 640x480 with 1 Axes>)"
      ]
     },
     "metadata": {},
     "output_type": "display_data"
    },
    {
     "data": {
      "text/plain": [
       "1-element Vector{PyCall.PyObject}:\n",
       " PyObject <matplotlib.lines.Line2D object at 0x00000000017BAA50>"
      ]
     },
     "execution_count": 28,
     "metadata": {},
     "output_type": "execute_result"
    }
   ],
   "source": [
    "plot(thist[1:Nt-1],utraj[1,:])\n",
    "plot(thist[1:Nt-1],utraj[2,:])\n",
    "plot(thist[1:Nt-1],utraj[3,:])\n",
    "plot(thist[1:Nt-1],utraj[4,:])"
   ]
  },
  {
   "cell_type": "code",
   "execution_count": 29,
   "metadata": {},
   "outputs": [
    {
     "name": "stderr",
     "output_type": "stream",
     "text": [
      "\u001b[33m\u001b[1m┌ \u001b[22m\u001b[39m\u001b[33m\u001b[1mWarning: \u001b[22m\u001b[39mError requiring `MathOptInterface` from `Optim`\n",
      "\u001b[33m\u001b[1m│ \u001b[22m\u001b[39m  exception =\n",
      "\u001b[33m\u001b[1m│ \u001b[22m\u001b[39m   LoadError: UndefVarError: VariablesContainer not defined\n",
      "\u001b[33m\u001b[1m│ \u001b[22m\u001b[39m   Stacktrace:\n",
      "\u001b[33m\u001b[1m│ \u001b[22m\u001b[39m     [1] \u001b[0m\u001b[1mgetproperty\u001b[22m\u001b[0m\u001b[1m(\u001b[22m\u001b[90mx\u001b[39m::\u001b[0mModule, \u001b[90mf\u001b[39m::\u001b[0mSymbol\u001b[0m\u001b[1m)\u001b[22m\n",
      "\u001b[33m\u001b[1m│ \u001b[22m\u001b[39m   \u001b[90m    @ \u001b[39m\u001b[90mBase\u001b[39m \u001b[90m.\\\u001b[39m\u001b[90m\u001b[4mBase.jl:35\u001b[24m\u001b[39m\n",
      "\u001b[33m\u001b[1m│ \u001b[22m\u001b[39m     [2] top-level scope\n",
      "\u001b[33m\u001b[1m│ \u001b[22m\u001b[39m   \u001b[90m    @ \u001b[39m\u001b[90mC:\\Users\\g.kirillov\\.julia\\packages\\Optim\\DV9Sq\\ext\\\u001b[39m\u001b[90m\u001b[4mOptimMOIExt.jl:22\u001b[24m\u001b[39m\n",
      "\u001b[33m\u001b[1m│ \u001b[22m\u001b[39m     [3] \u001b[0m\u001b[1minclude\u001b[22m\n",
      "\u001b[33m\u001b[1m│ \u001b[22m\u001b[39m   \u001b[90m    @ \u001b[39m\u001b[90m.\\\u001b[39m\u001b[90m\u001b[4mBase.jl:419\u001b[24m\u001b[39m\u001b[90m [inlined]\u001b[39m\n",
      "\u001b[33m\u001b[1m│ \u001b[22m\u001b[39m     [4] \u001b[0m\u001b[1m_include\u001b[22m\u001b[0m\u001b[1m(\u001b[22m\u001b[90mmapexpr\u001b[39m::\u001b[0mFunction, \u001b[90mm\u001b[39m::\u001b[0mModule, \u001b[90mpath\u001b[39m::\u001b[0mString\u001b[0m\u001b[1m)\u001b[22m\n",
      "\u001b[33m\u001b[1m│ \u001b[22m\u001b[39m   \u001b[90m    @ \u001b[39m\u001b[35mPackageExtensionCompat\u001b[39m \u001b[90mC:\\Users\\g.kirillov\\.julia\\packages\\PackageExtensionCompat\\BTCUg\\src\\\u001b[39m\u001b[90m\u001b[4mPackageExtensionCompat.jl:12\u001b[24m\u001b[39m\n",
      "\u001b[33m\u001b[1m│ \u001b[22m\u001b[39m     [5] top-level scope\n",
      "\u001b[33m\u001b[1m│ \u001b[22m\u001b[39m   \u001b[90m    @ \u001b[39m\u001b[90m\u001b[4mnone:1\u001b[24m\u001b[39m\n",
      "\u001b[33m\u001b[1m│ \u001b[22m\u001b[39m     [6] \u001b[0m\u001b[1meval\u001b[22m\n",
      "\u001b[33m\u001b[1m│ \u001b[22m\u001b[39m   \u001b[90m    @ \u001b[39m\u001b[90m.\\\u001b[39m\u001b[90m\u001b[4mboot.jl:373\u001b[24m\u001b[39m\u001b[90m [inlined]\u001b[39m\n",
      "\u001b[33m\u001b[1m│ \u001b[22m\u001b[39m     [7] \u001b[0m\u001b[1meval\u001b[22m\n",
      "\u001b[33m\u001b[1m│ \u001b[22m\u001b[39m   \u001b[90m    @ \u001b[39m\u001b[90mC:\\Users\\g.kirillov\\.julia\\packages\\Optim\\DV9Sq\\src\\\u001b[39m\u001b[90m\u001b[4mOptim.jl:17\u001b[24m\u001b[39m\u001b[90m [inlined]\u001b[39m\n",
      "\u001b[33m\u001b[1m│ \u001b[22m\u001b[39m     [8] \u001b[0m\u001b[1m(::Optim.var\"#153#156\")\u001b[22m\u001b[0m\u001b[1m(\u001b[22m\u001b[0m\u001b[1m)\u001b[22m\n",
      "\u001b[33m\u001b[1m│ \u001b[22m\u001b[39m   \u001b[90m    @ \u001b[39m\u001b[36mOptim\u001b[39m \u001b[90mC:\\Users\\g.kirillov\\.julia\\packages\\Requires\\1eCOK\\src\\\u001b[39m\u001b[90m\u001b[4mrequire.jl:101\u001b[24m\u001b[39m\n",
      "\u001b[33m\u001b[1m│ \u001b[22m\u001b[39m     [9] \u001b[0m\u001b[1mmacro expansion\u001b[22m\n",
      "\u001b[33m\u001b[1m│ \u001b[22m\u001b[39m   \u001b[90m    @ \u001b[39m\u001b[90m\u001b[4mtiming.jl:299\u001b[24m\u001b[39m\u001b[90m [inlined]\u001b[39m\n",
      "\u001b[33m\u001b[1m│ \u001b[22m\u001b[39m    [10] \u001b[0m\u001b[1merr\u001b[22m\u001b[0m\u001b[1m(\u001b[22m\u001b[90mf\u001b[39m::\u001b[0mAny, \u001b[90mlistener\u001b[39m::\u001b[0mModule, \u001b[90mmodname\u001b[39m::\u001b[0mString, \u001b[90mfile\u001b[39m::\u001b[0mString, \u001b[90mline\u001b[39m::\u001b[0mAny\u001b[0m\u001b[1m)\u001b[22m\n",
      "\u001b[33m\u001b[1m│ \u001b[22m\u001b[39m   \u001b[90m    @ \u001b[39m\u001b[32mRequires\u001b[39m \u001b[90mC:\\Users\\g.kirillov\\.julia\\packages\\Requires\\1eCOK\\src\\\u001b[39m\u001b[90m\u001b[4mrequire.jl:47\u001b[24m\u001b[39m\n",
      "\u001b[33m\u001b[1m│ \u001b[22m\u001b[39m    [11] \u001b[0m\u001b[1m(::Optim.var\"#152#155\")\u001b[22m\u001b[0m\u001b[1m(\u001b[22m\u001b[0m\u001b[1m)\u001b[22m\n",
      "\u001b[33m\u001b[1m│ \u001b[22m\u001b[39m   \u001b[90m    @ \u001b[39m\u001b[36mOptim\u001b[39m \u001b[90mC:\\Users\\g.kirillov\\.julia\\packages\\Requires\\1eCOK\\src\\\u001b[39m\u001b[90m\u001b[4mrequire.jl:100\u001b[24m\u001b[39m\n",
      "\u001b[33m\u001b[1m│ \u001b[22m\u001b[39m    [12] \u001b[0m\u001b[1mwithpath\u001b[22m\u001b[0m\u001b[1m(\u001b[22m\u001b[90mf\u001b[39m::\u001b[0mAny, \u001b[90mpath\u001b[39m::\u001b[0mString\u001b[0m\u001b[1m)\u001b[22m\n",
      "\u001b[33m\u001b[1m│ \u001b[22m\u001b[39m   \u001b[90m    @ \u001b[39m\u001b[32mRequires\u001b[39m \u001b[90mC:\\Users\\g.kirillov\\.julia\\packages\\Requires\\1eCOK\\src\\\u001b[39m\u001b[90m\u001b[4mrequire.jl:37\u001b[24m\u001b[39m\n",
      "\u001b[33m\u001b[1m│ \u001b[22m\u001b[39m    [13] \u001b[0m\u001b[1m(::Optim.var\"#151#154\")\u001b[22m\u001b[0m\u001b[1m(\u001b[22m\u001b[0m\u001b[1m)\u001b[22m\n",
      "\u001b[33m\u001b[1m│ \u001b[22m\u001b[39m   \u001b[90m    @ \u001b[39m\u001b[36mOptim\u001b[39m \u001b[90mC:\\Users\\g.kirillov\\.julia\\packages\\Requires\\1eCOK\\src\\\u001b[39m\u001b[90m\u001b[4mrequire.jl:99\u001b[24m\u001b[39m\n",
      "\u001b[33m\u001b[1m│ \u001b[22m\u001b[39m    [14] \u001b[0m\u001b[1m#invokelatest#2\u001b[22m\n",
      "\u001b[33m\u001b[1m│ \u001b[22m\u001b[39m   \u001b[90m    @ \u001b[39m\u001b[90m.\\\u001b[39m\u001b[90m\u001b[4messentials.jl:716\u001b[24m\u001b[39m\u001b[90m [inlined]\u001b[39m\n",
      "\u001b[33m\u001b[1m│ \u001b[22m\u001b[39m    [15] \u001b[0m\u001b[1minvokelatest\u001b[22m\n",
      "\u001b[33m\u001b[1m│ \u001b[22m\u001b[39m   \u001b[90m    @ \u001b[39m\u001b[90m.\\\u001b[39m\u001b[90m\u001b[4messentials.jl:714\u001b[24m\u001b[39m\u001b[90m [inlined]\u001b[39m\n",
      "\u001b[33m\u001b[1m│ \u001b[22m\u001b[39m    [16] \u001b[0m\u001b[1mforeach\u001b[22m\u001b[0m\u001b[1m(\u001b[22m\u001b[90mf\u001b[39m::\u001b[0mtypeof(Base.invokelatest), \u001b[90mitr\u001b[39m::\u001b[0mVector\u001b[90m{Function}\u001b[39m\u001b[0m\u001b[1m)\u001b[22m\n",
      "\u001b[33m\u001b[1m│ \u001b[22m\u001b[39m   \u001b[90m    @ \u001b[39m\u001b[90mBase\u001b[39m \u001b[90m.\\\u001b[39m\u001b[90m\u001b[4mabstractarray.jl:2712\u001b[24m\u001b[39m\n",
      "\u001b[33m\u001b[1m│ \u001b[22m\u001b[39m    [17] \u001b[0m\u001b[1mloadpkg\u001b[22m\u001b[0m\u001b[1m(\u001b[22m\u001b[90mpkg\u001b[39m::\u001b[0mBase.PkgId\u001b[0m\u001b[1m)\u001b[22m\n",
      "\u001b[33m\u001b[1m│ \u001b[22m\u001b[39m   \u001b[90m    @ \u001b[39m\u001b[32mRequires\u001b[39m \u001b[90mC:\\Users\\g.kirillov\\.julia\\packages\\Requires\\1eCOK\\src\\\u001b[39m\u001b[90m\u001b[4mrequire.jl:27\u001b[24m\u001b[39m\n",
      "\u001b[33m\u001b[1m│ \u001b[22m\u001b[39m    [18] \u001b[0m\u001b[1m#invokelatest#2\u001b[22m\n",
      "\u001b[33m\u001b[1m│ \u001b[22m\u001b[39m   \u001b[90m    @ \u001b[39m\u001b[90m.\\\u001b[39m\u001b[90m\u001b[4messentials.jl:716\u001b[24m\u001b[39m\u001b[90m [inlined]\u001b[39m\n",
      "\u001b[33m\u001b[1m│ \u001b[22m\u001b[39m    [19] \u001b[0m\u001b[1minvokelatest\u001b[22m\n",
      "\u001b[33m\u001b[1m│ \u001b[22m\u001b[39m   \u001b[90m    @ \u001b[39m\u001b[90m.\\\u001b[39m\u001b[90m\u001b[4messentials.jl:714\u001b[24m\u001b[39m\u001b[90m [inlined]\u001b[39m\n",
      "\u001b[33m\u001b[1m│ \u001b[22m\u001b[39m    [20] \u001b[0m\u001b[1m_tryrequire_from_serialized\u001b[22m\u001b[0m\u001b[1m(\u001b[22m\u001b[90mmodkey\u001b[39m::\u001b[0mBase.PkgId, \u001b[90mbuild_id\u001b[39m::\u001b[0mUInt64, \u001b[90mmodpath\u001b[39m::\u001b[0mString\u001b[0m\u001b[1m)\u001b[22m\n",
      "\u001b[33m\u001b[1m│ \u001b[22m\u001b[39m   \u001b[90m    @ \u001b[39m\u001b[90mBase\u001b[39m \u001b[90m.\\\u001b[39m\u001b[90m\u001b[4mloading.jl:787\u001b[24m\u001b[39m\n",
      "\u001b[33m\u001b[1m│ \u001b[22m\u001b[39m    [21] \u001b[0m\u001b[1m_require_search_from_serialized\u001b[22m\u001b[0m\u001b[1m(\u001b[22m\u001b[90mpkg\u001b[39m::\u001b[0mBase.PkgId, \u001b[90msourcepath\u001b[39m::\u001b[0mString\u001b[0m\u001b[1m)\u001b[22m\n",
      "\u001b[33m\u001b[1m│ \u001b[22m\u001b[39m   \u001b[90m    @ \u001b[39m\u001b[90mBase\u001b[39m \u001b[90m.\\\u001b[39m\u001b[90m\u001b[4mloading.jl:843\u001b[24m\u001b[39m\n",
      "\u001b[33m\u001b[1m│ \u001b[22m\u001b[39m    [22] \u001b[0m\u001b[1m_tryrequire_from_serialized\u001b[22m\u001b[0m\u001b[1m(\u001b[22m\u001b[90mmodkey\u001b[39m::\u001b[0mBase.PkgId, \u001b[90mbuild_id\u001b[39m::\u001b[0mUInt64, \u001b[90mmodpath\u001b[39m::\u001b[0mString\u001b[0m\u001b[1m)\u001b[22m\n",
      "\u001b[33m\u001b[1m│ \u001b[22m\u001b[39m   \u001b[90m    @ \u001b[39m\u001b[90mBase\u001b[39m \u001b[90m.\\\u001b[39m\u001b[90m\u001b[4mloading.jl:783\u001b[24m\u001b[39m\n",
      "\u001b[33m\u001b[1m│ \u001b[22m\u001b[39m    [23] \u001b[0m\u001b[1m_require_search_from_serialized\u001b[22m\u001b[0m\u001b[1m(\u001b[22m\u001b[90mpkg\u001b[39m::\u001b[0mBase.PkgId, \u001b[90msourcepath\u001b[39m::\u001b[0mString\u001b[0m\u001b[1m)\u001b[22m\n",
      "\u001b[33m\u001b[1m│ \u001b[22m\u001b[39m   \u001b[90m    @ \u001b[39m\u001b[90mBase\u001b[39m \u001b[90m.\\\u001b[39m\u001b[90m\u001b[4mloading.jl:843\u001b[24m\u001b[39m\n",
      "\u001b[33m\u001b[1m│ \u001b[22m\u001b[39m    [24] \u001b[0m\u001b[1m_require\u001b[22m\u001b[0m\u001b[1m(\u001b[22m\u001b[90mpkg\u001b[39m::\u001b[0mBase.PkgId\u001b[0m\u001b[1m)\u001b[22m\n",
      "\u001b[33m\u001b[1m│ \u001b[22m\u001b[39m   \u001b[90m    @ \u001b[39m\u001b[90mBase\u001b[39m \u001b[90m.\\\u001b[39m\u001b[90m\u001b[4mloading.jl:1097\u001b[24m\u001b[39m\n",
      "\u001b[33m\u001b[1m│ \u001b[22m\u001b[39m    [25] \u001b[0m\u001b[1mrequire\u001b[22m\u001b[0m\u001b[1m(\u001b[22m\u001b[90muuidkey\u001b[39m::\u001b[0mBase.PkgId\u001b[0m\u001b[1m)\u001b[22m\n",
      "\u001b[33m\u001b[1m│ \u001b[22m\u001b[39m   \u001b[90m    @ \u001b[39m\u001b[90mBase\u001b[39m \u001b[90m.\\\u001b[39m\u001b[90m\u001b[4mloading.jl:1013\u001b[24m\u001b[39m\n",
      "\u001b[33m\u001b[1m│ \u001b[22m\u001b[39m    [26] \u001b[0m\u001b[1mrequire\u001b[22m\u001b[0m\u001b[1m(\u001b[22m\u001b[90minto\u001b[39m::\u001b[0mModule, \u001b[90mmod\u001b[39m::\u001b[0mSymbol\u001b[0m\u001b[1m)\u001b[22m\n",
      "\u001b[33m\u001b[1m│ \u001b[22m\u001b[39m   \u001b[90m    @ \u001b[39m\u001b[90mBase\u001b[39m \u001b[90m.\\\u001b[39m\u001b[90m\u001b[4mloading.jl:997\u001b[24m\u001b[39m\n",
      "\u001b[33m\u001b[1m│ \u001b[22m\u001b[39m    [27] \u001b[0m\u001b[1meval\u001b[22m\n",
      "\u001b[33m\u001b[1m│ \u001b[22m\u001b[39m   \u001b[90m    @ \u001b[39m\u001b[90m.\\\u001b[39m\u001b[90m\u001b[4mboot.jl:373\u001b[24m\u001b[39m\u001b[90m [inlined]\u001b[39m\n",
      "\u001b[33m\u001b[1m│ \u001b[22m\u001b[39m    [28] \u001b[0m\u001b[1minclude_string\u001b[22m\u001b[0m\u001b[1m(\u001b[22m\u001b[90mmapexpr\u001b[39m::\u001b[0mtypeof(REPL.softscope), \u001b[90mmod\u001b[39m::\u001b[0mModule, \u001b[90mcode\u001b[39m::\u001b[0mString, \u001b[90mfilename\u001b[39m::\u001b[0mString\u001b[0m\u001b[1m)\u001b[22m\n",
      "\u001b[33m\u001b[1m│ \u001b[22m\u001b[39m   \u001b[90m    @ \u001b[39m\u001b[90mBase\u001b[39m \u001b[90m.\\\u001b[39m\u001b[90m\u001b[4mloading.jl:1196\u001b[24m\u001b[39m\n",
      "\u001b[33m\u001b[1m│ \u001b[22m\u001b[39m    [29] \u001b[0m\u001b[1msoftscope_include_string\u001b[22m\u001b[0m\u001b[1m(\u001b[22m\u001b[90mm\u001b[39m::\u001b[0mModule, \u001b[90mcode\u001b[39m::\u001b[0mString, \u001b[90mfilename\u001b[39m::\u001b[0mString\u001b[0m\u001b[1m)\u001b[22m\n",
      "\u001b[33m\u001b[1m│ \u001b[22m\u001b[39m   \u001b[90m    @ \u001b[39m\u001b[33mSoftGlobalScope\u001b[39m \u001b[90mC:\\Users\\g.kirillov\\.julia\\packages\\SoftGlobalScope\\u4UzH\\src\\\u001b[39m\u001b[90m\u001b[4mSoftGlobalScope.jl:65\u001b[24m\u001b[39m\n",
      "\u001b[33m\u001b[1m│ \u001b[22m\u001b[39m    [30] \u001b[0m\u001b[1mexecute_request\u001b[22m\u001b[0m\u001b[1m(\u001b[22m\u001b[90msocket\u001b[39m::\u001b[0mZMQ.Socket, \u001b[90mmsg\u001b[39m::\u001b[0mIJulia.Msg\u001b[0m\u001b[1m)\u001b[22m\n",
      "\u001b[33m\u001b[1m│ \u001b[22m\u001b[39m   \u001b[90m    @ \u001b[39m\u001b[35mIJulia\u001b[39m \u001b[90mC:\\Users\\g.kirillov\\.julia\\packages\\IJulia\\dR0lE\\src\\\u001b[39m\u001b[90m\u001b[4mexecute_request.jl:74\u001b[24m\u001b[39m\n",
      "\u001b[33m\u001b[1m│ \u001b[22m\u001b[39m    [31] \u001b[0m\u001b[1m#invokelatest#2\u001b[22m\n",
      "\u001b[33m\u001b[1m│ \u001b[22m\u001b[39m   \u001b[90m    @ \u001b[39m\u001b[90m.\\\u001b[39m\u001b[90m\u001b[4messentials.jl:716\u001b[24m\u001b[39m\u001b[90m [inlined]\u001b[39m\n",
      "\u001b[33m\u001b[1m│ \u001b[22m\u001b[39m    [32] \u001b[0m\u001b[1minvokelatest\u001b[22m\n",
      "\u001b[33m\u001b[1m│ \u001b[22m\u001b[39m   \u001b[90m    @ \u001b[39m\u001b[90m.\\\u001b[39m\u001b[90m\u001b[4messentials.jl:714\u001b[24m\u001b[39m\u001b[90m [inlined]\u001b[39m\n",
      "\u001b[33m\u001b[1m│ \u001b[22m\u001b[39m    [33] \u001b[0m\u001b[1meventloop\u001b[22m\u001b[0m\u001b[1m(\u001b[22m\u001b[90msocket\u001b[39m::\u001b[0mZMQ.Socket\u001b[0m\u001b[1m)\u001b[22m\n",
      "\u001b[33m\u001b[1m│ \u001b[22m\u001b[39m   \u001b[90m    @ \u001b[39m\u001b[35mIJulia\u001b[39m \u001b[90mC:\\Users\\g.kirillov\\.julia\\packages\\IJulia\\dR0lE\\src\\\u001b[39m\u001b[90m\u001b[4meventloop.jl:8\u001b[24m\u001b[39m\n",
      "\u001b[33m\u001b[1m│ \u001b[22m\u001b[39m    [34] \u001b[0m\u001b[1m(::IJulia.var\"#15#18\")\u001b[22m\u001b[0m\u001b[1m(\u001b[22m\u001b[0m\u001b[1m)\u001b[22m\n",
      "\u001b[33m\u001b[1m│ \u001b[22m\u001b[39m   \u001b[90m    @ \u001b[39m\u001b[35mIJulia\u001b[39m \u001b[90m.\\\u001b[39m\u001b[90m\u001b[4mtask.jl:429\u001b[24m\u001b[39m\n",
      "\u001b[33m\u001b[1m│ \u001b[22m\u001b[39m   in expression starting at C:\\Users\\g.kirillov\\.julia\\packages\\Optim\\DV9Sq\\ext\\OptimMOIExt.jl:1\n",
      "\u001b[33m\u001b[1m└ \u001b[22m\u001b[39m\u001b[90m@ Requires C:\\Users\\g.kirillov\\.julia\\packages\\Requires\\1eCOK\\src\\require.jl:51\u001b[39m\n",
      "\u001b[36m\u001b[1m┌ \u001b[22m\u001b[39m\u001b[36m\u001b[1mInfo: \u001b[22m\u001b[39mMeshCat server started. You can open the visualizer by visiting the following URL in your browser:\n",
      "\u001b[36m\u001b[1m└ \u001b[22m\u001b[39mhttp://127.0.0.1:8700\n"
     ]
    },
    {
     "data": {
      "text/html": [
       "    <div style=\"height: 500px; width: 100%; overflow-x: auto; overflow-y: hidden; resize: both\">\n",
       "    <iframe src=\"http://127.0.0.1:8700\" style=\"width: 100%; height: 100%; border: none\"></iframe>\n",
       "    </div>\n"
      ],
      "text/plain": [
       "MeshCat.DisplayedVisualizer(MeshCat.CoreVisualizer(MeshCat.SceneTrees.SceneNode(nothing, nothing, Dict{String, Vector{UInt8}}(), nothing, Dict{String, MeshCat.SceneTrees.SceneNode}()), Set{Any}(), ip\"127.0.0.1\", 8700))"
      ]
     },
     "execution_count": 29,
     "metadata": {},
     "output_type": "execute_result"
    }
   ],
   "source": [
    "using TrajOptPlots\n",
    "using MeshCat\n",
    "using StaticArrays\n",
    "\n",
    "vis = Visualizer()\n",
    "render(vis)"
   ]
  },
  {
   "cell_type": "code",
   "execution_count": 30,
   "metadata": {},
   "outputs": [
    {
     "data": {
      "text/plain": [
       "false"
      ]
     },
     "execution_count": 30,
     "metadata": {},
     "output_type": "execute_result"
    }
   ],
   "source": [
    "TrajOptPlots.set_mesh!(vis, RobotZoo.Quadrotor())"
   ]
  },
  {
   "cell_type": "code",
   "execution_count": 31,
   "metadata": {},
   "outputs": [
    {
     "data": {
      "text/plain": [
       "change_state_form (generic function with 1 method)"
      ]
     },
     "execution_count": 31,
     "metadata": {},
     "output_type": "execute_result"
    }
   ],
   "source": [
    "function change_state_form(x)\n",
    "    out = zeros(13)\n",
    "    out[1:3] .= x[1:3]\n",
    "    q = UnitQuaternion(RotXYZ(x[4], x[5], x[6]))\n",
    "    out[4] = q.w\n",
    "    out[5] = q.x\n",
    "    out[6] = q.y\n",
    "    out[7] = q.z\n",
    "    out[8:13] .= x[7:12]\n",
    "    return out\n",
    "end"
   ]
  },
  {
   "cell_type": "code",
   "execution_count": 32,
   "metadata": {},
   "outputs": [],
   "source": [
    "X1 = [SVector{13}(x) for x in eachcol(xtraj)];\n",
    "\n",
    "visualize!(vis, RobotZoo.Quadrotor(), thist[end], X1)"
   ]
  },
  {
   "cell_type": "markdown",
   "metadata": {},
   "source": [
    "# Feasible angles visualization"
   ]
  },
  {
   "cell_type": "code",
   "execution_count": 33,
   "metadata": {},
   "outputs": [
    {
     "data": {
      "text/plain": [
       "20×20 Matrix{Float64}:\n",
       "  1.0         1.0         1.0        …   1.0         1.0         1.0\n",
       "  0.986361    0.986361    0.986361       0.986361    0.986361    0.986361\n",
       "  0.945817    0.945817    0.945817       0.945817    0.945817    0.945817\n",
       "  0.879474    0.879474    0.879474       0.879474    0.879474    0.879474\n",
       "  0.789141    0.789141    0.789141       0.789141    0.789141    0.789141\n",
       "  0.677282    0.677282    0.677282   …   0.677282    0.677282    0.677282\n",
       "  0.546948    0.546948    0.546948       0.546948    0.546948    0.546948\n",
       "  0.401695    0.401695    0.401695       0.401695    0.401695    0.401695\n",
       "  0.245485    0.245485    0.245485       0.245485    0.245485    0.245485\n",
       "  0.0825793   0.0825793   0.0825793      0.0825793   0.0825793   0.0825793\n",
       " -0.0825793  -0.0825793  -0.0825793  …  -0.0825793  -0.0825793  -0.0825793\n",
       " -0.245485   -0.245485   -0.245485      -0.245485   -0.245485   -0.245485\n",
       " -0.401695   -0.401695   -0.401695      -0.401695   -0.401695   -0.401695\n",
       " -0.546948   -0.546948   -0.546948      -0.546948   -0.546948   -0.546948\n",
       " -0.677282   -0.677282   -0.677282      -0.677282   -0.677282   -0.677282\n",
       " -0.789141   -0.789141   -0.789141   …  -0.789141   -0.789141   -0.789141\n",
       " -0.879474   -0.879474   -0.879474      -0.879474   -0.879474   -0.879474\n",
       " -0.945817   -0.945817   -0.945817      -0.945817   -0.945817   -0.945817\n",
       " -0.986361   -0.986361   -0.986361      -0.986361   -0.986361   -0.986361\n",
       " -1.0        -1.0        -1.0           -1.0        -1.0        -1.0"
      ]
     },
     "execution_count": 33,
     "metadata": {},
     "output_type": "execute_result"
    }
   ],
   "source": [
    "# Number of divisions for the sphere\n",
    "Count = 20\n",
    "\n",
    "# Generate the sphere mesh\n",
    "θ = range(0, stop=π, length=Count)\n",
    "ϕ = range(0, stop=2π, length=Count)\n",
    "X = [sin(t)*cos(p) for t in θ, p in ϕ]\n",
    "Y = [sin(t)*sin(p) for t in θ, p in ϕ]\n",
    "Z = [cos(t) for t in θ, _ in ϕ]"
   ]
  },
  {
   "cell_type": "markdown",
   "metadata": {},
   "source": [
    "## iLQR iterations"
   ]
  },
  {
   "cell_type": "code",
   "execution_count": 34,
   "metadata": {},
   "outputs": [
    {
     "data": {
      "text/plain": [
       "calculate_error (generic function with 1 method)"
      ]
     },
     "execution_count": 34,
     "metadata": {},
     "output_type": "execute_result"
    }
   ],
   "source": [
    "# ошибку вычисляем с помощью матриц вращения, потом перевести в angleaxis. Вывести только угол ошибки\n",
    "function calculate_error(last_pos)\n",
    "    ang_error = 0.0\n",
    "    pos_error = 0.0\n",
    "    r_des = xgoal[1:3]\n",
    "    q_des = xgoal[4:7]\n",
    "    x = last_pos\n",
    "    r = x[1:3]\n",
    "    q = x[4:7]\n",
    "    err_ang = QuatRotation(q_des) * QuatRotation(q)'\n",
    "    ang_error = AngleAxis(QuatRotation(err_ang)).theta\n",
    "    pos_error = norm(r-r_des)\n",
    "    return ang_error + pos_error\n",
    "end"
   ]
  },
  {
   "cell_type": "code",
   "execution_count": 35,
   "metadata": {},
   "outputs": [
    {
     "data": {
      "text/plain": [
       "get_quaternion (generic function with 1 method)"
      ]
     },
     "execution_count": 35,
     "metadata": {},
     "output_type": "execute_result"
    }
   ],
   "source": [
    "e = [0.0, 0.0, 1.0]\n",
    "function get_quaternion(n)\n",
    "        if norm(n) < 1e-8\n",
    "            next!(bar)\n",
    "            # print(n)\n",
    "            return NaN\n",
    "        end\n",
    "        n = n / norm(n)\n",
    "        pitch = cross(e, n)\n",
    "        if norm(pitch) < 1e-8\n",
    "            next!(bar)\n",
    "            # print(n, pitch)\n",
    "            return NaN\n",
    "        end\n",
    "        pitch = pitch / norm(pitch)\n",
    "        b = cross(pitch, n)\n",
    "        if norm(b) < 1e-8\n",
    "            next!(bar)\n",
    "            # print(n, pitch, b)\n",
    "            return NaN\n",
    "        end\n",
    "        b = b / norm(b)\n",
    "\n",
    "        T = QuatRotation(RotZYX([n pitch b]))\n",
    "        # correct inital conditions\n",
    "        return  [T.w, T.x, T.y, T.z]\n",
    "end"
   ]
  },
  {
   "cell_type": "code",
   "execution_count": 36,
   "metadata": {},
   "outputs": [
    {
     "name": "stderr",
     "output_type": "stream",
     "text": [
      "\u001b[32mIteration: 100%|████████████████████████████████████████| Time: 0:05:58\u001b[39m\n"
     ]
    }
   ],
   "source": [
    "using ProgressMeter\n",
    "bar = Progress(Count * Count, desc=\"Iteration: \")\n",
    "#DDP Algorithm\n",
    "#Initial Rollout\n",
    "e = [0.0, 0.0, 1.0]\n",
    "Hmap_iterations = zeros(Count,Count)\n",
    "Hmap_time = zeros(Count,Count)\n",
    "Hmap_error = zeros(Count,Count)\n",
    "Hmap_cost = zeros(Count, Count)\n",
    "for i in 1:Count\n",
    "    for j in 1:Count\n",
    "        t_start = time()\n",
    "        iter = 0\n",
    "        # Tramsform sphere coords to euler angles:\n",
    "        n = [X[i,j], Y[i,j], Z[i,j]]\n",
    "\n",
    "        quat = get_quaternion(n)\n",
    "\n",
    "        if any(isnan, quat)\n",
    "            # print(quat)\n",
    "            Hmap_iterations[i,j] = NaN\n",
    "            Hmap_time[i,j] = NaN\n",
    "            Hmap_error[i,j] = NaN\n",
    "            Hmap_cost[i,j] = NaN\n",
    "            continue\n",
    "        end\n",
    "        \n",
    "        # correct inital conditions\n",
    "        x0[4:7] .= quat\n",
    "        # correct initial trajectory\n",
    "        xtraj = kron(ones(1,Nt), x0)\n",
    "        utraj = zeros(Nu, Nt-1) .+ uhover\n",
    "        for k = 1:(Nt-1)\n",
    "            xtraj[:,k+1] .= dynamics_rk4(xtraj[:,k],utraj[:,k])\n",
    "        end\n",
    "        J = cost(xtraj,utraj)\n",
    "        # iLQR start\n",
    "        p = ones(Nx,Nt)\n",
    "        P = zeros(Nx,Nx,Nt)\n",
    "        d = ones(Nu,Nt-1)\n",
    "        K = zeros(Nu,Nx,Nt-1)\n",
    "        ΔJ = 1.0\n",
    "        \n",
    "        xn = zeros(Nx,Nt)\n",
    "        un = zeros(Nu,Nt-1)\n",
    "        \n",
    "        gx = zeros(Nx)\n",
    "        gu = zeros(Nu)\n",
    "        Gxx = zeros(Nx,Nx)\n",
    "        Guu = zeros(Nu)\n",
    "        Gxu = zeros(Nx)\n",
    "        Gux = zeros(Nx)\n",
    "        \n",
    "        Jp = 0\n",
    "        stop = false\n",
    "        while abs(Jp-J) >  5 * 1e-5\n",
    "            if stop\n",
    "                break\n",
    "            end\n",
    "            iter += 1    \n",
    "            \n",
    "            #Backward Pass\n",
    "            ΔJ = backward_pass!(p,P,d,K)\n",
    "            if isnan(ΔJ)\n",
    "                stop = true\n",
    "                break\n",
    "            end\n",
    "            #Forward rollout with line search\n",
    "            xn[:,1] = xtraj[:,1]\n",
    "            α = 1.0\n",
    "            \n",
    "            # display(K[:,:,1] * (xn[:,1]-xtraj[:,1]))\n",
    "            # display(utraj[:,1] - α*d[:,1] - K[:,:,1] * (xn[:,1]-xtraj[:,1]))\n",
    "            \n",
    "            for k = 1:(Nt-1)\n",
    "                un[:,k] .= utraj[:,k] - α*d[:,k] - K[:,:,k] * (xn[:,k]-xtraj[:,k])\n",
    "                try\n",
    "                    xn[:,k+1] .= dynamics_rk4(xn[:,k],un[:,k])\n",
    "                catch err\n",
    "                    # print(\"Current x: $(xn[:,k])\\n\")\n",
    "                    # print(\"Current u: $(un[:,k-1])\\n\")\n",
    "                    # print(\"Previous x: $(xn[:,k-2])\\n\")\n",
    "                    stop = true \n",
    "                end\n",
    "            end\n",
    "            Jn = cost(xn,un)\n",
    "            # display(Jn)\n",
    "            while isnan(Jn) || Jn > (J - 1e-2*α*ΔJ)\n",
    "                α = 0.5*α\n",
    "                for k = 1:(Nt-1)\n",
    "                    un[:,k] .= utraj[:,k] - α*d[:,k] - K[:,:,k] * (xn[:,k]-xtraj[:,k])\n",
    "                    try\n",
    "                        xn[:,k+1] .= dynamics_rk4(xn[:,k],un[:,k])\n",
    "                    catch err\n",
    "                        # print(\"Current x: $(xn[:,k])\\n\")\n",
    "                        # print(\"Current u: $(un[:,k-1])\\n\")\n",
    "                        # print(\"Previous x: $(xn[:,k-2])\\n\")\n",
    "                        stop = true\n",
    "                    end\n",
    "                end\n",
    "                Jn = cost(xn,un)\n",
    "                # display(Jn)\n",
    "            end\n",
    "            \n",
    "            Jp = J\n",
    "            J = Jn\n",
    "            xtraj .= xn\n",
    "            utraj .= un\n",
    "\n",
    "        end\n",
    "        if stop\n",
    "            Hmap_iterations[i,j] = NaN\n",
    "            Hmap_time[i,j] = NaN\n",
    "            Hmap_error[i,j] = NaN\n",
    "            Hmap_cost[i,j] = NaN\n",
    "        else\n",
    "            Hmap_iterations[i,j] = iter\n",
    "            Hmap_time[i,j] = time() - t_start\n",
    "            Hmap_error[i,j] = calculate_error(xtraj[:, Nt])\n",
    "            Hmap_cost[i,j] = J\n",
    "        end\n",
    "        next!(bar)\n",
    "    end\n",
    "end"
   ]
  },
  {
   "cell_type": "markdown",
   "metadata": {},
   "source": [
    "## Saving obtained iteration heatmap"
   ]
  },
  {
   "cell_type": "code",
   "execution_count": 37,
   "metadata": {},
   "outputs": [],
   "source": [
    "@save \"quaternions/fa/FD/Hmap_quat_FD_iter.jld2\" Hmap_iterations\n",
    "@save \"quaternions/fa/FD/Hmap_quat_FD_time.jld2\" Hmap_time\n",
    "@save \"quaternions/fa/FD/Hmap_quat_FD_error.jld2\" Hmap_error\n",
    "@save \"quaternions/fa/FD/Hmap_quat_FD_cost.jld2\" Hmap_cost"
   ]
  },
  {
   "cell_type": "markdown",
   "metadata": {},
   "source": [
    "## Graph Plotting"
   ]
  },
  {
   "cell_type": "code",
   "execution_count": 38,
   "metadata": {},
   "outputs": [
    {
     "data": {
      "text/plain": [
       "1-element Vector{Symbol}:\n",
       " :Hmap_cost"
      ]
     },
     "execution_count": 38,
     "metadata": {},
     "output_type": "execute_result"
    }
   ],
   "source": [
    "@load \"quaternions/fa/FD/Hmap_quat_FD_iter.jld2\" Hmap_iterations\n",
    "@load \"quaternions/fa/FD/Hmap_quat_FD_time.jld2\" Hmap_time\n",
    "@load \"quaternions/fa/FD/Hmap_quat_FD_error.jld2\" Hmap_error\n",
    "@load \"quaternions/fa/FD/Hmap_quat_FD_cost.jld2\" Hmap_cost"
   ]
  },
  {
   "cell_type": "code",
   "execution_count": 39,
   "metadata": {},
   "outputs": [],
   "source": [
    "# Start the figure\n",
    "pygui(true)\n",
    "Hmap_norm = Hmap_cost ./ maximum(filter(!isnan, Hmap_cost))\n",
    "fig = PyPlot.figure()\n",
    "ax = fig.add_subplot(111, projection=\"3d\")\n",
    "# Custom colormap\n",
    "cmap = PyPlot.get_cmap(\"cividis\", 256)\n",
    "cmap.set_bad(\"red\")     # NaNs or masked values\n",
    "# newcolors = cmap(LinRange(0, 1, 256))\n",
    "# Red for failing intial conditions\n",
    "# red = [256/256; 0/256; 0/256; 1]\n",
    "# newcolors[:1, :] .= red\n",
    "# newcmp = PyPlot.matplotlib.colors.ListedColormap(newcolors)\n",
    "colors = cmap.(Hmap_norm)\n",
    "\n",
    "psm = ax.plot_surface(X, Y, Z,\n",
    "    facecolors=colors,\n",
    "    linewidth=0.5, alpha=0.5,\n",
    "    shade=false)\n",
    "\n",
    "ax.set_box_aspect([1,1,1])  # Equal aspect ratio\n",
    "cbar = fig.colorbar(psm, ax=ax)\n",
    "cbar.set_ticks([0, 1])  # Show ticks at the normalized range\n",
    "cbar.set_ticklabels([0, maximum(filter(!isnan, Hmap_cost))])  # Map ticks back to the original data range\n",
    "PyPlot.tight_layout()\n",
    "PyPlot.show()"
   ]
  }
 ],
 "metadata": {
  "kernelspec": {
   "display_name": " 1.7.3",
   "language": "julia",
   "name": "-1.7"
  },
  "language_info": {
   "file_extension": ".jl",
   "mimetype": "application/julia",
   "name": "julia",
   "version": "1.7.3"
  }
 },
 "nbformat": 4,
 "nbformat_minor": 4
}
