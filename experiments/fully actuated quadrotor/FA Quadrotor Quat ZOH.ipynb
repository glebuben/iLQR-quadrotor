{
 "cells": [
  {
   "cell_type": "code",
   "execution_count": 1,
   "metadata": {},
   "outputs": [
    {
     "name": "stderr",
     "output_type": "stream",
     "text": [
      "\u001b[32m\u001b[1m    Updating\u001b[22m\u001b[39m registry at `C:\\Users\\g.kirillov\\.julia\\registries\\General.toml`\n",
      "\u001b[32m\u001b[1m   Resolving\u001b[22m\u001b[39m package versions...\n",
      "\u001b[33m\u001b[1m┌ \u001b[22m\u001b[39m\u001b[33m\u001b[1mWarning: \u001b[22m\u001b[39mThe active manifest file at `C:\\Users\\g.kirillov\\DDP\\Manifest.toml` has an old format that is being maintained.\n",
      "\u001b[33m\u001b[1m│ \u001b[22m\u001b[39mTo update to the new format run `Pkg.upgrade_manifest()` which will upgrade the format without re-resolving.\n",
      "\u001b[33m\u001b[1m└ \u001b[22m\u001b[39m\u001b[90m@ Pkg.Types C:\\buildbot\\worker\\package_win64\\build\\usr\\share\\julia\\stdlib\\v1.7\\Pkg\\src\\manifest.jl:287\u001b[39m\n",
      "\u001b[32m\u001b[1m  No Changes\u001b[22m\u001b[39m to `C:\\Users\\g.kirillov\\DDP\\Project.toml`\n",
      "\u001b[32m\u001b[1m  No Changes\u001b[22m\u001b[39m to `C:\\Users\\g.kirillov\\DDP\\Manifest.toml`\n",
      "\u001b[33m\u001b[1m┌ \u001b[22m\u001b[39m\u001b[33m\u001b[1mWarning: \u001b[22m\u001b[39mThe active manifest file is an older format with no julia version entry. Dependencies may have been resolved with a different julia version.\n",
      "\u001b[33m\u001b[1m└ \u001b[22m\u001b[39m\u001b[90m@ C:\\Users\\g.kirillov\\DDP\\Manifest.toml:0\u001b[39m\n"
     ]
    }
   ],
   "source": [
    "import Pkg; Pkg.add(\"Rotations\")"
   ]
  },
  {
   "cell_type": "code",
   "execution_count": 2,
   "metadata": {},
   "outputs": [
    {
     "name": "stderr",
     "output_type": "stream",
     "text": [
      "\u001b[32m\u001b[1m  Activating\u001b[22m\u001b[39m project at `C:\\Users\\g.kirillov\\DDP`\n"
     ]
    }
   ],
   "source": [
    "import Pkg; Pkg.activate(\".\"); Pkg.instantiate()"
   ]
  },
  {
   "cell_type": "code",
   "execution_count": 3,
   "metadata": {},
   "outputs": [],
   "source": [
    "import Pkg; Pkg.precompile()"
   ]
  },
  {
   "cell_type": "code",
   "execution_count": 4,
   "metadata": {},
   "outputs": [
    {
     "name": "stderr",
     "output_type": "stream",
     "text": [
      "\u001b[32m\u001b[1m    Building\u001b[22m\u001b[39m WebIO ──→ `C:\\Users\\g.kirillov\\.julia\\scratchspaces\\44cfe95a-1eb2-52ea-b672-e2afdf69b78f\\c9529be473e97fa0b3b2642cdafcd0896b4c9494\\build.log`\n",
      "\u001b[32m\u001b[1m    Building\u001b[22m\u001b[39m Blink ──→ `C:\\Users\\g.kirillov\\.julia\\scratchspaces\\44cfe95a-1eb2-52ea-b672-e2afdf69b78f\\08d0b679fd7caa49e2bca9214b131289e19808c0\\build.log`\n",
      "\u001b[32m\u001b[1m    Building\u001b[22m\u001b[39m MeshCat → `C:\\Users\\g.kirillov\\.julia\\scratchspaces\\44cfe95a-1eb2-52ea-b672-e2afdf69b78f\\ca4a1e45f5d2a2148c599804a6619da7708ede69\\build.log`\n"
     ]
    }
   ],
   "source": [
    "using Pkg\n",
    "Pkg.build(\"MeshCat\")"
   ]
  },
  {
   "cell_type": "code",
   "execution_count": 5,
   "metadata": {},
   "outputs": [],
   "source": [
    "using LinearAlgebra\n",
    "using PyPlot\n",
    "using ForwardDiff\n",
    "using RobotZoo\n",
    "using RobotDynamics\n",
    "import RobotDynamics as RD\n",
    "using MatrixCalculus\n",
    "using JLD2\n",
    "using StaticArrays\n",
    "using Rotations"
   ]
  },
  {
   "cell_type": "code",
   "execution_count": 6,
   "metadata": {},
   "outputs": [
    {
     "data": {
      "text/plain": [
       "0.05"
      ]
     },
     "execution_count": 6,
     "metadata": {},
     "output_type": "execute_result"
    }
   ],
   "source": [
    "#Acrobot Dynamics\n",
    "include(\"models/FullyActuatedQuadrotor.jl\")\n",
    "using .MyRobots\n",
    "\n",
    "a = MyRobots.FAQuadrotor()\n",
    "h = 0.05"
   ]
  },
  {
   "cell_type": "code",
   "execution_count": 7,
   "metadata": {},
   "outputs": [
    {
     "ename": "LoadError",
     "evalue": "BoundsError: attempt to access 4-element SVector{4, Float64} with indices SOneTo(4) at index [4:6]",
     "output_type": "error",
     "traceback": [
      "BoundsError: attempt to access 4-element SVector{4, Float64} with indices SOneTo(4) at index [4:6]",
      "",
      "Stacktrace:",
      "  [1] throw_boundserror(A::SVector{4, Float64}, I::Tuple{UnitRange{Int64}})",
      "    @ Base .\\abstractarray.jl:691",
      "  [2] checkbounds",
      "    @ .\\abstractarray.jl:656 [inlined]",
      "  [3] _getindex",
      "    @ .\\multidimensional.jl:838 [inlined]",
      "  [4] getindex",
      "    @ .\\abstractarray.jl:1218 [inlined]",
      "  [5] moments",
      "    @ C:\\Users\\g.kirillov\\DDP\\models\\FullyActuatedQuadrotor.jl:94 [inlined]",
      "  [6] wrenches(model::Main.MyRobots.FAQuadrotor{QuatRotation{Float64}}, x::SVector{13, Float64}, u::SVector{4, Float64})",
      "    @ Main.MyRobots C:\\Users\\g.kirillov\\DDP\\models\\FullyActuatedQuadrotor.jl:99",
      "  [7] wrenches",
      "    @ C:\\Users\\g.kirillov\\.julia\\packages\\RobotDynamics\\tXate\\src\\rigidbody.jl:197 [inlined]",
      "  [8] dynamics(model::Main.MyRobots.FAQuadrotor{QuatRotation{Float64}}, x::SVector{13, Float64}, u::SVector{4, Float64}, t::Int64)",
      "    @ RobotDynamics C:\\Users\\g.kirillov\\.julia\\packages\\RobotDynamics\\tXate\\src\\rigidbody.jl:176",
      "  [9] dynamics(model::Main.MyRobots.FAQuadrotor{QuatRotation{Float64}}, x::SVector{13, Float64}, u::SVector{4, Float64})",
      "    @ RobotDynamics C:\\Users\\g.kirillov\\.julia\\packages\\RobotDynamics\\tXate\\src\\rigidbody.jl:173",
      " [10] top-level scope",
      "    @ In[7]:1"
     ]
    }
   ],
   "source": [
    "dynamics(a, SVector{13}(0.0, 0.0, 0.0, 1.0, 0.0, 0.0, 0.0, 0.0, 0.0, 0.0, 0.0, 0.0, 0.), \n",
    "            SVector{4}(0.0, 0.0, 0.0, 0.0))"
   ]
  },
  {
   "cell_type": "code",
   "execution_count": 8,
   "metadata": {},
   "outputs": [
    {
     "data": {
      "text/latex": [
       "\\begin{verbatim}\n",
       "Quadrotor{R}\n",
       "\\end{verbatim}\n",
       "A standard quadrotor model, with simple aerodynamic forces. The orientation is represent by a general rotation \\texttt{R}. The body z-axis point is vertical, so positive controls cause acceleration in the positive z direction.\n",
       "\n",
       "\\section{Constructor}\n",
       "\\begin{verbatim}\n",
       "Quadrotor(; kwargs...)\n",
       "Quadrotor{R}(; kwargs...)\n",
       "\\end{verbatim}\n",
       "where \\texttt{R <: Rotation\\{3\\}} and defaults to \\texttt{UnitQuaternion\\{Float64\\}} if omitted. The keyword arguments are\n",
       "\n",
       "\\begin{itemize}\n",
       "\\item \\texttt{mass} - mass of the quadrotor, in kg (default = 0.5)\n",
       "\n",
       "\n",
       "\\item \\texttt{J} - inertia of the quadrotor, in kg⋅m² (default = \\texttt{Diagonal([0.0023, 0.0023, 0.004])})\n",
       "\n",
       "\n",
       "\\item \\texttt{gravity} - gravity vector, in kg/m² (default = [0,0,-9.81])\n",
       "\n",
       "\n",
       "\\item \\texttt{motor\\_dist} - distane between the motors, in m (default = 0.1750)\n",
       "\n",
       "\n",
       "\\item \\texttt{km} - motor torque constant (default = 0.0245)\n",
       "\n",
       "\n",
       "\\item \\texttt{kf} - motor force constant (default = 1.0)\n",
       "\n",
       "\\end{itemize}\n"
      ],
      "text/markdown": [
       "```\n",
       "Quadrotor{R}\n",
       "```\n",
       "\n",
       "A standard quadrotor model, with simple aerodynamic forces. The orientation is represent by a general rotation `R`. The body z-axis point is vertical, so positive controls cause acceleration in the positive z direction.\n",
       "\n",
       "# Constructor\n",
       "\n",
       "```\n",
       "Quadrotor(; kwargs...)\n",
       "Quadrotor{R}(; kwargs...)\n",
       "```\n",
       "\n",
       "where `R <: Rotation{3}` and defaults to `UnitQuaternion{Float64}` if omitted. The keyword arguments are\n",
       "\n",
       "  * `mass` - mass of the quadrotor, in kg (default = 0.5)\n",
       "  * `J` - inertia of the quadrotor, in kg⋅m² (default = `Diagonal([0.0023, 0.0023, 0.004])`)\n",
       "  * `gravity` - gravity vector, in kg/m² (default = [0,0,-9.81])\n",
       "  * `motor_dist` - distane between the motors, in m (default = 0.1750)\n",
       "  * `km` - motor torque constant (default = 0.0245)\n",
       "  * `kf` - motor force constant (default = 1.0)\n"
      ],
      "text/plain": [
       "\u001b[36m  Quadrotor{R}\u001b[39m\n",
       "\n",
       "  A standard quadrotor model, with simple aerodynamic forces. The orientation\n",
       "  is represent by a general rotation \u001b[36mR\u001b[39m. The body z-axis point is vertical, so\n",
       "  positive controls cause acceleration in the positive z direction.\n",
       "\n",
       "\u001b[1m  Constructor\u001b[22m\n",
       "\u001b[1m  ≡≡≡≡≡≡≡≡≡≡≡≡≡\u001b[22m\n",
       "\n",
       "\u001b[36m  Quadrotor(; kwargs...)\u001b[39m\n",
       "\u001b[36m  Quadrotor{R}(; kwargs...)\u001b[39m\n",
       "\n",
       "  where \u001b[36mR <: Rotation{3}\u001b[39m and defaults to \u001b[36mUnitQuaternion{Float64}\u001b[39m if omitted.\n",
       "  The keyword arguments are\n",
       "\n",
       "    •  \u001b[36mmass\u001b[39m - mass of the quadrotor, in kg (default = 0.5)\n",
       "\n",
       "    •  \u001b[36mJ\u001b[39m - inertia of the quadrotor, in kg⋅m² (default =\n",
       "       \u001b[36mDiagonal([0.0023, 0.0023, 0.004])\u001b[39m)\n",
       "\n",
       "    •  \u001b[36mgravity\u001b[39m - gravity vector, in kg/m² (default = [0,0,-9.81])\n",
       "\n",
       "    •  \u001b[36mmotor_dist\u001b[39m - distane between the motors, in m (default = 0.1750)\n",
       "\n",
       "    •  \u001b[36mkm\u001b[39m - motor torque constant (default = 0.0245)\n",
       "\n",
       "    •  \u001b[36mkf\u001b[39m - motor force constant (default = 1.0)"
      ]
     },
     "execution_count": 8,
     "metadata": {},
     "output_type": "execute_result"
    }
   ],
   "source": [
    "?RobotZoo.Quadrotor"
   ]
  },
  {
   "cell_type": "code",
   "execution_count": 9,
   "metadata": {},
   "outputs": [
    {
     "name": "stdout",
     "output_type": "stream",
     "text": [
      "search: \u001b[0m\u001b[1mA\u001b[22m\u001b[0m\u001b[1mb\u001b[22m\u001b[0m\u001b[1ms\u001b[22m\u001b[0m\u001b[1mt\u001b[22m\u001b[0m\u001b[1mr\u001b[22m\u001b[0m\u001b[1ma\u001b[22m\u001b[0m\u001b[1mc\u001b[22m\u001b[0m\u001b[1mt\u001b[22m\u001b[0m\u001b[1mM\u001b[22m\u001b[0m\u001b[1mo\u001b[22m\u001b[0m\u001b[1md\u001b[22m\u001b[0m\u001b[1me\u001b[22m\u001b[0m\u001b[1ml\u001b[22m \u001b[0m\u001b[1mA\u001b[22m\u001b[0m\u001b[1mb\u001b[22m\u001b[0m\u001b[1ms\u001b[22m\u001b[0m\u001b[1mt\u001b[22m\u001b[0m\u001b[1mr\u001b[22m\u001b[0m\u001b[1ma\u001b[22m\u001b[0m\u001b[1mc\u001b[22m\u001b[0m\u001b[1mt\u001b[22m\u001b[0m\u001b[1mM\u001b[22match \u001b[0m\u001b[1mA\u001b[22m\u001b[0m\u001b[1mb\u001b[22m\u001b[0m\u001b[1ms\u001b[22m\u001b[0m\u001b[1mt\u001b[22m\u001b[0m\u001b[1mr\u001b[22m\u001b[0m\u001b[1ma\u001b[22m\u001b[0m\u001b[1mc\u001b[22m\u001b[0m\u001b[1mt\u001b[22m\u001b[0m\u001b[1mM\u001b[22matrix \u001b[0m\u001b[1mA\u001b[22m\u001b[0m\u001b[1mb\u001b[22m\u001b[0m\u001b[1ms\u001b[22m\u001b[0m\u001b[1mt\u001b[22m\u001b[0m\u001b[1mr\u001b[22m\u001b[0m\u001b[1ma\u001b[22m\u001b[0m\u001b[1mc\u001b[22m\u001b[0m\u001b[1mt\u001b[22mVecOr\u001b[0m\u001b[1mM\u001b[22mat\n",
      "\n"
     ]
    },
    {
     "data": {
      "text/latex": [
       "AbstractModel\n",
       "\n",
       "Abstraction of a model of a dynamical system of the form ẋ = f(x,u), where x is the n-dimensional state vector and u is the m-dimensional control vector.\n",
       "\n",
       "Any inherited type must define the following interface: ẋ = dynamics(model, x, u) n,m = size(model)\n",
       "\n"
      ],
      "text/markdown": [
       "AbstractModel\n",
       "\n",
       "Abstraction of a model of a dynamical system of the form ẋ = f(x,u), where x is the n-dimensional state vector and u is the m-dimensional control vector.\n",
       "\n",
       "Any inherited type must define the following interface: ẋ = dynamics(model, x, u) n,m = size(model)\n"
      ],
      "text/plain": [
       "  AbstractModel\n",
       "\n",
       "  Abstraction of a model of a dynamical system of the form ẋ = f(x,u), where\n",
       "  x is the n-dimensional state vector and u is the m-dimensional control\n",
       "  vector.\n",
       "\n",
       "  Any inherited type must define the following interface: ẋ = dynamics(model,\n",
       "  x, u) n,m = size(model)"
      ]
     },
     "execution_count": 9,
     "metadata": {},
     "output_type": "execute_result"
    }
   ],
   "source": [
    "?AbstractModel"
   ]
  },
  {
   "cell_type": "code",
   "execution_count": 10,
   "metadata": {},
   "outputs": [
    {
     "name": "stdout",
     "output_type": "stream",
     "text": [
      "search: \u001b[0m\u001b[1mR\u001b[22m\u001b[0m\u001b[1mi\u001b[22m\u001b[0m\u001b[1mg\u001b[22m\u001b[0m\u001b[1mi\u001b[22m\u001b[0m\u001b[1md\u001b[22m\u001b[0m\u001b[1mB\u001b[22m\u001b[0m\u001b[1mo\u001b[22m\u001b[0m\u001b[1md\u001b[22m\u001b[0m\u001b[1my\u001b[22m\n",
      "\n"
     ]
    },
    {
     "data": {
      "text/latex": [
       "\\begin{verbatim}\n",
       "RigidBody{R<:Rotation} <: LieGroupModel\n",
       "\\end{verbatim}\n",
       "Abstraction of a dynamical system with free-body dynamics, with a 12 or 13-dimensional state vector: \\texttt{[p; q; v; ω]} where \\texttt{p} is the 3D position, \\texttt{q} is the 3 or 4-dimension attitude representation, \\texttt{v} is the 3D linear velocity, and \\texttt{ω} is the 3D angular velocity.\n",
       "\n",
       "\\section{Interface}\n",
       "Any single-body system can leverage the \\texttt{RigidBody} type by inheriting from it and defining the following interface:\n",
       "\n",
       "\\begin{verbatim}\n",
       "forces(::MyRigidBody, x, u)  # return the forces in the world frame\n",
       "moments(::MyRigidBody, x, u) # return the moments in the body frame\n",
       "inertia(::MyRigidBody, x, u) # return the 3x3 inertia matrix\n",
       "mass(::MyRigidBody, x, u)  # return the mass as a real scalar\n",
       "\\end{verbatim}\n",
       "Instead of defining \\texttt{forces} and \\texttt{moments} you can define the higher-level \\texttt{wrenches} function \twrenches(model::MyRigidbody, z::AbstractKnotPoint) \twrenches(model::MyRigidbody, x, u)\n",
       "\n",
       "\\section{Rotation Parameterization}\n",
       "A \\texttt{RigidBody} model must specify the rotational representation being used. Any \\texttt{Rotations.Rotation\\{3\\}} can be used, but we suggest one of the following:\n",
       "\n",
       "\\begin{itemize}\n",
       "\\item \\texttt{UnitQuaternion}\n",
       "\n",
       "\n",
       "\\item \\texttt{MRP}\n",
       "\n",
       "\n",
       "\\item \\texttt{RodriguesParam}\n",
       "\n",
       "\\end{itemize}\n"
      ],
      "text/markdown": [
       "```\n",
       "RigidBody{R<:Rotation} <: LieGroupModel\n",
       "```\n",
       "\n",
       "Abstraction of a dynamical system with free-body dynamics, with a 12 or 13-dimensional state vector: `[p; q; v; ω]` where `p` is the 3D position, `q` is the 3 or 4-dimension attitude representation, `v` is the 3D linear velocity, and `ω` is the 3D angular velocity.\n",
       "\n",
       "# Interface\n",
       "\n",
       "Any single-body system can leverage the `RigidBody` type by inheriting from it and defining the following interface:\n",
       "\n",
       "```julia\n",
       "forces(::MyRigidBody, x, u)  # return the forces in the world frame\n",
       "moments(::MyRigidBody, x, u) # return the moments in the body frame\n",
       "inertia(::MyRigidBody, x, u) # return the 3x3 inertia matrix\n",
       "mass(::MyRigidBody, x, u)  # return the mass as a real scalar\n",
       "```\n",
       "\n",
       "Instead of defining `forces` and `moments` you can define the higher-level `wrenches` function \twrenches(model::MyRigidbody, z::AbstractKnotPoint) \twrenches(model::MyRigidbody, x, u)\n",
       "\n",
       "# Rotation Parameterization\n",
       "\n",
       "A `RigidBody` model must specify the rotational representation being used. Any `Rotations.Rotation{3}` can be used, but we suggest one of the following:\n",
       "\n",
       "  * `UnitQuaternion`\n",
       "  * `MRP`\n",
       "  * `RodriguesParam`\n"
      ],
      "text/plain": [
       "\u001b[36m  RigidBody{R<:Rotation} <: LieGroupModel\u001b[39m\n",
       "\n",
       "  Abstraction of a dynamical system with free-body dynamics, with a 12 or\n",
       "  13-dimensional state vector: \u001b[36m[p; q; v; ω]\u001b[39m where \u001b[36mp\u001b[39m is the 3D position, \u001b[36mq\u001b[39m is\n",
       "  the 3 or 4-dimension attitude representation, \u001b[36mv\u001b[39m is the 3D linear velocity,\n",
       "  and \u001b[36mω\u001b[39m is the 3D angular velocity.\n",
       "\n",
       "\u001b[1m  Interface\u001b[22m\n",
       "\u001b[1m  ≡≡≡≡≡≡≡≡≡≡≡\u001b[22m\n",
       "\n",
       "  Any single-body system can leverage the \u001b[36mRigidBody\u001b[39m type by inheriting from it\n",
       "  and defining the following interface:\n",
       "\n",
       "\u001b[36m  forces(::MyRigidBody, x, u)  # return the forces in the world frame\u001b[39m\n",
       "\u001b[36m  moments(::MyRigidBody, x, u) # return the moments in the body frame\u001b[39m\n",
       "\u001b[36m  inertia(::MyRigidBody, x, u) # return the 3x3 inertia matrix\u001b[39m\n",
       "\u001b[36m  mass(::MyRigidBody, x, u)  # return the mass as a real scalar\u001b[39m\n",
       "\n",
       "  Instead of defining \u001b[36mforces\u001b[39m and \u001b[36mmoments\u001b[39m you can define the higher-level\n",
       "  \u001b[36mwrenches\u001b[39m function wrenches(model::MyRigidbody, z::AbstractKnotPoint)\n",
       "  wrenches(model::MyRigidbody, x, u)\n",
       "\n",
       "\u001b[1m  Rotation Parameterization\u001b[22m\n",
       "\u001b[1m  ≡≡≡≡≡≡≡≡≡≡≡≡≡≡≡≡≡≡≡≡≡≡≡≡≡≡≡\u001b[22m\n",
       "\n",
       "  A \u001b[36mRigidBody\u001b[39m model must specify the rotational representation being used. Any\n",
       "  \u001b[36mRotations.Rotation{3}\u001b[39m can be used, but we suggest one of the following:\n",
       "\n",
       "    •  \u001b[36mUnitQuaternion\u001b[39m\n",
       "\n",
       "    •  \u001b[36mMRP\u001b[39m\n",
       "\n",
       "    •  \u001b[36mRodriguesParam\u001b[39m"
      ]
     },
     "execution_count": 10,
     "metadata": {},
     "output_type": "execute_result"
    }
   ],
   "source": [
    "?RigidBody"
   ]
  },
  {
   "cell_type": "code",
   "execution_count": 11,
   "metadata": {},
   "outputs": [
    {
     "name": "stdout",
     "output_type": "stream",
     "text": [
      "search: \u001b[0m\u001b[1mQ\u001b[22m\u001b[0m\u001b[1mu\u001b[22m\u001b[0m\u001b[1ma\u001b[22m\u001b[0m\u001b[1mt\u001b[22m\u001b[0m\u001b[1mR\u001b[22m\u001b[0m\u001b[1mo\u001b[22m\u001b[0m\u001b[1mt\u001b[22m\u001b[0m\u001b[1ma\u001b[22m\u001b[0m\u001b[1mt\u001b[22m\u001b[0m\u001b[1mi\u001b[22m\u001b[0m\u001b[1mo\u001b[22m\u001b[0m\u001b[1mn\u001b[22m\n",
      "\n"
     ]
    },
    {
     "data": {
      "text/latex": [
       "\\begin{verbatim}\n",
       "QuatRotation{T} <: Rotation\n",
       "\\end{verbatim}\n",
       "4-parameter attitute representation that is singularity-free. Quaternions with unit norm represent a double-cover of SO(3). The \\texttt{QuatRotation} does NOT strictly enforce the unit norm constraint, but certain methods will assume you have a unit quaternion. Follows the Hamilton convention for quaternions.\n",
       "\n",
       "\\section{Constructors}\n",
       "\\begin{verbatim}\n",
       "QuatRotation(w,x,y,z)\n",
       "QuatRotation(q::AbstractVector)\n",
       "\\end{verbatim}\n",
       "where \\texttt{w} is the scalar (real) part, \\texttt{x}, \\texttt{y}, and \\texttt{z} are the vector (imaginary) part, and \\texttt{q = [w,x,y,z]}.\n",
       "\n"
      ],
      "text/markdown": [
       "```\n",
       "QuatRotation{T} <: Rotation\n",
       "```\n",
       "\n",
       "4-parameter attitute representation that is singularity-free. Quaternions with unit norm represent a double-cover of SO(3). The `QuatRotation` does NOT strictly enforce the unit norm constraint, but certain methods will assume you have a unit quaternion. Follows the Hamilton convention for quaternions.\n",
       "\n",
       "# Constructors\n",
       "\n",
       "```julia\n",
       "QuatRotation(w,x,y,z)\n",
       "QuatRotation(q::AbstractVector)\n",
       "```\n",
       "\n",
       "where `w` is the scalar (real) part, `x`, `y`, and `z` are the vector (imaginary) part, and `q = [w,x,y,z]`.\n"
      ],
      "text/plain": [
       "\u001b[36m  QuatRotation{T} <: Rotation\u001b[39m\n",
       "\n",
       "  4-parameter attitute representation that is singularity-free. Quaternions\n",
       "  with unit norm represent a double-cover of SO(3). The \u001b[36mQuatRotation\u001b[39m does NOT\n",
       "  strictly enforce the unit norm constraint, but certain methods will assume\n",
       "  you have a unit quaternion. Follows the Hamilton convention for quaternions.\n",
       "\n",
       "\u001b[1m  Constructors\u001b[22m\n",
       "\u001b[1m  ≡≡≡≡≡≡≡≡≡≡≡≡≡≡\u001b[22m\n",
       "\n",
       "\u001b[36m  QuatRotation(w,x,y,z)\u001b[39m\n",
       "\u001b[36m  QuatRotation(q::AbstractVector)\u001b[39m\n",
       "\n",
       "  where \u001b[36mw\u001b[39m is the scalar (real) part, \u001b[36mx\u001b[39m, \u001b[36my\u001b[39m, and \u001b[36mz\u001b[39m are the vector (imaginary)\n",
       "  part, and \u001b[36mq = [w,x,y,z]\u001b[39m."
      ]
     },
     "execution_count": 11,
     "metadata": {},
     "output_type": "execute_result"
    }
   ],
   "source": [
    "?QuatRotation"
   ]
  },
  {
   "cell_type": "code",
   "execution_count": 12,
   "metadata": {},
   "outputs": [
    {
     "data": {
      "text/latex": [
       "\\begin{verbatim}\n",
       "ẋ = dynamics(model, z::AbstractKnotPoint)\n",
       "ẋ = dynamics(model, x, u, [t=0])\n",
       "\\end{verbatim}\n",
       "Compute the continuous dynamics of a forced dynamical given the states \\texttt{x}, controls \\texttt{u} and time \\texttt{t} (optional).\n",
       "\n"
      ],
      "text/markdown": [
       "```\n",
       "ẋ = dynamics(model, z::AbstractKnotPoint)\n",
       "ẋ = dynamics(model, x, u, [t=0])\n",
       "```\n",
       "\n",
       "Compute the continuous dynamics of a forced dynamical given the states `x`, controls `u` and time `t` (optional).\n"
      ],
      "text/plain": [
       "\u001b[36m  ẋ = dynamics(model, z::AbstractKnotPoint)\u001b[39m\n",
       "\u001b[36m  ẋ = dynamics(model, x, u, [t=0])\u001b[39m\n",
       "\n",
       "  Compute the continuous dynamics of a forced dynamical given the states \u001b[36mx\u001b[39m,\n",
       "  controls \u001b[36mu\u001b[39m and time \u001b[36mt\u001b[39m (optional)."
      ]
     },
     "execution_count": 12,
     "metadata": {},
     "output_type": "execute_result"
    }
   ],
   "source": [
    "?RD.dynamics"
   ]
  },
  {
   "cell_type": "code",
   "execution_count": 13,
   "metadata": {},
   "outputs": [
    {
     "data": {
      "text/plain": [
       "6"
      ]
     },
     "execution_count": 13,
     "metadata": {},
     "output_type": "execute_result"
    }
   ],
   "source": [
    "Nx = 13   # number of state\n",
    "Nu = 6     # number of controls"
   ]
  },
  {
   "cell_type": "code",
   "execution_count": 14,
   "metadata": {},
   "outputs": [
    {
     "data": {
      "text/plain": [
       "quadrotor_jacobian (generic function with 1 method)"
      ]
     },
     "execution_count": 14,
     "metadata": {},
     "output_type": "execute_result"
    }
   ],
   "source": [
    "function quadrotor_jacobian(x, u)\n",
    "    x_static = SVector{Nx, Float64}(x)\n",
    "    u_static = SVector{Nu, Float64}(u)\n",
    "    return ForwardDiff.jacobian(dx->dynamics(a, dx,u_static),x_static)\n",
    "end"
   ]
  },
  {
   "cell_type": "code",
   "execution_count": 15,
   "metadata": {},
   "outputs": [
    {
     "data": {
      "text/plain": [
       "quadrotor_input_jacobian (generic function with 1 method)"
      ]
     },
     "execution_count": 15,
     "metadata": {},
     "output_type": "execute_result"
    }
   ],
   "source": [
    "function quadrotor_input_jacobian(x,u)\n",
    "    x_static = SVector{Nx, Float64}(x)\n",
    "    u_static = SVector{Nu, Float64}(u)\n",
    "    return ForwardDiff.jacobian(du->dynamics(a, x_static,du),u_static)\n",
    "end"
   ]
  },
  {
   "cell_type": "code",
   "execution_count": 16,
   "metadata": {},
   "outputs": [
    {
     "data": {
      "text/plain": [
       "dfdu (generic function with 1 method)"
      ]
     },
     "execution_count": 16,
     "metadata": {},
     "output_type": "execute_result"
    }
   ],
   "source": [
    "function dfdx(x,u)\n",
    "    return I(Nx) + quadrotor_jacobian(x,u) .* h\n",
    "end\n",
    "\n",
    "function dfdu(x,u)\n",
    "    return quadrotor_input_jacobian(x,u) .* h\n",
    "end"
   ]
  },
  {
   "cell_type": "code",
   "execution_count": 17,
   "metadata": {},
   "outputs": [
    {
     "data": {
      "text/plain": [
       "dynamics_rk4 (generic function with 1 method)"
      ]
     },
     "execution_count": 17,
     "metadata": {},
     "output_type": "execute_result"
    }
   ],
   "source": [
    "function dynamics_rk4(x,u)\n",
    "    #RK4 integration with zero-order hold on u\n",
    "    x = SVector{Nx}(x)\n",
    "    u = SVector{Nu}(u)\n",
    "    # xn = Array(x + h * dynamics(a, x, u))\n",
    "    xn =  Array(dfdx(x,u) * x + dfdu(x,u) * u) # ZOH\n",
    "    xn[4:7] .= xn[4:7]/norm(xn[4:7])\n",
    "    return xn\n",
    "end"
   ]
  },
  {
   "cell_type": "code",
   "execution_count": 18,
   "metadata": {},
   "outputs": [],
   "source": [
    "Tfinal = 2.0 # final time\n",
    "Nt = Int(Tfinal/h)+1    # number of time steps\n",
    "thist = Array(range(0,h*(Nt-1), step=h));"
   ]
  },
  {
   "cell_type": "code",
   "execution_count": 19,
   "metadata": {},
   "outputs": [],
   "source": [
    "# Cost weights\n",
    "Q = Diagonal([1.0 * ones(7); 0.1 * ones(6)]);\n",
    "R = Array(0.001*I(Nu));\n",
    "Qn = Array(1000.0*I(Nx));"
   ]
  },
  {
   "cell_type": "code",
   "execution_count": 20,
   "metadata": {},
   "outputs": [
    {
     "data": {
      "text/plain": [
       "stage_cost (generic function with 1 method)"
      ]
     },
     "execution_count": 20,
     "metadata": {},
     "output_type": "execute_result"
    }
   ],
   "source": [
    "function stage_cost(x,u)\n",
    "    return 0.5*((x-xgoal)'*Q*(x-xgoal)) + 0.5(u'*R*u)\n",
    "end"
   ]
  },
  {
   "cell_type": "code",
   "execution_count": 21,
   "metadata": {},
   "outputs": [
    {
     "data": {
      "text/plain": [
       "terminal_cost (generic function with 1 method)"
      ]
     },
     "execution_count": 21,
     "metadata": {},
     "output_type": "execute_result"
    }
   ],
   "source": [
    "function terminal_cost(x)\n",
    "    return 0.5*(x-xgoal)'*Qn*(x-xgoal)\n",
    "end\n",
    "# посмотреть как делают остальные"
   ]
  },
  {
   "cell_type": "code",
   "execution_count": 22,
   "metadata": {},
   "outputs": [
    {
     "data": {
      "text/plain": [
       "cost (generic function with 1 method)"
      ]
     },
     "execution_count": 22,
     "metadata": {},
     "output_type": "execute_result"
    }
   ],
   "source": [
    "function cost(xtraj,utraj)\n",
    "    J = 0.0\n",
    "    for k = 1:(Nt-1)\n",
    "        J += stage_cost(xtraj[:,k],utraj[:,k])\n",
    "        # display(J)\n",
    "    end\n",
    "    J += terminal_cost(xtraj[:,Nt])\n",
    "    \n",
    "    return J\n",
    "end"
   ]
  },
  {
   "cell_type": "code",
   "execution_count": 23,
   "metadata": {},
   "outputs": [
    {
     "data": {
      "text/plain": [
       "backward_pass! (generic function with 1 method)"
      ]
     },
     "execution_count": 23,
     "metadata": {},
     "output_type": "execute_result"
    }
   ],
   "source": [
    "function backward_pass!(p,P,d,K)\n",
    "    \n",
    "    ΔJ = 0.0\n",
    "    p[:,Nt] .= Qn*(xtraj[:,Nt]-xgoal)\n",
    "    P[:,:,Nt] .= Qn\n",
    "    \n",
    "    for k = (Nt-1):-1:1\n",
    "        #Calculate derivatives\n",
    "        q = Q*(xtraj[:,k]-xgoal)\n",
    "        r = R*utraj[:, k]\n",
    "    \n",
    "        A = dfdx(xtraj[:,k], utraj[:,k]) #ForwardDiff.jacobian(dx->dynamics_rk4(dx,utraj[k]),xtraj[:,k])\n",
    "        B = dfdu(xtraj[:,k], utraj[:,k]) #ForwardDiff.derivative(du->dynamics_rk4(xtraj[:,k],du),utraj[k])\n",
    "        \n",
    "        # Ax = dAdx(xtraj[:,k], utraj[:,k])\n",
    "        # Bx = dBdx(xtraj[:,k], utraj[:,k])\n",
    "        # Au = dAdu(xtraj[:,k], utraj[:,k])\n",
    "        # Bu = dBdu(xtraj[:,k], utraj[:,k])\n",
    "    \n",
    "        gx = q + A'*p[:,k+1]\n",
    "        gu = r + B'*p[:,k+1]\n",
    "    \n",
    "        #iLQR (Gauss-Newton) version\n",
    "        Gxx = Q + A'*P[:,:,k+1]*A\n",
    "        Guu = R + B'*P[:,:,k+1]*B\n",
    "        Gxu = A'*P[:,:,k+1]*B\n",
    "        Gux = B'*P[:,:,k+1]*A\n",
    "        \n",
    "        #DDP (full Newton) version\n",
    "        # Gxx = Q + A'*P[:,:,k+1]*A + kron(p[:,k+1]',I(Nx))*comm(Nx,Nx)*Ax\n",
    "        # Guu = R + B'*P[:,:,k+1]*B + (kron(p[:,k+1]',I(Nu))*comm(Nx,Nu)*Bu)[1]\n",
    "        # Gxu = A'*P[:,:,k+1]*B + kron(p[:,k+1]',I(Nx))*comm(Nx,Nx)*Au\n",
    "        # Gux = B'*P[:,:,k+1]*A + kron(p[:,k+1]',I(Nu))*comm(Nx,Nu)*Bx\n",
    "        \n",
    "        β = 0.1\n",
    "        while !isposdef(Symmetric([Gxx Gxu; Gux Guu]))\n",
    "            Gxx += A'*β*I*A\n",
    "            Guu += B'*β*I*B\n",
    "            Gxu += A'*β*I*B\n",
    "            Gux += B'*β*I*A\n",
    "            β = 2*β\n",
    "            # display(\"regularizing G\")\n",
    "            if β == Inf\n",
    "                return NaN\n",
    "            end\n",
    "        end\n",
    "\n",
    "        try\n",
    "            _ = Guu \\ ones(size(Guu,1))\n",
    "        catch e\n",
    "            if isa(e, SingularException)\n",
    "                return NaN\n",
    "            end\n",
    "        end\n",
    "\n",
    "        d[:,k] .= Guu\\gu\n",
    "        K[:,:,k] .= Guu\\Gux\n",
    "    \n",
    "        p[:,k] .= gx - K[:,:,k]'*gu + K[:,:,k]'*Guu*d[:,k] - Gxu*d[:,k]\n",
    "        P[:,:,k] .= Gxx + K[:,:,k]'*Guu*K[:,:,k] - Gxu*K[:,:,k] - K[:,:,k]'*Gux\n",
    "    \n",
    "        ΔJ += gu'*d[:,k]\n",
    "    end\n",
    "    \n",
    "    return ΔJ\n",
    "end"
   ]
  },
  {
   "cell_type": "code",
   "execution_count": null,
   "metadata": {},
   "outputs": [],
   "source": []
  },
  {
   "cell_type": "code",
   "execution_count": 24,
   "metadata": {},
   "outputs": [],
   "source": [
    "#Initial guess\n",
    "m=a.mass\n",
    "g=9.81\n",
    "uhover = SVector{Nu}([0; 0; m*g;0;0;0])\n",
    "x0 = ([0.0; 0.0; 0; 1; 0; 0; 0; 0; 0; 0; 0; 0; 0])\n",
    "xgoal = SVector{Nx}([0.0; 0.0; 0.0; 0.965926; 0.258819; 0.0; 0.0; 0; 0; 0; 0; 0; 0])\n",
    "xtraj = kron(ones(1,Nt), x0)\n",
    "utraj = zeros(Nu, Nt-1) .+ uhover\n",
    "#f = jldopen(\"guess.jld2\", \"r\")\n",
    "#utraj = f[\"utraj\"];"
   ]
  },
  {
   "cell_type": "code",
   "execution_count": 25,
   "metadata": {},
   "outputs": [
    {
     "data": {
      "text/plain": [
       "377079.2947954726"
      ]
     },
     "execution_count": 25,
     "metadata": {},
     "output_type": "execute_result"
    }
   ],
   "source": [
    "#Initial Rollout\n",
    "for k = 1:(Nt-1)\n",
    "    xtraj[:,k+1] .= dynamics_rk4(xtraj[:,k],utraj[:,k])\n",
    "end\n",
    "J = cost(xtraj,utraj)"
   ]
  },
  {
   "cell_type": "code",
   "execution_count": 26,
   "metadata": {},
   "outputs": [
    {
     "data": {
      "text/plain": [
       "0.2697078736714706"
      ]
     },
     "metadata": {},
     "output_type": "display_data"
    },
    {
     "data": {
      "text/plain": [
       "0.2690281956024102"
      ]
     },
     "metadata": {},
     "output_type": "display_data"
    },
    {
     "data": {
      "text/plain": [
       "0.26902819560241015"
      ]
     },
     "metadata": {},
     "output_type": "display_data"
    }
   ],
   "source": [
    "#DDP Algorithm\n",
    "p = ones(Nx,Nt)\n",
    "P = zeros(Nx,Nx,Nt)\n",
    "d = ones(Nu,Nt-1)\n",
    "K = zeros(Nu,Nx,Nt-1)\n",
    "ΔJ = 1.0\n",
    "\n",
    "xn = zeros(Nx,Nt)\n",
    "un = zeros(Nu,Nt-1)\n",
    "\n",
    "gx = zeros(Nx)\n",
    "gu = zeros(Nu)\n",
    "Gxx = zeros(Nx,Nx)\n",
    "Guu = zeros(Nu)\n",
    "Gxu = zeros(Nx)\n",
    "Gux = zeros(Nx)\n",
    "\n",
    "iter = 0\n",
    "Jp = 0\n",
    "while abs(Jp-J) >  5 * 1e-5\n",
    "    iter += 1    \n",
    "    \n",
    "    #Backward Pass\n",
    "    ΔJ = backward_pass!(p,P,d,K)\n",
    "    if isnan(ΔJ)\n",
    "        stop = true\n",
    "        break\n",
    "    end\n",
    "    \n",
    "    #Forward rollout with line search\n",
    "    xn[:,1] = xtraj[:,1]\n",
    "    α = 1.0\n",
    "    \n",
    "    # display(K[:,:,1] * (xn[:,1]-xtraj[:,1]))\n",
    "    # display(utraj[:,1] - α*d[:,1] - K[:,:,1] * (xn[:,1]-xtraj[:,1]))\n",
    "    \n",
    "    for k = 1:(Nt-1)\n",
    "        un[:,k] .= utraj[:,k] - α*d[:,k] - K[:,:,k] * (xn[:,k]-xtraj[:,k])\n",
    "        xn[:,k+1] .= dynamics_rk4(xn[:,k],un[:,k])\n",
    "    end\n",
    "    Jn = cost(xn,un)\n",
    "    # display(Jn)\n",
    "    while isnan(Jn) || Jn > (J - 1e-2*α*ΔJ)\n",
    "        α = 0.5*α\n",
    "        for k = 1:(Nt-1)\n",
    "            un[:,k] .= utraj[:,k] - α*d[:,k] - K[:,:,k] * (xn[:,k]-xtraj[:,k])\n",
    "            xn[:,k+1] .= dynamics_rk4(xn[:,k],un[:,k])\n",
    "        end\n",
    "        Jn = cost(xn,un)\n",
    "        # display(Jn)\n",
    "    end\n",
    "    Jp = J\n",
    "    J = Jn\n",
    "    xtraj .= xn\n",
    "    utraj .= un\n",
    "    display(J)\n",
    "    # display(iter)\n",
    "    # display(α)\n",
    "    # display(maximum(abs.(d[:])))\n",
    "    # display(xtraj[:, Nt])\n",
    "end"
   ]
  },
  {
   "cell_type": "code",
   "execution_count": 27,
   "metadata": {},
   "outputs": [
    {
     "data": {
      "text/plain": [
       "3"
      ]
     },
     "execution_count": 27,
     "metadata": {},
     "output_type": "execute_result"
    }
   ],
   "source": [
    "iter"
   ]
  },
  {
   "cell_type": "code",
   "execution_count": 28,
   "metadata": {},
   "outputs": [
    {
     "data": {
      "text/plain": [
       "3×3 QuatRotation{Float64} with indices SOneTo(3)×SOneTo(3)(QuaternionF64(0.368871, -0.754934, 0.206149, -0.501509)):\n",
       "  0.411982   0.0587266   0.909297\n",
       " -0.681243  -0.642873    0.350175\n",
       "  0.605127  -0.763718   -0.224845"
      ]
     },
     "execution_count": 28,
     "metadata": {},
     "output_type": "execute_result"
    }
   ],
   "source": [
    "QuatRotation(RotXYZ(1,2,3))"
   ]
  },
  {
   "cell_type": "code",
   "execution_count": 29,
   "metadata": {},
   "outputs": [
    {
     "data": {
      "text/plain": [
       "0.26902819560241015"
      ]
     },
     "execution_count": 29,
     "metadata": {},
     "output_type": "execute_result"
    }
   ],
   "source": [
    "J"
   ]
  },
  {
   "cell_type": "code",
   "execution_count": 30,
   "metadata": {},
   "outputs": [
    {
     "data": {
      "image/png": "[encoded data removed]",
      "text/plain": [
       "Figure(PyObject <Figure size 640x480 with 1 Axes>)"
      ]
     },
     "metadata": {},
     "output_type": "display_data"
    },
    {
     "data": {
      "text/plain": [
       "1-element Vector{PyCall.PyObject}:\n",
       " PyObject <matplotlib.lines.Line2D object at 0x00000000703F8740>"
      ]
     },
     "execution_count": 30,
     "metadata": {},
     "output_type": "execute_result"
    }
   ],
   "source": [
    "plot(thist,xtraj[1,:])\n",
    "plot(thist,xtraj[2,:])\n",
    "plot(thist,xtraj[3,:])"
   ]
  },
  {
   "cell_type": "code",
   "execution_count": 31,
   "metadata": {},
   "outputs": [
    {
     "data": {
      "image/png": "[encoded data removed]",
      "text/plain": [
       "Figure(PyObject <Figure size 640x480 with 1 Axes>)"
      ]
     },
     "metadata": {},
     "output_type": "display_data"
    },
    {
     "data": {
      "text/plain": [
       "1-element Vector{PyCall.PyObject}:\n",
       " PyObject <matplotlib.lines.Line2D object at 0x00000000704DBF20>"
      ]
     },
     "execution_count": 31,
     "metadata": {},
     "output_type": "execute_result"
    }
   ],
   "source": [
    "plot(thist,xtraj[4,:])\n",
    "plot(thist,xtraj[5,:])\n",
    "plot(thist,xtraj[6,:])\n",
    "plot(thist,xtraj[7,:])"
   ]
  },
  {
   "cell_type": "code",
   "execution_count": 32,
   "metadata": {},
   "outputs": [
    {
     "data": {
      "image/png": "[encoded data removed]",
      "text/plain": [
       "Figure(PyObject <Figure size 640x480 with 1 Axes>)"
      ]
     },
     "metadata": {},
     "output_type": "display_data"
    },
    {
     "data": {
      "text/plain": [
       "PyObject <matplotlib.legend.Legend object at 0x000000007043E210>"
      ]
     },
     "execution_count": 32,
     "metadata": {},
     "output_type": "execute_result"
    }
   ],
   "source": [
    "# ошибку вычисляем с помощью матриц вращения, потом перевести в angleaxis. Вывести только угол ошибки\n",
    "ang_errors = zeros(Nt)\n",
    "pos_errors = zeros(Nt)\n",
    "r_des = xgoal[1:3]\n",
    "q_des = xgoal[4:7]\n",
    "for i in 1:Nt\n",
    "    x = xtraj[:, i]\n",
    "    r = x[1:3]\n",
    "    q = x[4:7]\n",
    "    err_ang = QuatRotation(q_des) * QuatRotation(q)'\n",
    "    ang_errors[i] = AngleAxis(QuatRotation(err_ang)).theta\n",
    "    pos_errors[i] = norm(r-r_des)\n",
    "end\n",
    "plot(thist, ang_errors, label=\"orientation error\")\n",
    "plot(thist, pos_errors, label=\"position error\")\n",
    "legend()"
   ]
  },
  {
   "cell_type": "code",
   "execution_count": 33,
   "metadata": {},
   "outputs": [],
   "source": [
    "# траектория с промежуточной точкой\n",
    "# оживить эйелера"
   ]
  },
  {
   "cell_type": "code",
   "execution_count": 34,
   "metadata": {},
   "outputs": [
    {
     "data": {
      "image/png": "[encoded data removed]",
      "text/plain": [
       "Figure(PyObject <Figure size 640x480 with 1 Axes>)"
      ]
     },
     "metadata": {},
     "output_type": "display_data"
    },
    {
     "data": {
      "text/plain": [
       "1-element Vector{PyCall.PyObject}:\n",
       " PyObject <matplotlib.lines.Line2D object at 0x0000000085751C10>"
      ]
     },
     "execution_count": 34,
     "metadata": {},
     "output_type": "execute_result"
    }
   ],
   "source": [
    "plot(thist[1:Nt-1],utraj[1,:])\n",
    "plot(thist[1:Nt-1],utraj[2,:])\n",
    "plot(thist[1:Nt-1],utraj[3,:])\n",
    "plot(thist[1:Nt-1],utraj[4,:])"
   ]
  },
  {
   "cell_type": "code",
   "execution_count": 35,
   "metadata": {},
   "outputs": [
    {
     "name": "stderr",
     "output_type": "stream",
     "text": [
      "\u001b[36m\u001b[1m┌ \u001b[22m\u001b[39m\u001b[36m\u001b[1mInfo: \u001b[22m\u001b[39mMeshCat server started. You can open the visualizer by visiting the following URL in your browser:\n",
      "\u001b[36m\u001b[1m└ \u001b[22m\u001b[39mhttp://127.0.0.1:8702\n"
     ]
    },
    {
     "data": {
      "text/html": [
       "    <div style=\"height: 500px; width: 100%; overflow-x: auto; overflow-y: hidden; resize: both\">\n",
       "    <iframe src=\"http://127.0.0.1:8702\" style=\"width: 100%; height: 100%; border: none\"></iframe>\n",
       "    </div>\n"
      ],
      "text/plain": [
       "MeshCat.DisplayedVisualizer(MeshCat.CoreVisualizer(MeshCat.SceneTrees.SceneNode(nothing, nothing, Dict{String, Vector{UInt8}}(), nothing, Dict{String, MeshCat.SceneTrees.SceneNode}()), Set{Any}(), ip\"127.0.0.1\", 8702))"
      ]
     },
     "execution_count": 35,
     "metadata": {},
     "output_type": "execute_result"
    }
   ],
   "source": [
    "using TrajOptPlots\n",
    "using MeshCat\n",
    "using StaticArrays\n",
    "\n",
    "vis = Visualizer()\n",
    "render(vis)"
   ]
  },
  {
   "cell_type": "code",
   "execution_count": 36,
   "metadata": {},
   "outputs": [
    {
     "data": {
      "text/plain": [
       "false"
      ]
     },
     "execution_count": 36,
     "metadata": {},
     "output_type": "execute_result"
    }
   ],
   "source": [
    "TrajOptPlots.set_mesh!(vis, RobotZoo.Quadrotor())"
   ]
  },
  {
   "cell_type": "code",
   "execution_count": 37,
   "metadata": {},
   "outputs": [
    {
     "data": {
      "text/plain": [
       "change_state_form (generic function with 1 method)"
      ]
     },
     "execution_count": 37,
     "metadata": {},
     "output_type": "execute_result"
    }
   ],
   "source": [
    "function change_state_form(x)\n",
    "    out = zeros(13)\n",
    "    out[1:3] .= x[1:3]\n",
    "    q = UnitQuaternion(RotXYZ(x[4], x[5], x[6]))\n",
    "    out[4] = q.w\n",
    "    out[5] = q.x\n",
    "    out[6] = q.y\n",
    "    out[7] = q.z\n",
    "    out[8:13] .= x[7:12]\n",
    "    return out\n",
    "end"
   ]
  },
  {
   "cell_type": "code",
   "execution_count": 38,
   "metadata": {},
   "outputs": [],
   "source": [
    "X1 = [SVector{13}(x) for x in eachcol(xtraj)];\n",
    "\n",
    "visualize!(vis, RobotZoo.Quadrotor(), thist[end], X1)"
   ]
  },
  {
   "cell_type": "markdown",
   "metadata": {},
   "source": [
    "# Feasible angles visualization"
   ]
  },
  {
   "cell_type": "code",
   "execution_count": 39,
   "metadata": {},
   "outputs": [
    {
     "data": {
      "text/plain": [
       "20×20 Matrix{Float64}:\n",
       "  1.0         1.0         1.0        …   1.0         1.0         1.0\n",
       "  0.986361    0.986361    0.986361       0.986361    0.986361    0.986361\n",
       "  0.945817    0.945817    0.945817       0.945817    0.945817    0.945817\n",
       "  0.879474    0.879474    0.879474       0.879474    0.879474    0.879474\n",
       "  0.789141    0.789141    0.789141       0.789141    0.789141    0.789141\n",
       "  0.677282    0.677282    0.677282   …   0.677282    0.677282    0.677282\n",
       "  0.546948    0.546948    0.546948       0.546948    0.546948    0.546948\n",
       "  0.401695    0.401695    0.401695       0.401695    0.401695    0.401695\n",
       "  0.245485    0.245485    0.245485       0.245485    0.245485    0.245485\n",
       "  0.0825793   0.0825793   0.0825793      0.0825793   0.0825793   0.0825793\n",
       " -0.0825793  -0.0825793  -0.0825793  …  -0.0825793  -0.0825793  -0.0825793\n",
       " -0.245485   -0.245485   -0.245485      -0.245485   -0.245485   -0.245485\n",
       " -0.401695   -0.401695   -0.401695      -0.401695   -0.401695   -0.401695\n",
       " -0.546948   -0.546948   -0.546948      -0.546948   -0.546948   -0.546948\n",
       " -0.677282   -0.677282   -0.677282      -0.677282   -0.677282   -0.677282\n",
       " -0.789141   -0.789141   -0.789141   …  -0.789141   -0.789141   -0.789141\n",
       " -0.879474   -0.879474   -0.879474      -0.879474   -0.879474   -0.879474\n",
       " -0.945817   -0.945817   -0.945817      -0.945817   -0.945817   -0.945817\n",
       " -0.986361   -0.986361   -0.986361      -0.986361   -0.986361   -0.986361\n",
       " -1.0        -1.0        -1.0           -1.0        -1.0        -1.0"
      ]
     },
     "execution_count": 39,
     "metadata": {},
     "output_type": "execute_result"
    }
   ],
   "source": [
    "# Number of divisions for the sphere\n",
    "Count = 20\n",
    "\n",
    "# Generate the sphere mesh\n",
    "θ = range(0, stop=π, length=Count)\n",
    "ϕ = range(0, stop=2π, length=Count)\n",
    "X = [sin(t)*cos(p) for t in θ, p in ϕ]\n",
    "Y = [sin(t)*sin(p) for t in θ, p in ϕ]\n",
    "Z = [cos(t) for t in θ, _ in ϕ]"
   ]
  },
  {
   "cell_type": "markdown",
   "metadata": {},
   "source": [
    "## iLQR iterations"
   ]
  },
  {
   "cell_type": "code",
   "execution_count": 40,
   "metadata": {},
   "outputs": [
    {
     "data": {
      "text/plain": [
       "calculate_error (generic function with 1 method)"
      ]
     },
     "execution_count": 40,
     "metadata": {},
     "output_type": "execute_result"
    }
   ],
   "source": [
    "# ошибку вычисляем с помощью матриц вращения, потом перевести в angleaxis. Вывести только угол ошибки\n",
    "function calculate_error(last_pos)\n",
    "    ang_error = 0.0\n",
    "    pos_error = 0.0\n",
    "    r_des = xgoal[1:3]\n",
    "    q_des = xgoal[4:7]\n",
    "    x = last_pos\n",
    "    r = x[1:3]\n",
    "    q = x[4:7]\n",
    "    err_ang = QuatRotation(q_des) * QuatRotation(q)'\n",
    "    ang_error = AngleAxis(QuatRotation(err_ang)).theta\n",
    "    pos_error = norm(r-r_des)\n",
    "    return ang_error + pos_error\n",
    "end"
   ]
  },
  {
   "cell_type": "code",
   "execution_count": 41,
   "metadata": {},
   "outputs": [
    {
     "data": {
      "text/plain": [
       "get_quaternion (generic function with 1 method)"
      ]
     },
     "execution_count": 41,
     "metadata": {},
     "output_type": "execute_result"
    }
   ],
   "source": [
    "e = [0.0, 0.0, 1.0]\n",
    "function get_quaternion(n)\n",
    "        if norm(n) < 1e-8\n",
    "            next!(bar)\n",
    "            # print(n)\n",
    "            return NaN\n",
    "        end\n",
    "        n = n / norm(n)\n",
    "        pitch = cross(e, n)\n",
    "        if norm(pitch) < 1e-8\n",
    "            next!(bar)\n",
    "            # print(n, pitch)\n",
    "            return NaN\n",
    "        end\n",
    "        pitch = pitch / norm(pitch)\n",
    "        b = cross(pitch, n)\n",
    "        if norm(b) < 1e-8\n",
    "            next!(bar)\n",
    "            # print(n, pitch, b)\n",
    "            return NaN\n",
    "        end\n",
    "        b = b / norm(b)\n",
    "\n",
    "        T = QuatRotation(RotZYX([n pitch b]))\n",
    "        # correct inital conditions\n",
    "        return  [T.w, T.x, T.y, T.z]\n",
    "end"
   ]
  },
  {
   "cell_type": "code",
   "execution_count": 42,
   "metadata": {},
   "outputs": [
    {
     "name": "stderr",
     "output_type": "stream",
     "text": [
      "\u001b[32mIteration: 100%|████████████████████████████████████████| Time: 0:00:54\u001b[39m\n"
     ]
    }
   ],
   "source": [
    "using ProgressMeter\n",
    "bar = Progress(Count * Count, desc=\"Iteration: \")\n",
    "#DDP Algorithm\n",
    "#Initial Rollout\n",
    "e = [0.0, 0.0, 1.0]\n",
    "Hmap_iterations = zeros(Count,Count)\n",
    "Hmap_time = zeros(Count,Count)\n",
    "Hmap_error = zeros(Count,Count)\n",
    "Hmap_cost = zeros(Count, Count)\n",
    "for i in 1:Count\n",
    "    for j in 1:Count\n",
    "        t_start = time()\n",
    "        iter = 0\n",
    "        # Tramsform sphere coords to euler angles:\n",
    "        n = [X[i,j], Y[i,j], Z[i,j]]\n",
    "\n",
    "        quat = get_quaternion(n)\n",
    "\n",
    "        if any(isnan, quat)\n",
    "            # print(quat)\n",
    "            Hmap_iterations[i,j] = NaN\n",
    "            Hmap_time[i,j] = NaN\n",
    "            Hmap_error[i,j] = NaN\n",
    "            Hmap_cost[i,j] = NaN\n",
    "            continue\n",
    "        end\n",
    "        \n",
    "        # correct inital conditions\n",
    "        x0[4:7] .= quat\n",
    "        # correct initial trajectory\n",
    "        xtraj = kron(ones(1,Nt), x0)\n",
    "        utraj = zeros(Nu, Nt-1) .+ uhover\n",
    "        for k = 1:(Nt-1)\n",
    "            xtraj[:,k+1] .= dynamics_rk4(xtraj[:,k],utraj[:,k])\n",
    "        end\n",
    "        J = cost(xtraj,utraj)\n",
    "        # iLQR start\n",
    "        p = ones(Nx,Nt)\n",
    "        P = zeros(Nx,Nx,Nt)\n",
    "        d = ones(Nu,Nt-1)\n",
    "        K = zeros(Nu,Nx,Nt-1)\n",
    "        ΔJ = 1.0\n",
    "        \n",
    "        xn = zeros(Nx,Nt)\n",
    "        un = zeros(Nu,Nt-1)\n",
    "        \n",
    "        gx = zeros(Nx)\n",
    "        gu = zeros(Nu)\n",
    "        Gxx = zeros(Nx,Nx)\n",
    "        Guu = zeros(Nu)\n",
    "        Gxu = zeros(Nx)\n",
    "        Gux = zeros(Nx)\n",
    "        \n",
    "        Jp = 0\n",
    "        stop = false\n",
    "        while abs(Jp-J) >  5 * 1e-5\n",
    "            if stop\n",
    "                break\n",
    "            end\n",
    "            iter += 1    \n",
    "            \n",
    "            #Backward Pass\n",
    "            ΔJ = backward_pass!(p,P,d,K)\n",
    "            if isnan(ΔJ)\n",
    "                stop = true\n",
    "                break\n",
    "            end\n",
    "            #Forward rollout with line search\n",
    "            xn[:,1] = xtraj[:,1]\n",
    "            α = 1.0\n",
    "            \n",
    "            # display(K[:,:,1] * (xn[:,1]-xtraj[:,1]))\n",
    "            # display(utraj[:,1] - α*d[:,1] - K[:,:,1] * (xn[:,1]-xtraj[:,1]))\n",
    "            \n",
    "            for k = 1:(Nt-1)\n",
    "                un[:,k] .= utraj[:,k] - α*d[:,k] - K[:,:,k] * (xn[:,k]-xtraj[:,k])\n",
    "                try\n",
    "                    xn[:,k+1] .= dynamics_rk4(xn[:,k],un[:,k])\n",
    "                catch err\n",
    "                    # print(\"Current x: $(xn[:,k])\\n\")\n",
    "                    # print(\"Current u: $(un[:,k-1])\\n\")\n",
    "                    # print(\"Previous x: $(xn[:,k-2])\\n\")\n",
    "                    stop = true \n",
    "                end\n",
    "            end\n",
    "            Jn = cost(xn,un)\n",
    "            # display(Jn)\n",
    "            while isnan(Jn) || Jn > (J - 1e-2*α*ΔJ)\n",
    "                α = 0.5*α\n",
    "                for k = 1:(Nt-1)\n",
    "                    un[:,k] .= utraj[:,k] - α*d[:,k] - K[:,:,k] * (xn[:,k]-xtraj[:,k])\n",
    "                    try\n",
    "                        xn[:,k+1] .= dynamics_rk4(xn[:,k],un[:,k])\n",
    "                    catch err\n",
    "                        # print(\"Current x: $(xn[:,k])\\n\")\n",
    "                        # print(\"Current u: $(un[:,k-1])\\n\")\n",
    "                        # print(\"Previous x: $(xn[:,k-2])\\n\")\n",
    "                        stop = true\n",
    "                    end\n",
    "                end\n",
    "                Jn = cost(xn,un)\n",
    "                # display(Jn)\n",
    "            end\n",
    "            \n",
    "            Jp = J\n",
    "            J = Jn\n",
    "            xtraj .= xn\n",
    "            utraj .= un\n",
    "\n",
    "        end\n",
    "        if stop\n",
    "            Hmap_iterations[i,j] = NaN\n",
    "            Hmap_time[i,j] = NaN\n",
    "            Hmap_error[i,j] = NaN\n",
    "            Hmap_cost[i,j] = NaN\n",
    "        else\n",
    "            Hmap_iterations[i,j] = iter\n",
    "            Hmap_time[i,j] = time() - t_start\n",
    "            Hmap_error[i,j] = calculate_error(xtraj[:, Nt])\n",
    "            Hmap_cost[i,j] = J\n",
    "        end\n",
    "        next!(bar)\n",
    "    end\n",
    "end"
   ]
  },
  {
   "cell_type": "markdown",
   "metadata": {},
   "source": [
    "## Saving obtained iteration heatmap"
   ]
  },
  {
   "cell_type": "code",
   "execution_count": 43,
   "metadata": {},
   "outputs": [],
   "source": [
    "@save \"quaternions/fa/FE/Hmap_quat_ZOH_iter.jld2\" Hmap_iterations\n",
    "@save \"quaternions/fa/FE/Hmap_quat_ZOH_time.jld2\" Hmap_time\n",
    "@save \"quaternions/fa/FE/Hmap_quat_ZOH_error.jld2\" Hmap_error\n",
    "@save \"quaternions/fa/FE/Hmap_quat_ZOH_cost.jld2\" Hmap_cost"
   ]
  },
  {
   "cell_type": "markdown",
   "metadata": {},
   "source": [
    "## Graph Plotting"
   ]
  },
  {
   "cell_type": "code",
   "execution_count": 44,
   "metadata": {},
   "outputs": [
    {
     "data": {
      "text/plain": [
       "1-element Vector{Symbol}:\n",
       " :Hmap_cost"
      ]
     },
     "execution_count": 44,
     "metadata": {},
     "output_type": "execute_result"
    }
   ],
   "source": [
    "@load \"quaternions/fa/FE/Hmap_quat_ZOH_iter.jld2\" Hmap_iterations\n",
    "@load \"quaternions/fa/FE/Hmap_quat_ZOH_time.jld2\" Hmap_time\n",
    "@load \"quaternions/fa/FE/Hmap_quat_ZOH_error.jld2\" Hmap_error\n",
    "@load \"quaternions/fa/FE/Hmap_quat_ZOH_cost.jld2\" Hmap_cost"
   ]
  },
  {
   "cell_type": "code",
   "execution_count": 45,
   "metadata": {},
   "outputs": [],
   "source": [
    "# Start the figure\n",
    "pygui(true)\n",
    "Hmap_norm = Hmap_error ./ maximum(filter(!isnan, Hmap_error))\n",
    "fig = PyPlot.figure()\n",
    "ax = fig.add_subplot(111, projection=\"3d\")\n",
    "# Custom colormap\n",
    "cmap = PyPlot.get_cmap(\"cividis\", 256)\n",
    "cmap.set_bad(\"red\")     # NaNs or masked values\n",
    "# newcolors = cmap(LinRange(0, 1, 256))\n",
    "# Red for failing intial conditions\n",
    "# red = [256/256; 0/256; 0/256; 1]\n",
    "# newcolors[:1, :] .= red\n",
    "# newcmp = PyPlot.matplotlib.colors.ListedColormap(newcolors)\n",
    "colors = cmap.(Hmap_norm)\n",
    "\n",
    "psm = ax.plot_surface(X, Y, Z,\n",
    "    facecolors=colors,\n",
    "    linewidth=0.5, alpha=0.5,\n",
    "    shade=false)\n",
    "\n",
    "ax.set_box_aspect([1,1,1])  # Equal aspect ratio\n",
    "cbar = fig.colorbar(psm, ax=ax)\n",
    "cbar.set_ticks([0, 1])  # Show ticks at the normalized range\n",
    "cbar.set_ticklabels([0, maximum(filter(!isnan, Hmap_error))])  # Map ticks back to the original data range\n",
    "PyPlot.tight_layout()\n",
    "PyPlot.show()"
   ]
  }
 ],
 "metadata": {
  "kernelspec": {
   "display_name": " 1.7.3",
   "language": "julia",
   "name": "-1.7"
  },
  "language_info": {
   "file_extension": ".jl",
   "mimetype": "application/julia",
   "name": "julia",
   "version": "1.7.3"
  }
 },
 "nbformat": 4,
 "nbformat_minor": 4
}
