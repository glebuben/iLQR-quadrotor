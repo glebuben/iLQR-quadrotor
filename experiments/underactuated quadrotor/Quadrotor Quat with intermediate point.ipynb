{
 "cells": [
  {
   "cell_type": "code",
   "execution_count": 1,
   "metadata": {},
   "outputs": [
    {
     "name": "stderr",
     "output_type": "stream",
     "text": [
      "\u001b[32m\u001b[1m    Updating\u001b[22m\u001b[39m registry at `C:\\Users\\g.kirillov\\.julia\\registries\\General.toml`\n",
      "\u001b[32m\u001b[1m   Resolving\u001b[22m\u001b[39m package versions...\n",
      "\u001b[33m\u001b[1m┌ \u001b[22m\u001b[39m\u001b[33m\u001b[1mWarning: \u001b[22m\u001b[39mThe active manifest file at `C:\\Users\\g.kirillov\\DDP\\Manifest.toml` has an old format that is being maintained.\n",
      "\u001b[33m\u001b[1m│ \u001b[22m\u001b[39mTo update to the new format run `Pkg.upgrade_manifest()` which will upgrade the format without re-resolving.\n",
      "\u001b[33m\u001b[1m└ \u001b[22m\u001b[39m\u001b[90m@ Pkg.Types C:\\buildbot\\worker\\package_win64\\build\\usr\\share\\julia\\stdlib\\v1.7\\Pkg\\src\\manifest.jl:287\u001b[39m\n",
      "\u001b[32m\u001b[1m  No Changes\u001b[22m\u001b[39m to `C:\\Users\\g.kirillov\\DDP\\Project.toml`\n",
      "\u001b[32m\u001b[1m  No Changes\u001b[22m\u001b[39m to `C:\\Users\\g.kirillov\\DDP\\Manifest.toml`\n",
      "\u001b[33m\u001b[1m┌ \u001b[22m\u001b[39m\u001b[33m\u001b[1mWarning: \u001b[22m\u001b[39mThe active manifest file is an older format with no julia version entry. Dependencies may have been resolved with a different julia version.\n",
      "\u001b[33m\u001b[1m└ \u001b[22m\u001b[39m\u001b[90m@ C:\\Users\\g.kirillov\\DDP\\Manifest.toml:0\u001b[39m\n"
     ]
    }
   ],
   "source": [
    "import Pkg; Pkg.add(\"Rotations\")"
   ]
  },
  {
   "cell_type": "code",
   "execution_count": 2,
   "metadata": {},
   "outputs": [
    {
     "name": "stderr",
     "output_type": "stream",
     "text": [
      "\u001b[32m\u001b[1m  Activating\u001b[22m\u001b[39m project at `C:\\Users\\g.kirillov\\DDP`\n"
     ]
    }
   ],
   "source": [
    "import Pkg; Pkg.activate(\".\"); Pkg.instantiate()"
   ]
  },
  {
   "cell_type": "code",
   "execution_count": 3,
   "metadata": {},
   "outputs": [],
   "source": [
    "import Pkg; Pkg.precompile()"
   ]
  },
  {
   "cell_type": "code",
   "execution_count": 4,
   "metadata": {},
   "outputs": [
    {
     "name": "stderr",
     "output_type": "stream",
     "text": [
      "\u001b[32m\u001b[1m    Building\u001b[22m\u001b[39m WebIO ──→ `C:\\Users\\g.kirillov\\.julia\\scratchspaces\\44cfe95a-1eb2-52ea-b672-e2afdf69b78f\\0eef0765186f7452e52236fa42ca8c9b3c11c6e3\\build.log`\n",
      "\u001b[32m\u001b[1m    Building\u001b[22m\u001b[39m Blink ──→ `C:\\Users\\g.kirillov\\.julia\\scratchspaces\\44cfe95a-1eb2-52ea-b672-e2afdf69b78f\\08d0b679fd7caa49e2bca9214b131289e19808c0\\build.log`\n",
      "\u001b[32m\u001b[1m    Building\u001b[22m\u001b[39m MeshCat → `C:\\Users\\g.kirillov\\.julia\\scratchspaces\\44cfe95a-1eb2-52ea-b672-e2afdf69b78f\\ca4a1e45f5d2a2148c599804a6619da7708ede69\\build.log`\n"
     ]
    }
   ],
   "source": [
    "using Pkg\n",
    "Pkg.build(\"MeshCat\")"
   ]
  },
  {
   "cell_type": "code",
   "execution_count": 5,
   "metadata": {},
   "outputs": [],
   "source": [
    "using LinearAlgebra\n",
    "using PyPlot\n",
    "using ForwardDiff\n",
    "using RobotZoo\n",
    "using RobotDynamics\n",
    "import RobotDynamics as RD\n",
    "using MatrixCalculus\n",
    "using JLD2\n",
    "using StaticArrays\n",
    "using Rotations"
   ]
  },
  {
   "cell_type": "code",
   "execution_count": 6,
   "metadata": {},
   "outputs": [
    {
     "data": {
      "text/plain": [
       "0.05"
      ]
     },
     "execution_count": 6,
     "metadata": {},
     "output_type": "execute_result"
    }
   ],
   "source": [
    "#Acrobot Dynamics\n",
    "a = RobotZoo.Quadrotor()\n",
    "h = 0.05"
   ]
  },
  {
   "cell_type": "code",
   "execution_count": 7,
   "metadata": {},
   "outputs": [
    {
     "data": {
      "text/plain": [
       "dynamics_rk4 (generic function with 1 method)"
      ]
     },
     "execution_count": 7,
     "metadata": {},
     "output_type": "execute_result"
    }
   ],
   "source": [
    "function dynamics_rk4(x,u)\n",
    "    #RK4 integration with zero-order hold on u\n",
    "    x = SVector{13}(x)\n",
    "    u = SVector{4}(u)\n",
    "    f1 = dynamics(a, x, u)\n",
    "    f2 = dynamics(a, x + 0.5*h*f1, u)\n",
    "    f3 = dynamics(a, x + 0.5*h*f2, u)\n",
    "    f4 = dynamics(a, x + h*f3, u)\n",
    "    xn = SizedArray(x + (h/6.0)*(f1 + 2*f2 + 2*f3 + f4))\n",
    "    xn[4:7] .= xn[4:7]/norm(xn[4:7])\n",
    "    return xn\n",
    "end"
   ]
  },
  {
   "cell_type": "code",
   "execution_count": 8,
   "metadata": {},
   "outputs": [
    {
     "data": {
      "text/plain": [
       "dfdu (generic function with 1 method)"
      ]
     },
     "execution_count": 8,
     "metadata": {},
     "output_type": "execute_result"
    }
   ],
   "source": [
    "function dfdx(x,u)\n",
    "    return ForwardDiff.jacobian(dx->dynamics_rk4(dx,u),x)\n",
    "end\n",
    "\n",
    "function dfdu(x,u)\n",
    "    return ForwardDiff.jacobian(du->dynamics_rk4(x,du),u)\n",
    "end"
   ]
  },
  {
   "cell_type": "code",
   "execution_count": 9,
   "metadata": {},
   "outputs": [
    {
     "data": {
      "text/plain": [
       "dBdu (generic function with 1 method)"
      ]
     },
     "execution_count": 9,
     "metadata": {},
     "output_type": "execute_result"
    }
   ],
   "source": [
    "function dAdx(x,u)\n",
    "    ForwardDiff.jacobian(dx->vec(dfdx(dx,u)),x)\n",
    "end\n",
    "\n",
    "function dBdx(x,u)\n",
    "    ForwardDiff.jacobian(dx->dfdu(dx,u),x)\n",
    "end\n",
    "\n",
    "function dAdu(x,u)\n",
    "    ForwardDiff.jacobian(du->vec(dfdx(x,du)),u)\n",
    "end\n",
    "\n",
    "function dBdu(x,u)\n",
    "    ForwardDiff.jacobian(du->dfdu(x,du),u)\n",
    "end"
   ]
  },
  {
   "cell_type": "code",
   "execution_count": 38,
   "metadata": {},
   "outputs": [],
   "source": [
    "Nx = 13   # number of state\n",
    "Nu = 4     # number of controls\n",
    "Tfinal = 10.0 # final time\n",
    "Teps = 0.6\n",
    "Nt = Int(Tfinal/h)+1    # number of time steps\n",
    "thist = Array(range(0,h*(Nt-1), step=h));"
   ]
  },
  {
   "cell_type": "code",
   "execution_count": 66,
   "metadata": {},
   "outputs": [],
   "source": [
    "# Cost weights\n",
    "Q = Diagonal([1.0 * ones(7); 0.1 * ones(6)]);\n",
    "Qi = Diagonal([100000.0 * ones(7); 0.01 * ones(6)])\n",
    "Qline = Diagonal([100000.0; 0.01; 100000.0 * ones(5); 0.01 * ones(6)])\n",
    "R = Array(0.1*I(Nu));\n",
    "Qn = Array(1000.0*I(Nx));"
   ]
  },
  {
   "cell_type": "code",
   "execution_count": 67,
   "metadata": {},
   "outputs": [
    {
     "data": {
      "text/plain": [
       "13×13 Diagonal{Float64, Vector{Float64}}:\n",
       " 100000.0   ⋅          ⋅         ⋅   …   ⋅     ⋅     ⋅     ⋅     ⋅     ⋅ \n",
       "       ⋅   0.01        ⋅         ⋅       ⋅     ⋅     ⋅     ⋅     ⋅     ⋅ \n",
       "       ⋅    ⋅    100000.0        ⋅       ⋅     ⋅     ⋅     ⋅     ⋅     ⋅ \n",
       "       ⋅    ⋅          ⋅   100000.0      ⋅     ⋅     ⋅     ⋅     ⋅     ⋅ \n",
       "       ⋅    ⋅          ⋅         ⋅       ⋅     ⋅     ⋅     ⋅     ⋅     ⋅ \n",
       "       ⋅    ⋅          ⋅         ⋅   …   ⋅     ⋅     ⋅     ⋅     ⋅     ⋅ \n",
       "       ⋅    ⋅          ⋅         ⋅       ⋅     ⋅     ⋅     ⋅     ⋅     ⋅ \n",
       "       ⋅    ⋅          ⋅         ⋅      0.01   ⋅     ⋅     ⋅     ⋅     ⋅ \n",
       "       ⋅    ⋅          ⋅         ⋅       ⋅    0.01   ⋅     ⋅     ⋅     ⋅ \n",
       "       ⋅    ⋅          ⋅         ⋅       ⋅     ⋅    0.01   ⋅     ⋅     ⋅ \n",
       "       ⋅    ⋅          ⋅         ⋅   …   ⋅     ⋅     ⋅    0.01   ⋅     ⋅ \n",
       "       ⋅    ⋅          ⋅         ⋅       ⋅     ⋅     ⋅     ⋅    0.01   ⋅ \n",
       "       ⋅    ⋅          ⋅         ⋅       ⋅     ⋅     ⋅     ⋅     ⋅    0.01"
      ]
     },
     "execution_count": 67,
     "metadata": {},
     "output_type": "execute_result"
    }
   ],
   "source": [
    "Qline"
   ]
  },
  {
   "cell_type": "code",
   "execution_count": 68,
   "metadata": {},
   "outputs": [
    {
     "data": {
      "text/plain": [
       "stage_cost (generic function with 1 method)"
      ]
     },
     "execution_count": 68,
     "metadata": {},
     "output_type": "execute_result"
    }
   ],
   "source": [
    "function stage_cost(x,u)\n",
    "    return 0.5*((x-xgoal)'*Q*(x-xgoal)) + 0.5(u'*R*u)\n",
    "end"
   ]
  },
  {
   "cell_type": "code",
   "execution_count": 69,
   "metadata": {},
   "outputs": [
    {
     "data": {
      "text/plain": [
       "terminal_cost (generic function with 1 method)"
      ]
     },
     "execution_count": 69,
     "metadata": {},
     "output_type": "execute_result"
    }
   ],
   "source": [
    "function terminal_cost(x)\n",
    "    return 0.5*(x-xgoal)'*Qn*(x-xgoal)\n",
    "end\n",
    "# посмотреть как делают остальные"
   ]
  },
  {
   "cell_type": "code",
   "execution_count": 70,
   "metadata": {},
   "outputs": [
    {
     "data": {
      "text/plain": [
       "cost (generic function with 1 method)"
      ]
     },
     "execution_count": 70,
     "metadata": {},
     "output_type": "execute_result"
    }
   ],
   "source": [
    "function cost(xtraj,utraj)\n",
    "    J = 0.0\n",
    "    for k = 1:(Nt-1)\n",
    "        J += stage_cost(xtraj[:,k],utraj[:,k])\n",
    "        # display(J)\n",
    "    end\n",
    "    J += terminal_cost(xtraj[:,Nt])\n",
    "    \n",
    "    return J\n",
    "end"
   ]
  },
  {
   "cell_type": "code",
   "execution_count": 71,
   "metadata": {},
   "outputs": [
    {
     "data": {
      "text/plain": [
       "backward_pass! (generic function with 1 method)"
      ]
     },
     "execution_count": 71,
     "metadata": {},
     "output_type": "execute_result"
    }
   ],
   "source": [
    "function backward_pass!(p,P,d,K)\n",
    "    xdes = xgoal\n",
    "    Qs = Q\n",
    "    ΔJ = 0.0\n",
    "    p[:,Nt] .= Qn*(xtraj[:,Nt]-xgoal)\n",
    "    P[:,:,Nt] .= Qn\n",
    "    \n",
    "    for k = (Nt-1):-1:1\n",
    "        #Calculate derivatives\n",
    "        if thist[k] > Tinterm - Teps && thist[k] < Tinterm\n",
    "            Qs = Qline\n",
    "        elseif thist[k] == Tinterm\n",
    "            Qs = Qi\n",
    "            xdes = xinterm\n",
    "        else \n",
    "            Qs = Q\n",
    "        end\n",
    "            \n",
    "        q = Qs*(xtraj[:,k]-xdes)\n",
    "        r = R*utraj[:, k]\n",
    "        A = dfdx(xtraj[:,k], utraj[:,k]) #ForwardDiff.jacobian(dx->dynamics_rk4(dx,utraj[k]),xtraj[:,k])\n",
    "        B = dfdu(xtraj[:,k], utraj[:,k]) #ForwardDiff.derivative(du->dynamics_rk4(xtraj[:,k],du),utraj[k])\n",
    "        \n",
    "        # Ax = dAdx(xtraj[:,k], utraj[:,k])\n",
    "        # Bx = dBdx(xtraj[:,k], utraj[:,k])\n",
    "        # Au = dAdu(xtraj[:,k], utraj[:,k])\n",
    "        # Bu = dBdu(xtraj[:,k], utraj[:,k])\n",
    "    \n",
    "        gx = q + A'*p[:,k+1]\n",
    "        gu = r + B'*p[:,k+1]\n",
    "    \n",
    "        #iLQR (Gauss-Newton) version\n",
    "        Gxx = Qs + A'*P[:,:,k+1]*A\n",
    "        Guu = R + B'*P[:,:,k+1]*B\n",
    "        Gxu = A'*P[:,:,k+1]*B\n",
    "        Gux = B'*P[:,:,k+1]*A\n",
    "        \n",
    "        #DDP (full Newton) version\n",
    "        # Gxx = Q + A'*P[:,:,k+1]*A + kron(p[:,k+1]',I(Nx))*comm(Nx,Nx)*Ax\n",
    "        # Guu = R + B'*P[:,:,k+1]*B + (kron(p[:,k+1]',I(Nu))*comm(Nx,Nu)*Bu)[1]\n",
    "        # Gxu = A'*P[:,:,k+1]*B + kron(p[:,k+1]',I(Nx))*comm(Nx,Nx)*Au\n",
    "        # Gux = B'*P[:,:,k+1]*A + kron(p[:,k+1]',I(Nu))*comm(Nx,Nu)*Bx\n",
    "        \n",
    "        β = 0.1\n",
    "        while !isposdef(Symmetric([Gxx Gxu; Gux Guu]))\n",
    "            Gxx += A'*β*I*A\n",
    "            Guu += B'*β*I*B\n",
    "            Gxu += A'*β*I*B\n",
    "            Gux += B'*β*I*A\n",
    "            β = 2*β\n",
    "            display(\"regularizing G\")\n",
    "            # display(β)\n",
    "        end\n",
    "        \n",
    "        d[:,k] .= Guu\\gu\n",
    "        K[:,:,k] .= Guu\\Gux\n",
    "    \n",
    "        p[:,k] .= gx - K[:,:,k]'*gu + K[:,:,k]'*Guu*d[:,k] - Gxu*d[:,k]\n",
    "        P[:,:,k] .= Gxx + K[:,:,k]'*Guu*K[:,:,k] - Gxu*K[:,:,k] - K[:,:,k]'*Gux\n",
    "    \n",
    "        ΔJ += gu'*d[:,k]\n",
    "    end\n",
    "    \n",
    "    return ΔJ\n",
    "end"
   ]
  },
  {
   "cell_type": "code",
   "execution_count": 72,
   "metadata": {},
   "outputs": [],
   "source": [
    "#Initial guess\n",
    "m=a.mass\n",
    "g=9.81\n",
    "uhover = SVector{4}((m*g/4)*ones(4))\n",
    "x0 = ([1.0; 10.0; 2; 0.368871; -0.754934; 0.206149; -0.501509; 0; 0; 0; 0; 0; 0])\n",
    "xinterm = SVector{13}([0.5; 5; 5; 0.707107; 0.0; 0.707107; 0.0; 0; 0; 0; 0; 0; 0])\n",
    "Tinterm = 2.0\n",
    "\n",
    "xgoal = SVector{13}([0.0; 0; 10; 1; 0; 0; 0; 0; 0; 0; 0; 0; 0])\n",
    "xtraj = kron(ones(1,Nt), x0)\n",
    "utraj = zeros(Nu, Nt-1) .+ uhover\n",
    "#f = jldopen(\"guess.jld2\", \"r\")\n",
    "#utraj = f[\"utraj\"];"
   ]
  },
  {
   "cell_type": "code",
   "execution_count": 73,
   "metadata": {},
   "outputs": [
    {
     "data": {
      "text/plain": [
       "3×3 QuatRotation{Float64} with indices SOneTo(3)×SOneTo(3)(QuaternionF64(0.707107, 0.0, 0.707107, 0.0)):\n",
       "  0.0  0.0  1.0\n",
       "  0.0  1.0  0.0\n",
       " -1.0  0.0  0.0"
      ]
     },
     "execution_count": 73,
     "metadata": {},
     "output_type": "execute_result"
    }
   ],
   "source": [
    "QuatRotation(RotXYZ(0,pi/2, 0))"
   ]
  },
  {
   "cell_type": "code",
   "execution_count": 74,
   "metadata": {},
   "outputs": [
    {
     "data": {
      "text/latex": [
       "\\begin{verbatim}\n",
       "Quadrotor{R}\n",
       "\\end{verbatim}\n",
       "A standard quadrotor model, with simple aerodynamic forces. The orientation is represent by a general rotation \\texttt{R}. The body z-axis point is vertical, so positive controls cause acceleration in the positive z direction.\n",
       "\n",
       "\\section{Constructor}\n",
       "\\begin{verbatim}\n",
       "Quadrotor(; kwargs...)\n",
       "Quadrotor{R}(; kwargs...)\n",
       "\\end{verbatim}\n",
       "where \\texttt{R <: Rotation\\{3\\}} and defaults to \\texttt{UnitQuaternion\\{Float64\\}} if omitted. The keyword arguments are\n",
       "\n",
       "\\begin{itemize}\n",
       "\\item \\texttt{mass} - mass of the quadrotor, in kg (default = 0.5)\n",
       "\n",
       "\n",
       "\\item \\texttt{J} - inertia of the quadrotor, in kg⋅m² (default = \\texttt{Diagonal([0.0023, 0.0023, 0.004])})\n",
       "\n",
       "\n",
       "\\item \\texttt{gravity} - gravity vector, in kg/m² (default = [0,0,-9.81])\n",
       "\n",
       "\n",
       "\\item \\texttt{motor\\_dist} - distane between the motors, in m (default = 0.1750)\n",
       "\n",
       "\n",
       "\\item \\texttt{km} - motor torque constant (default = 0.0245)\n",
       "\n",
       "\n",
       "\\item \\texttt{kf} - motor force constant (default = 1.0)\n",
       "\n",
       "\\end{itemize}\n"
      ],
      "text/markdown": [
       "```\n",
       "Quadrotor{R}\n",
       "```\n",
       "\n",
       "A standard quadrotor model, with simple aerodynamic forces. The orientation is represent by a general rotation `R`. The body z-axis point is vertical, so positive controls cause acceleration in the positive z direction.\n",
       "\n",
       "# Constructor\n",
       "\n",
       "```\n",
       "Quadrotor(; kwargs...)\n",
       "Quadrotor{R}(; kwargs...)\n",
       "```\n",
       "\n",
       "where `R <: Rotation{3}` and defaults to `UnitQuaternion{Float64}` if omitted. The keyword arguments are\n",
       "\n",
       "  * `mass` - mass of the quadrotor, in kg (default = 0.5)\n",
       "  * `J` - inertia of the quadrotor, in kg⋅m² (default = `Diagonal([0.0023, 0.0023, 0.004])`)\n",
       "  * `gravity` - gravity vector, in kg/m² (default = [0,0,-9.81])\n",
       "  * `motor_dist` - distane between the motors, in m (default = 0.1750)\n",
       "  * `km` - motor torque constant (default = 0.0245)\n",
       "  * `kf` - motor force constant (default = 1.0)\n"
      ],
      "text/plain": [
       "\u001b[36m  Quadrotor{R}\u001b[39m\n",
       "\n",
       "  A standard quadrotor model, with simple aerodynamic forces. The orientation\n",
       "  is represent by a general rotation \u001b[36mR\u001b[39m. The body z-axis point is vertical, so\n",
       "  positive controls cause acceleration in the positive z direction.\n",
       "\n",
       "\u001b[1m  Constructor\u001b[22m\n",
       "\u001b[1m  ≡≡≡≡≡≡≡≡≡≡≡≡≡\u001b[22m\n",
       "\n",
       "\u001b[36m  Quadrotor(; kwargs...)\u001b[39m\n",
       "\u001b[36m  Quadrotor{R}(; kwargs...)\u001b[39m\n",
       "\n",
       "  where \u001b[36mR <: Rotation{3}\u001b[39m and defaults to \u001b[36mUnitQuaternion{Float64}\u001b[39m if omitted.\n",
       "  The keyword arguments are\n",
       "\n",
       "    •  \u001b[36mmass\u001b[39m - mass of the quadrotor, in kg (default = 0.5)\n",
       "\n",
       "    •  \u001b[36mJ\u001b[39m - inertia of the quadrotor, in kg⋅m² (default =\n",
       "       \u001b[36mDiagonal([0.0023, 0.0023, 0.004])\u001b[39m)\n",
       "\n",
       "    •  \u001b[36mgravity\u001b[39m - gravity vector, in kg/m² (default = [0,0,-9.81])\n",
       "\n",
       "    •  \u001b[36mmotor_dist\u001b[39m - distane between the motors, in m (default = 0.1750)\n",
       "\n",
       "    •  \u001b[36mkm\u001b[39m - motor torque constant (default = 0.0245)\n",
       "\n",
       "    •  \u001b[36mkf\u001b[39m - motor force constant (default = 1.0)"
      ]
     },
     "execution_count": 74,
     "metadata": {},
     "output_type": "execute_result"
    }
   ],
   "source": [
    "?RobotZoo.Quadrotor"
   ]
  },
  {
   "cell_type": "code",
   "execution_count": 75,
   "metadata": {},
   "outputs": [],
   "source": [
    "#Controlability Matrix\n",
    "#Linearize dynamics about hover\n",
    "A = ForwardDiff.jacobian(x->dynamics_rk4(x,uhover),x0)\n",
    "B = ForwardDiff.jacobian(u->dynamics_rk4(x0,u),uhover);\n",
    "C = B\n",
    "for k = 1:(Nx-1)\n",
    "    C = [C A*C[:,end-(Nu-1):end]]\n",
    "end"
   ]
  },
  {
   "cell_type": "code",
   "execution_count": 76,
   "metadata": {},
   "outputs": [
    {
     "data": {
      "text/plain": [
       "12"
      ]
     },
     "execution_count": 76,
     "metadata": {},
     "output_type": "execute_result"
    }
   ],
   "source": [
    "rank(C)"
   ]
  },
  {
   "cell_type": "code",
   "execution_count": 77,
   "metadata": {},
   "outputs": [
    {
     "data": {
      "text/plain": [
       "4-element Vector{Float64}:\n",
       " 1.22625\n",
       " 1.22625\n",
       " 1.22625\n",
       " 1.22625"
      ]
     },
     "execution_count": 77,
     "metadata": {},
     "output_type": "execute_result"
    }
   ],
   "source": [
    "xtraj[:,10]\n",
    "utraj[:,10]"
   ]
  },
  {
   "cell_type": "code",
   "execution_count": 78,
   "metadata": {},
   "outputs": [
    {
     "data": {
      "text/plain": [
       "3.25722863992172e8"
      ]
     },
     "execution_count": 78,
     "metadata": {},
     "output_type": "execute_result"
    }
   ],
   "source": [
    "#Initial Rollout\n",
    "for k = 1:(Nt-1)\n",
    "    xtraj[:,k+1] .= dynamics_rk4(xtraj[:,k],utraj[:,k])\n",
    "end\n",
    "J = cost(xtraj,utraj)"
   ]
  },
  {
   "cell_type": "code",
   "execution_count": 79,
   "metadata": {},
   "outputs": [
    {
     "data": {
      "text/plain": [
       "1.832556755241223e8"
      ]
     },
     "metadata": {},
     "output_type": "display_data"
    },
    {
     "data": {
      "text/plain": [
       "1.0312921192633563e8"
      ]
     },
     "metadata": {},
     "output_type": "display_data"
    },
    {
     "data": {
      "text/plain": [
       "9.064211816632316e7"
      ]
     },
     "metadata": {},
     "output_type": "display_data"
    },
    {
     "data": {
      "text/plain": [
       "7.966692783240749e7"
      ]
     },
     "metadata": {},
     "output_type": "display_data"
    },
    {
     "data": {
      "text/plain": [
       "7.719695568238254e7"
      ]
     },
     "metadata": {},
     "output_type": "display_data"
    },
    {
     "data": {
      "text/plain": [
       "7.599553797435361e7"
      ]
     },
     "metadata": {},
     "output_type": "display_data"
    },
    {
     "data": {
      "text/plain": [
       "5.818578735198614e7"
      ]
     },
     "metadata": {},
     "output_type": "display_data"
    },
    {
     "data": {
      "text/plain": [
       "5.114041641628743e7"
      ]
     },
     "metadata": {},
     "output_type": "display_data"
    },
    {
     "data": {
      "text/plain": [
       "3.915463855418452e7"
      ]
     },
     "metadata": {},
     "output_type": "display_data"
    },
    {
     "data": {
      "text/plain": [
       "3.441360445448354e7"
      ]
     },
     "metadata": {},
     "output_type": "display_data"
    },
    {
     "data": {
      "text/plain": [
       "3.024668526839303e7"
      ]
     },
     "metadata": {},
     "output_type": "display_data"
    },
    {
     "data": {
      "text/plain": [
       "2.3158073521601457e7"
      ]
     },
     "metadata": {},
     "output_type": "display_data"
    },
    {
     "data": {
      "text/plain": [
       "2.035413970117395e7"
      ]
     },
     "metadata": {},
     "output_type": "display_data"
    },
    {
     "data": {
      "text/plain": [
       "1.5584471345575305e7"
      ]
     },
     "metadata": {},
     "output_type": "display_data"
    },
    {
     "data": {
      "text/plain": [
       "8.767068938756196e6"
      ]
     },
     "metadata": {},
     "output_type": "display_data"
    },
    {
     "data": {
      "text/plain": [
       "4.932793876926115e6"
      ]
     },
     "metadata": {},
     "output_type": "display_data"
    },
    {
     "data": {
      "text/plain": [
       "3.7773882110473528e6"
      ]
     },
     "metadata": {},
     "output_type": "display_data"
    },
    {
     "data": {
      "text/plain": [
       "2.8927789537983886e6"
      ]
     },
     "metadata": {},
     "output_type": "display_data"
    },
    {
     "data": {
      "text/plain": [
       "2.2228682886518347e6"
      ]
     },
     "metadata": {},
     "output_type": "display_data"
    },
    {
     "data": {
      "text/plain": [
       "1.7041887798077564e6"
      ]
     },
     "metadata": {},
     "output_type": "display_data"
    },
    {
     "data": {
      "text/plain": [
       "960442.5535196597"
      ]
     },
     "metadata": {},
     "output_type": "display_data"
    },
    {
     "data": {
      "text/plain": [
       "542276.479729908"
      ]
     },
     "metadata": {},
     "output_type": "display_data"
    },
    {
     "data": {
      "text/plain": [
       "306416.77180802496"
      ]
     },
     "metadata": {},
     "output_type": "display_data"
    },
    {
     "data": {
      "text/plain": [
       "173588.1364656355"
      ]
     },
     "metadata": {},
     "output_type": "display_data"
    },
    {
     "data": {
      "text/plain": [
       "98881.31620899976"
      ]
     },
     "metadata": {},
     "output_type": "display_data"
    },
    {
     "data": {
      "text/plain": [
       "26797.13854682064"
      ]
     },
     "metadata": {},
     "output_type": "display_data"
    },
    {
     "data": {
      "text/plain": [
       "2814.8796530770396"
      ]
     },
     "metadata": {},
     "output_type": "display_data"
    },
    {
     "data": {
      "text/plain": [
       "2814.8796530770396"
      ]
     },
     "metadata": {},
     "output_type": "display_data"
    }
   ],
   "source": [
    "#DDP Algorithm\n",
    "p = ones(Nx,Nt)\n",
    "P = zeros(Nx,Nx,Nt)\n",
    "d = ones(Nu,Nt-1)\n",
    "K = zeros(Nu,Nx,Nt-1)\n",
    "ΔJ = 1.0\n",
    "\n",
    "xn = zeros(Nx,Nt)\n",
    "un = zeros(Nu,Nt-1)\n",
    "\n",
    "gx = zeros(Nx)\n",
    "gu = zeros(Nu)\n",
    "Gxx = zeros(Nx,Nx)\n",
    "Guu = zeros(Nu)\n",
    "Gxu = zeros(Nx)\n",
    "Gux = zeros(Nx)\n",
    "\n",
    "iter = 0\n",
    "Jp = 0\n",
    "while abs(Jp-J) >  5 * 1e-5\n",
    "    iter += 1    \n",
    "    \n",
    "    #Backward Pass\n",
    "    ΔJ = backward_pass!(p,P,d,K)\n",
    "\n",
    "    #Forward rollout with line search\n",
    "    xn[:,1] = xtraj[:,1]\n",
    "    α = 1.0\n",
    "    \n",
    "    # display(K[:,:,1] * (xn[:,1]-xtraj[:,1]))\n",
    "    # display(utraj[:,1] - α*d[:,1] - K[:,:,1] * (xn[:,1]-xtraj[:,1]))\n",
    "    \n",
    "    for k = 1:(Nt-1)\n",
    "        # поменять разность между стейтами\n",
    "        un[:,k] .= utraj[:,k] - α*d[:,k] - K[:,:,k] * (xn[:,k]-xtraj[:,k])\n",
    "        xn[:,k+1] .= dynamics_rk4(xn[:,k],un[:,k])\n",
    "    end\n",
    "    Jn = cost(xn,un)\n",
    "    # display(Jn)\n",
    "    while isnan(Jn) || Jn > (J - 1e-2*α*ΔJ)\n",
    "        α = 0.5*α\n",
    "        for k = 1:(Nt-1)\n",
    "            un[:,k] .= utraj[:,k] - α*d[:,k] - K[:,:,k] * (xn[:,k]-xtraj[:,k])\n",
    "            xn[:,k+1] .= dynamics_rk4(xn[:,k],un[:,k])\n",
    "        end\n",
    "        Jn = cost(xn,un)\n",
    "        # display(Jn)\n",
    "    end\n",
    "    Jp = J\n",
    "    J = Jn\n",
    "    xtraj .= xn\n",
    "    utraj .= un\n",
    "    display(J)\n",
    "    # display(iter)\n",
    "    # display(α)\n",
    "    # display(maximum(abs.(d[:])))\n",
    "    # display(xtraj[:, Nt])\n",
    "end"
   ]
  },
  {
   "cell_type": "code",
   "execution_count": 80,
   "metadata": {},
   "outputs": [
    {
     "data": {
      "text/plain": [
       "28"
      ]
     },
     "execution_count": 80,
     "metadata": {},
     "output_type": "execute_result"
    }
   ],
   "source": [
    "iter"
   ]
  },
  {
   "cell_type": "code",
   "execution_count": 81,
   "metadata": {},
   "outputs": [
    {
     "data": {
      "text/plain": [
       "3×3 QuatRotation{Float64} with indices SOneTo(3)×SOneTo(3)(QuaternionF64(0.368871, -0.754934, 0.206149, -0.501509)):\n",
       "  0.411982   0.0587266   0.909297\n",
       " -0.681243  -0.642873    0.350175\n",
       "  0.605127  -0.763718   -0.224845"
      ]
     },
     "execution_count": 81,
     "metadata": {},
     "output_type": "execute_result"
    }
   ],
   "source": [
    "QuatRotation(RotXYZ(1,2,3))"
   ]
  },
  {
   "cell_type": "code",
   "execution_count": 82,
   "metadata": {},
   "outputs": [
    {
     "data": {
      "text/plain": [
       "2814.8796530770396"
      ]
     },
     "execution_count": 82,
     "metadata": {},
     "output_type": "execute_result"
    }
   ],
   "source": [
    "J"
   ]
  },
  {
   "cell_type": "code",
   "execution_count": 83,
   "metadata": {},
   "outputs": [
    {
     "data": {
      "image/png": "[encoded data removed]",
      "text/plain": [
       "Figure(PyObject <Figure size 640x480 with 1 Axes>)"
      ]
     },
     "metadata": {},
     "output_type": "display_data"
    },
    {
     "data": {
      "text/plain": [
       "PyObject <matplotlib.legend.Legend object at 0x0000000001F57FB0>"
      ]
     },
     "execution_count": 83,
     "metadata": {},
     "output_type": "execute_result"
    }
   ],
   "source": [
    "plot(thist,xtraj[1,:], label=\"x\")\n",
    "plot(thist,xtraj[2,:], label=\"y\")\n",
    "plot(thist,xtraj[3,:], label=\"z\")\n",
    "legend()"
   ]
  },
  {
   "cell_type": "code",
   "execution_count": 84,
   "metadata": {},
   "outputs": [
    {
     "data": {
      "image/png": "[encoded data removed]",
      "text/plain": [
       "Figure(PyObject <Figure size 640x480 with 1 Axes>)"
      ]
     },
     "metadata": {},
     "output_type": "display_data"
    },
    {
     "data": {
      "text/plain": [
       "PyObject <matplotlib.legend.Legend object at 0x0000000001D31CA0>"
      ]
     },
     "execution_count": 84,
     "metadata": {},
     "output_type": "execute_result"
    }
   ],
   "source": [
    "plot(thist,xtraj[4,:], label=\"q.w\")\n",
    "plot(thist,xtraj[5,:], label=\"q.x\")\n",
    "plot(thist,xtraj[6,:], label=\"q.y\")\n",
    "plot(thist,xtraj[7,:], label=\"q.z\")\n",
    "legend()"
   ]
  },
  {
   "cell_type": "code",
   "execution_count": 1,
   "metadata": {},
   "outputs": [
    {
     "ename": "LoadError",
     "evalue": "UndefVarError: R not defined",
     "output_type": "error",
     "traceback": [
      "UndefVarError: R not defined",
      ""
     ]
    }
   ],
   "source": []
  },
  {
   "cell_type": "code",
   "execution_count": 85,
   "metadata": {},
   "outputs": [
    {
     "name": "stdout",
     "output_type": "stream",
     "text": [
      "Norm: 0.9999999231394969, Element number: 1\n",
      "Norm: 1.0, Element number: 2\n",
      "Norm: 1.0, Element number: 3\n",
      "Norm: 1.0, Element number: 4\n",
      "Norm: 1.0, Element number: 5\n",
      "Norm: 0.9999999999999999, Element number: 6\n",
      "Norm: 1.0, Element number: 7\n",
      "Norm: 1.0, Element number: 8\n",
      "Norm: 1.0, Element number: 9\n",
      "Norm: 0.9999999999999999, Element number: 10\n",
      "Norm: 0.9999999999999999, Element number: 11\n",
      "Norm: 1.0, Element number: 12\n",
      "Norm: 1.0, Element number: 13\n",
      "Norm: 1.0, Element number: 14\n",
      "Norm: 1.0, Element number: 15\n",
      "Norm: 1.0, Element number: 16\n",
      "Norm: 0.9999999999999999, Element number: 17\n",
      "Norm: 1.0, Element number: 18\n",
      "Norm: 0.9999999999999999, Element number: 19\n",
      "Norm: 1.0, Element number: 20\n",
      "Norm: 1.0, Element number: 21\n",
      "Norm: 1.0, Element number: 22\n",
      "Norm: 1.0, Element number: 23\n",
      "Norm: 0.9999999999999999, Element number: 24\n",
      "Norm: 0.9999999999999999, Element number: 25\n",
      "Norm: 0.9999999999999998, Element number: 26\n",
      "Norm: 0.9999999999999999, Element number: 27\n",
      "Norm: 0.9999999999999999, Element number: 28\n",
      "Norm: 1.0, Element number: 29\n",
      "Norm: 0.9999999999999999, Element number: 30\n",
      "Norm: 0.9999999999999999, Element number: 31\n",
      "Norm: 1.0, Element number: 32\n",
      "Norm: 1.0, Element number: 33\n",
      "Norm: 1.0, Element number: 34\n",
      "Norm: 1.0, Element number: 35\n",
      "Norm: 1.0, Element number: 36\n",
      "Norm: 1.0, Element number: 37\n",
      "Norm: 1.0, Element number: 38\n",
      "Norm: 1.0, Element number: 39\n",
      "Norm: 1.0, Element number: 40\n",
      "Norm: 0.9999999999999998, Element number: 41\n",
      "Norm: 1.0, Element number: 42\n",
      "Norm: 1.0, Element number: 43\n",
      "Norm: 0.9999999999999999, Element number: 44\n",
      "Norm: 1.0, Element number: 45\n",
      "Norm: 0.9999999999999998, Element number: 46\n",
      "Norm: 0.9999999999999999, Element number: 47\n",
      "Norm: 0.9999999999999999, Element number: 48\n",
      "Norm: 1.0, Element number: 49\n",
      "Norm: 1.0, Element number: 50\n",
      "Norm: 1.0, Element number: 51\n",
      "Norm: 1.0, Element number: 52\n",
      "Norm: 0.9999999999999999, Element number: 53\n",
      "Norm: 1.0, Element number: 54\n",
      "Norm: 0.9999999999999999, Element number: 55\n",
      "Norm: 0.9999999999999999, Element number: 56\n",
      "Norm: 1.0, Element number: 57\n",
      "Norm: 1.0, Element number: 58\n",
      "Norm: 1.0, Element number: 59\n",
      "Norm: 1.0, Element number: 60\n",
      "Norm: 1.0, Element number: 61\n",
      "Norm: 1.0, Element number: 62\n",
      "Norm: 1.0, Element number: 63\n",
      "Norm: 0.9999999999999999, Element number: 64\n",
      "Norm: 1.0, Element number: 65\n",
      "Norm: 1.0, Element number: 66\n",
      "Norm: 0.9999999999999999, Element number: 67\n",
      "Norm: 0.9999999999999999, Element number: 68\n",
      "Norm: 1.0, Element number: 69\n",
      "Norm: 1.0, Element number: 70\n",
      "Norm: 0.9999999999999999, Element number: 71\n",
      "Norm: 1.0, Element number: 72\n",
      "Norm: 1.0, Element number: 73\n",
      "Norm: 1.0, Element number: 74\n",
      "Norm: 1.0, Element number: 75\n",
      "Norm: 1.0, Element number: 76\n",
      "Norm: 0.9999999999999999, Element number: 77\n",
      "Norm: 1.0, Element number: 78\n",
      "Norm: 1.0, Element number: 79\n",
      "Norm: 1.0, Element number: 80\n",
      "Norm: 0.9999999999999999, Element number: 81\n",
      "Norm: 1.0, Element number: 82\n",
      "Norm: 1.0, Element number: 83\n",
      "Norm: 1.0000000000000002, Element number: 84\n",
      "Norm: 1.0, Element number: 85\n",
      "Norm: 1.0, Element number: 86\n",
      "Norm: 0.9999999999999999, Element number: 87\n",
      "Norm: 1.0, Element number: 88\n",
      "Norm: 1.0, Element number: 89\n",
      "Norm: 1.0, Element number: 90\n",
      "Norm: 1.0, Element number: 91\n",
      "Norm: 1.0, Element number: 92\n",
      "Norm: 0.9999999999999999, Element number: 93\n",
      "Norm: 0.9999999999999999, Element number: 94\n",
      "Norm: 1.0, Element number: 95\n",
      "Norm: 1.0, Element number: 96\n",
      "Norm: 1.0, Element number: 97\n",
      "Norm: 1.0, Element number: 98\n",
      "Norm: 1.0, Element number: 99\n",
      "Norm: 1.0, Element number: 100\n",
      "Norm: 1.0, Element number: 101\n",
      "Norm: 1.0, Element number: 102\n",
      "Norm: 0.9999999999999999, Element number: 103\n",
      "Norm: 1.0, Element number: 104\n",
      "Norm: 1.0, Element number: 105\n",
      "Norm: 0.9999999999999999, Element number: 106\n",
      "Norm: 1.0, Element number: 107\n",
      "Norm: 1.0, Element number: 108\n",
      "Norm: 1.0000000000000002, Element number: 109\n",
      "Norm: 1.0, Element number: 110\n",
      "Norm: 1.0, Element number: 111\n",
      "Norm: 1.0, Element number: 112\n",
      "Norm: 1.0, Element number: 113\n",
      "Norm: 1.0, Element number: 114\n",
      "Norm: 1.0, Element number: 115\n",
      "Norm: 1.0, Element number: 116\n",
      "Norm: 1.0, Element number: 117\n",
      "Norm: 1.0, Element number: 118\n",
      "Norm: 1.0, Element number: 119\n",
      "Norm: 1.0, Element number: 120\n",
      "Norm: 1.0, Element number: 121\n",
      "Norm: 1.0, Element number: 122\n",
      "Norm: 1.0, Element number: 123\n",
      "Norm: 1.0, Element number: 124\n",
      "Norm: 1.0, Element number: 125\n",
      "Norm: 1.0, Element number: 126\n",
      "Norm: 1.0, Element number: 127\n",
      "Norm: 1.0, Element number: 128\n",
      "Norm: 1.0, Element number: 129\n",
      "Norm: 1.0, Element number: 130\n",
      "Norm: 1.0, Element number: 131\n",
      "Norm: 1.0, Element number: 132\n",
      "Norm: 1.0, Element number: 133\n",
      "Norm: 1.0, Element number: 134\n",
      "Norm: 1.0, Element number: 135\n",
      "Norm: 1.0, Element number: 136\n",
      "Norm: 1.0, Element number: 137\n",
      "Norm: 1.0, Element number: 138\n",
      "Norm: 1.0, Element number: 139\n",
      "Norm: 1.0, Element number: 140\n",
      "Norm: 1.0, Element number: 141\n",
      "Norm: 1.0, Element number: 142\n",
      "Norm: 1.0, Element number: 143\n",
      "Norm: 1.0, Element number: 144\n",
      "Norm: 1.0, Element number: 145\n",
      "Norm: 1.0, Element number: 146\n",
      "Norm: 1.0, Element number: 147\n",
      "Norm: 1.0, Element number: 148\n",
      "Norm: 1.0, Element number: 149\n",
      "Norm: 1.0, Element number: 150\n",
      "Norm: 1.0, Element number: 151\n",
      "Norm: 1.0, Element number: 152\n",
      "Norm: 1.0, Element number: 153\n",
      "Norm: 1.0, Element number: 154\n",
      "Norm: 1.0, Element number: 155\n",
      "Norm: 1.0, Element number: 156\n",
      "Norm: 1.0, Element number: 157\n",
      "Norm: 1.0, Element number: 158\n",
      "Norm: 1.0, Element number: 159\n",
      "Norm: 1.0, Element number: 160\n",
      "Norm: 1.0, Element number: 161\n",
      "Norm: 1.0, Element number: 162\n",
      "Norm: 1.0, Element number: 163\n",
      "Norm: 1.0, Element number: 164\n",
      "Norm: 1.0, Element number: 165\n",
      "Norm: 1.0, Element number: 166\n",
      "Norm: 1.0, Element number: 167\n",
      "Norm: 1.0, Element number: 168\n",
      "Norm: 1.0, Element number: 169\n",
      "Norm: 1.0, Element number: 170\n",
      "Norm: 1.0, Element number: 171\n",
      "Norm: 1.0, Element number: 172\n",
      "Norm: 1.0, Element number: 173\n",
      "Norm: 1.0, Element number: 174\n",
      "Norm: 1.0, Element number: 175\n",
      "Norm: 1.0, Element number: 176\n",
      "Norm: 1.0, Element number: 177\n",
      "Norm: 1.0, Element number: 178\n",
      "Norm: 1.0, Element number: 179\n",
      "Norm: 1.0, Element number: 180\n",
      "Norm: 1.0, Element number: 181\n",
      "Norm: 1.0, Element number: 182\n",
      "Norm: 1.0, Element number: 183\n",
      "Norm: 1.0, Element number: 184\n",
      "Norm: 1.0, Element number: 185\n",
      "Norm: 1.0, Element number: 186\n",
      "Norm: 1.0, Element number: 187\n",
      "Norm: 1.0, Element number: 188\n",
      "Norm: 1.0, Element number: 189\n",
      "Norm: 1.0, Element number: 190\n",
      "Norm: 1.0, Element number: 191\n",
      "Norm: 1.0, Element number: 192\n",
      "Norm: 1.0, Element number: 193\n",
      "Norm: 1.0, Element number: 194\n",
      "Norm: 1.0, Element number: 195\n",
      "Norm: 1.0, Element number: 196\n",
      "Norm: 1.0, Element number: 197\n",
      "Norm: 1.0, Element number: 198\n",
      "Norm: 1.0, Element number: 199\n",
      "Norm: 1.0, Element number: 200\n",
      "Norm: 1.0, Element number: 201\n"
     ]
    }
   ],
   "source": [
    "# проверить нормы кватернионов\n",
    "for i in 1:Nt\n",
    "    print(\"Norm: $(norm(xtraj[4:7, i])), Element number: $(i)\\n\")\n",
    "end"
   ]
  },
  {
   "cell_type": "code",
   "execution_count": 86,
   "metadata": {},
   "outputs": [
    {
     "data": {
      "image/png": "[encoded data removed]",
      "text/plain": [
       "Figure(PyObject <Figure size 640x480 with 1 Axes>)"
      ]
     },
     "metadata": {},
     "output_type": "display_data"
    },
    {
     "data": {
      "text/plain": [
       "PyObject <matplotlib.legend.Legend object at 0x0000000001DAFA10>"
      ]
     },
     "execution_count": 86,
     "metadata": {},
     "output_type": "execute_result"
    }
   ],
   "source": [
    "# ошибку вычисляем с помощью матриц вращения, потом перевести в angleaxis. Вывести только угол ошибки\n",
    "ang_errors = zeros(Nt)\n",
    "pos_errors = zeros(Nt)\n",
    "r_des = xgoal[1:3]\n",
    "q_des = xgoal[4:7]\n",
    "for i in 1:Nt\n",
    "    x = xtraj[:, i]\n",
    "    r = x[1:3]\n",
    "    q = x[4:7]\n",
    "    err_ang = QuatRotation(q_des) * QuatRotation(q)'\n",
    "    ang_errors[i] = AngleAxis(QuatRotation(err_ang)).theta\n",
    "    pos_errors[i] = norm(r-r_des)\n",
    "end\n",
    "plot(thist, ang_errors, label=\"orientation error\")\n",
    "plot(thist, pos_errors, label=\"position error\")\n",
    "legend()"
   ]
  },
  {
   "cell_type": "code",
   "execution_count": 87,
   "metadata": {},
   "outputs": [],
   "source": [
    "# траектория с промежуточной точкой\n",
    "# оживить эйелера"
   ]
  },
  {
   "cell_type": "code",
   "execution_count": 88,
   "metadata": {},
   "outputs": [
    {
     "data": {
      "image/png": "[encoded data removed]",
      "text/plain": [
       "Figure(PyObject <Figure size 640x480 with 1 Axes>)"
      ]
     },
     "metadata": {},
     "output_type": "display_data"
    },
    {
     "data": {
      "text/plain": [
       "1-element Vector{PyCall.PyObject}:\n",
       " PyObject <matplotlib.lines.Line2D object at 0x000000009D7D39E0>"
      ]
     },
     "execution_count": 88,
     "metadata": {},
     "output_type": "execute_result"
    }
   ],
   "source": [
    "plot(thist[1:Nt-1],utraj[1,:])\n",
    "plot(thist[1:Nt-1],utraj[2,:])\n",
    "plot(thist[1:Nt-1],utraj[3,:])\n",
    "plot(thist[1:Nt-1],utraj[4,:])"
   ]
  },
  {
   "cell_type": "code",
   "execution_count": 89,
   "metadata": {},
   "outputs": [
    {
     "name": "stderr",
     "output_type": "stream",
     "text": [
      "\u001b[36m\u001b[1m┌ \u001b[22m\u001b[39m\u001b[36m\u001b[1mInfo: \u001b[22m\u001b[39mMeshCat server started. You can open the visualizer by visiting the following URL in your browser:\n",
      "\u001b[36m\u001b[1m└ \u001b[22m\u001b[39mhttp://127.0.0.1:8702\n"
     ]
    },
    {
     "data": {
      "text/html": [
       "    <div style=\"height: 500px; width: 100%; overflow-x: auto; overflow-y: hidden; resize: both\">\n",
       "    <iframe src=\"http://127.0.0.1:8702\" style=\"width: 100%; height: 100%; border: none\"></iframe>\n",
       "    </div>\n"
      ],
      "text/plain": [
       "MeshCat.DisplayedVisualizer(MeshCat.CoreVisualizer(MeshCat.SceneTrees.SceneNode(nothing, nothing, Dict{String, Vector{UInt8}}(), nothing, Dict{String, MeshCat.SceneTrees.SceneNode}()), Set{Any}(), ip\"127.0.0.1\", 8702))"
      ]
     },
     "execution_count": 89,
     "metadata": {},
     "output_type": "execute_result"
    }
   ],
   "source": [
    "using TrajOptPlots\n",
    "using MeshCat\n",
    "using StaticArrays\n",
    "\n",
    "vis = Visualizer()\n",
    "render(vis)"
   ]
  },
  {
   "cell_type": "code",
   "execution_count": 96,
   "metadata": {},
   "outputs": [
    {
     "name": "stdout",
     "output_type": "stream",
     "text": [
      "search: \u001b[0m\u001b[1mR\u001b[22m\u001b[0m\u001b[1mo\u001b[22m\u001b[0m\u001b[1mt\u001b[22m\u001b[0m\u001b[1mX\u001b[22m\u001b[0m\u001b[1mY\u001b[22m\u001b[0m\u001b[1mZ\u001b[22m \u001b[0m\u001b[1mR\u001b[22m\u001b[0m\u001b[1mo\u001b[22m\u001b[0m\u001b[1mt\u001b[22m\u001b[0m\u001b[1mX\u001b[22m\u001b[0m\u001b[1mY\u001b[22mX \u001b[0m\u001b[1mR\u001b[22m\u001b[0m\u001b[1mo\u001b[22m\u001b[0m\u001b[1mt\u001b[22m\u001b[0m\u001b[1mX\u001b[22m\u001b[0m\u001b[1mY\u001b[22m \u001b[0m\u001b[1mR\u001b[22m\u001b[0m\u001b[1mo\u001b[22m\u001b[0m\u001b[1mt\u001b[22m\u001b[0m\u001b[1mX\u001b[22mZ\u001b[0m\u001b[1mY\u001b[22m \u001b[0m\u001b[1mR\u001b[22m\u001b[0m\u001b[1mo\u001b[22m\u001b[0m\u001b[1mt\u001b[22mZ\u001b[0m\u001b[1mX\u001b[22m\u001b[0m\u001b[1mY\u001b[22m \u001b[0m\u001b[1mR\u001b[22m\u001b[0m\u001b[1mo\u001b[22m\u001b[0m\u001b[1mt\u001b[22mY\u001b[0m\u001b[1mX\u001b[22m\u001b[0m\u001b[1mY\u001b[22m\n"
     ]
    },
    {
     "data": {
      "text/latex": [
       "\\begin{verbatim}\n",
       "struct RotXYZ{T} <: Rotation{3,T}\n",
       "RotXYZ(theta1, theta2, theta3)\n",
       "RotXYZ(roll=r, pitch=p, yaw=y)\n",
       "\\end{verbatim}\n",
       "A 3×3 rotation matrix parameterized by the \"Tait-Bryant\" XYZ Euler angle convention, consisting of first a rotation about the Z axis by \\texttt{theta3}, followed by a rotation about the Y axis by \\texttt{theta2}, and finally a rotation about the X axis by \\texttt{theta1}.\n",
       "\n",
       "The keyword argument form applies roll, pitch and yaw to the X, Y and Z axes respectively, in XYZ order. (Because it is a right-handed coordinate system, note that positive pitch is heading in the negative Z axis).\n",
       "\n"
      ],
      "text/markdown": [
       "```\n",
       "struct RotXYZ{T} <: Rotation{3,T}\n",
       "RotXYZ(theta1, theta2, theta3)\n",
       "RotXYZ(roll=r, pitch=p, yaw=y)\n",
       "```\n",
       "\n",
       "A 3×3 rotation matrix parameterized by the \"Tait-Bryant\" XYZ Euler angle convention, consisting of first a rotation about the Z axis by `theta3`, followed by a rotation about the Y axis by `theta2`, and finally a rotation about the X axis by `theta1`.\n",
       "\n",
       "The keyword argument form applies roll, pitch and yaw to the X, Y and Z axes respectively, in XYZ order. (Because it is a right-handed coordinate system, note that positive pitch is heading in the negative Z axis).\n"
      ],
      "text/plain": [
       "\u001b[36m  struct RotXYZ{T} <: Rotation{3,T}\u001b[39m\n",
       "\u001b[36m  RotXYZ(theta1, theta2, theta3)\u001b[39m\n",
       "\u001b[36m  RotXYZ(roll=r, pitch=p, yaw=y)\u001b[39m\n",
       "\n",
       "  A 3×3 rotation matrix parameterized by the \"Tait-Bryant\" XYZ Euler angle\n",
       "  convention, consisting of first a rotation about the Z axis by \u001b[36mtheta3\u001b[39m,\n",
       "  followed by a rotation about the Y axis by \u001b[36mtheta2\u001b[39m, and finally a rotation\n",
       "  about the X axis by \u001b[36mtheta1\u001b[39m.\n",
       "\n",
       "  The keyword argument form applies roll, pitch and yaw to the X, Y and Z axes\n",
       "  respectively, in XYZ order. (Because it is a right-handed coordinate system,\n",
       "  note that positive pitch is heading in the negative Z axis)."
      ]
     },
     "execution_count": 96,
     "metadata": {},
     "output_type": "execute_result"
    },
    {
     "name": "stdout",
     "output_type": "stream",
     "text": [
      "\n"
     ]
    }
   ],
   "source": [
    "?RotXYZ"
   ]
  },
  {
   "cell_type": "code",
   "execution_count": 109,
   "metadata": {},
   "outputs": [
    {
     "data": {
      "text/plain": [
       "(:theta1, :theta2, :theta3)"
      ]
     },
     "execution_count": 109,
     "metadata": {},
     "output_type": "execute_result"
    }
   ],
   "source": [
    "fieldnames(RotZYX)"
   ]
  },
  {
   "cell_type": "code",
   "execution_count": 113,
   "metadata": {},
   "outputs": [
    {
     "data": {
      "text/plain": [
       "3-element SVector{3, Float64} with indices SOneTo(3):\n",
       " -2.358384446657328\n",
       "  1.7945828689699566\n",
       " -2.2841836896721697"
      ]
     },
     "execution_count": 113,
     "metadata": {},
     "output_type": "execute_result"
    }
   ],
   "source": [
    "RotZYX(3,2,1) * [1,2,3]"
   ]
  },
  {
   "cell_type": "code",
   "execution_count": 90,
   "metadata": {},
   "outputs": [
    {
     "data": {
      "text/plain": [
       "false"
      ]
     },
     "execution_count": 90,
     "metadata": {},
     "output_type": "execute_result"
    }
   ],
   "source": [
    "TrajOptPlots.set_mesh!(vis, a)"
   ]
  },
  {
   "cell_type": "code",
   "execution_count": 91,
   "metadata": {},
   "outputs": [
    {
     "data": {
      "text/plain": [
       "change_state_form (generic function with 1 method)"
      ]
     },
     "execution_count": 91,
     "metadata": {},
     "output_type": "execute_result"
    }
   ],
   "source": [
    "function change_state_form(x)\n",
    "    out = zeros(13)\n",
    "    out[1:3] .= x[1:3]\n",
    "    q = UnitQuaternion(RotXYZ(x[4], x[5], x[6]))\n",
    "    out[4] = q.w\n",
    "    out[5] = q.x\n",
    "    out[6] = q.y\n",
    "    out[7] = q.z\n",
    "    out[8:13] .= x[7:12]\n",
    "    return out\n",
    "end"
   ]
  },
  {
   "cell_type": "code",
   "execution_count": 92,
   "metadata": {},
   "outputs": [],
   "source": [
    "X1 = [SVector{13}(x) for x in eachcol(xtraj)];\n",
    "\n",
    "visualize!(vis, a, thist[end], X1)"
   ]
  },
  {
   "cell_type": "code",
   "execution_count": null,
   "metadata": {},
   "outputs": [],
   "source": []
  }
 ],
 "metadata": {
  "kernelspec": {
   "display_name": " 1.7.3",
   "language": "julia",
   "name": "-1.7"
  },
  "language_info": {
   "file_extension": ".jl",
   "mimetype": "application/julia",
   "name": "julia",
   "version": "1.7.3"
  }
 },
 "nbformat": 4,
 "nbformat_minor": 4
}
