{
 "cells": [
  {
   "cell_type": "code",
   "execution_count": 2,
   "id": "6970225b-caf3-445e-945e-d9c0eba81c73",
   "metadata": {},
   "outputs": [
    {
     "data": {
      "text/plain": [
       "true"
      ]
     },
     "execution_count": 2,
     "metadata": {},
     "output_type": "execute_result"
    }
   ],
   "source": [
    "using JLD2\n",
    "using PyPlot\n",
    "pygui(true)"
   ]
  },
  {
   "cell_type": "code",
   "execution_count": 3,
   "id": "2ec04057-c351-48ea-ae39-3232c35233c1",
   "metadata": {},
   "outputs": [
    {
     "data": {
      "text/plain": [
       "visualize (generic function with 1 method)"
      ]
     },
     "execution_count": 3,
     "metadata": {},
     "output_type": "execute_result"
    }
   ],
   "source": [
    "    # Start the figure\n",
    "function visualize(Hmap, title)\n",
    "    # Number of divisions for the sphere\n",
    "    Count = 20\n",
    "    \n",
    "    # Generate the sphere mesh\n",
    "    θ = range(0, stop=π, length=Count)\n",
    "    ϕ = range(0, stop=2π, length=Count)\n",
    "    X = [sin(t)*cos(p) for t in θ, p in ϕ]\n",
    "    Y = [sin(t)*sin(p) for t in θ, p in ϕ]\n",
    "    Z = [cos(t) for t in θ, _ in ϕ]\n",
    "    if !isempty(filter(!isnan, Hmap))\n",
    "        Hmap_norm = Hmap ./ maximum(filter(!isnan, Hmap))\n",
    "    else\n",
    "        Hmap_norm = Hmap\n",
    "    end\n",
    "    fig = PyPlot.figure()\n",
    "    fig[:canvas][:manager][:set_window_title](title)\n",
    "    ax = fig.add_subplot(111, projection=\"3d\")\n",
    "    # Custom colormap\n",
    "    cmap = PyPlot.get_cmap(\"cividis\", 256)\n",
    "    cmap.set_bad(\"red\")     # NaNs or masked values\n",
    "    # newcolors = cmap(LinRange(0, 1, 256))\n",
    "    # Red for failing intial conditions\n",
    "    # red = [256/256; 0/256; 0/256; 1]\n",
    "    # newcolors[:1, :] .= red\n",
    "    # newcmp = PyPlot.matplotlib.colors.ListedColormap(newcolors)\n",
    "    colors = cmap.(Hmap_norm)\n",
    "    \n",
    "    psm = ax.plot_surface(X, Y, Z,\n",
    "        facecolors=colors,\n",
    "        linewidth=0.5, alpha=0.5,\n",
    "        shade=false)\n",
    "    \n",
    "    ax.set_box_aspect([1,1,1])  # Equal aspect ratio\n",
    "    cbar = fig.colorbar(psm, ax=ax)\n",
    "    cbar.set_ticks([0, 1])  # Show ticks at the normalized range\n",
    "    if !isempty(filter(!isnan, Hmap))\n",
    "        cbar.set_ticklabels([0, maximum(filter(!isnan, Hmap))])# Map ticks back to the original data range\n",
    "    end\n",
    "    PyPlot.tight_layout()\n",
    "    PyPlot.show()\n",
    "end"
   ]
  },
  {
   "cell_type": "code",
   "execution_count": 4,
   "id": "582bd59e-b28f-4282-8d3e-47140ed27d74",
   "metadata": {},
   "outputs": [],
   "source": [
    "# fa_ZOH = zeros(20,20)\n",
    "# fa_exact = zeros(20,20)\n",
    "# fa_custom = zeros(20,20)\n",
    "# fa_fd = zeros(20,20)\n",
    "\n",
    "# ua_ZOH = zeros(20,20)\n",
    "# ua_exact = zeros(20,20)\n",
    "# ua_custom = zeros(20,20)\n",
    "# ua_fd = zeros(20,20)\n",
    "\n",
    "# ua_quat = zeros(20,20)"
   ]
  },
  {
   "cell_type": "code",
   "execution_count": 80,
   "id": "7c29565b-c421-4984-8823-6418c0516b18",
   "metadata": {},
   "outputs": [
    {
     "data": {
      "text/plain": [
       "get_stats (generic function with 1 method)"
      ]
     },
     "execution_count": 80,
     "metadata": {},
     "output_type": "execute_result"
    }
   ],
   "source": [
    "using Printf\n",
    "using Statistics\n",
    "function get_stats(Hmap)\n",
    "    Hmap_f = filter(!isnan, Hmap)\n",
    "    average = mean(Hmap_f)\n",
    "\n",
    "    # Flatten the array and compute median\n",
    "    median_value = median(Hmap_f)\n",
    "    \n",
    "    @printf(\"Average: %.4f\\n\", average)\n",
    "    @printf(\"Median: %.4f\\n\", median_value)\n",
    "    \n",
    "end"
   ]
  },
  {
   "cell_type": "code",
   "execution_count": 69,
   "id": "61b1731f-bae2-4c65-88f2-ed9ff22beefe",
   "metadata": {},
   "outputs": [
    {
     "data": {
      "text/plain": [
       "success_rate (generic function with 1 method)"
      ]
     },
     "execution_count": 69,
     "metadata": {},
     "output_type": "execute_result"
    }
   ],
   "source": [
    "function success_rate(Hmap)\n",
    "    @printf(\"Success rate: %.2f%%\\n \", count(!isnan, Hmap) / 360 * 100)\n",
    "end"
   ]
  },
  {
   "cell_type": "code",
   "execution_count": 79,
   "id": "0b9fcb95-70a4-4750-a9ed-c7216d7e2e1b",
   "metadata": {},
   "outputs": [
    {
     "name": "stdout",
     "output_type": "stream",
     "text": [
      "Success rate: 99.44%\n",
      " Average: 8.6480\n",
      "Median: 7.00000\n",
      "Average: 0.2199\n",
      "Median: 0.16050\n",
      "Average: 16.5904\n",
      "Median: 12.32469\n",
      "Average: 0.0011\n",
      "Median: 0.00005\n"
     ]
    }
   ],
   "source": [
    "str = \"euler/fa/FE/FE/\"\n",
    "@load str * \"cost.jld2\" Hmap_cost\n",
    "@load str * \"error.jld2\" Hmap_error\n",
    "@load str * \"iter.jld2\" Hmap_iterations\n",
    "@load str * \"time.jld2\" Hmap_time\n",
    "\n",
    "map_iter = Hmap_iterations\n",
    "map_time = Hmap_time\n",
    "map_err = Hmap_error\n",
    "map_cost = Hmap_cost\n",
    "\n",
    "cost_thres = map_cost\n",
    "err_thres = map_err\n",
    "thres = 500\n",
    "\n",
    "map_iter[cost_thres .>= thres] .= NaN\n",
    "map_time[cost_thres .>= thres] .= NaN\n",
    "map_err[cost_thres .>= thres] .= NaN\n",
    "map_cost[cost_thres .>= thres] .= NaN\n",
    "\n",
    "\n",
    "# print((filter(!isnan, map_err))[52])\n",
    "# visualize(map_iter, \"number of iterations\")\n",
    "# visualize(map_time, \"time\")\n",
    "# visualize(map_err, \"error\")\n",
    "# visualize(map_cost, \"cost\")\n",
    "\n",
    "\n",
    "# Flatten the array to a vector and compute average (mean)\n",
    "\n",
    "success_rate(map_iter)\n",
    "get_stats(map_iter)\n",
    "get_stats(map_time)\n",
    "get_stats(map_cost)\n",
    "get_stats(map_err)"
   ]
  },
  {
   "cell_type": "code",
   "execution_count": 5,
   "id": "c2701852-ba1b-41fb-be87-d3776f47e8b2",
   "metadata": {},
   "outputs": [
    {
     "data": {
      "text/plain": [
       "20×20 Matrix{Float64}:\n",
       " 0.0  0.0  0.0  0.0  0.0  0.0  0.0  0.0  …  0.0  0.0  0.0  0.0  0.0  0.0  0.0\n",
       " 0.0  0.0  0.0  0.0  0.0  0.0  0.0  0.0     0.0  0.0  0.0  0.0  0.0  0.0  0.0\n",
       " 0.0  0.0  0.0  0.0  0.0  0.0  0.0  0.0     0.0  0.0  0.0  0.0  0.0  0.0  0.0\n",
       " 0.0  0.0  0.0  0.0  0.0  0.0  0.0  0.0     0.0  0.0  0.0  0.0  0.0  0.0  0.0\n",
       " 0.0  0.0  0.0  0.0  0.0  0.0  0.0  0.0     0.0  0.0  0.0  0.0  0.0  0.0  0.0\n",
       " 0.0  0.0  0.0  0.0  0.0  0.0  0.0  0.0  …  0.0  0.0  0.0  0.0  0.0  0.0  0.0\n",
       " 0.0  0.0  0.0  0.0  0.0  0.0  0.0  0.0     0.0  0.0  0.0  0.0  0.0  0.0  0.0\n",
       " 0.0  0.0  0.0  0.0  0.0  0.0  0.0  0.0     0.0  0.0  0.0  0.0  0.0  0.0  0.0\n",
       " 0.0  0.0  0.0  0.0  0.0  0.0  0.0  0.0     0.0  0.0  0.0  0.0  0.0  0.0  0.0\n",
       " 0.0  0.0  0.0  0.0  0.0  0.0  0.0  0.0     0.0  0.0  0.0  0.0  0.0  0.0  0.0\n",
       " 0.0  0.0  0.0  0.0  0.0  0.0  0.0  0.0  …  0.0  0.0  0.0  0.0  0.0  0.0  0.0\n",
       " 0.0  0.0  0.0  0.0  0.0  0.0  0.0  0.0     0.0  0.0  0.0  0.0  0.0  0.0  0.0\n",
       " 0.0  0.0  0.0  0.0  0.0  0.0  0.0  0.0     0.0  0.0  0.0  0.0  0.0  0.0  0.0\n",
       " 0.0  0.0  0.0  0.0  0.0  0.0  0.0  0.0     0.0  0.0  0.0  0.0  0.0  0.0  0.0\n",
       " 0.0  0.0  0.0  0.0  0.0  0.0  0.0  0.0     0.0  0.0  0.0  0.0  0.0  0.0  0.0\n",
       " 0.0  0.0  0.0  0.0  0.0  0.0  0.0  0.0  …  0.0  0.0  0.0  0.0  0.0  0.0  0.0\n",
       " 0.0  0.0  0.0  0.0  0.0  0.0  0.0  0.0     0.0  0.0  0.0  0.0  0.0  0.0  0.0\n",
       " 0.0  0.0  0.0  0.0  0.0  0.0  0.0  0.0     0.0  0.0  0.0  0.0  0.0  0.0  0.0\n",
       " 0.0  0.0  0.0  0.0  0.0  0.0  0.0  0.0     0.0  0.0  0.0  0.0  0.0  0.0  0.0\n",
       " 0.0  0.0  0.0  0.0  0.0  0.0  0.0  0.0     0.0  0.0  0.0  0.0  0.0  0.0  0.0"
      ]
     },
     "execution_count": 5,
     "metadata": {},
     "output_type": "execute_result"
    }
   ],
   "source": [
    "ua_fd"
   ]
  },
  {
   "cell_type": "code",
   "execution_count": 23,
   "id": "b589fe35-b449-4e52-ba3a-f5c47bc06816",
   "metadata": {},
   "outputs": [
    {
     "name": "stderr",
     "output_type": "stream",
     "text": [
      "The PostScript backend does not support transparency; partially transparent artists will be rendered opaque.\n"
     ]
    }
   ],
   "source": [
    "@load \"Hmap_euler_ZOH.jld2\" Hmap\n",
    "ua_ZOH .= Hmap\n",
    "@load \"Hmap_euler_Exact.jld2\" Hmap\n",
    "ua_exact .= Hmap\n",
    "@load \"Hmap_euler_custom.jld2\" Hmap\n",
    "ua_custom .= Hmap\n",
    "@load \"Hmap_euler_fd.jld2\" Hmap\n",
    "ua_fd .= Hmap\n",
    "@load \"Hmap_quat.jld2\" Hmap\n",
    "ua_quat .= Hmap\n",
    "\n",
    "# visualize(ua_ZOH, \"Underactuated Quadrotor ZOH\")\n",
    "visualize(ua_exact, \"Underactuated Quadrotor exact discretization\")\n",
    "# visualize(ua_custom, \"Underactuated Quadrotor custom discretization\")\n",
    "# visualize(ua_fd, \"Underactuated Quadrotor with Finite difference based discretization\")\n",
    "# visualize(ua_quat, \"Underactuated Quadrotor with Quaternions\")"
   ]
  },
  {
   "cell_type": "code",
   "execution_count": 7,
   "id": "471a6218-f2af-44b4-aafd-d89c1f59da68",
   "metadata": {},
   "outputs": [
    {
     "data": {
      "text/plain": [
       "20×20 Matrix{Float64}:\n",
       " NaN    NaN    NaN    NaN     NaN    …  NaN    NaN    NaN    NaN    NaN\n",
       " 347.0  342.0   37.0   17.0    18.0      43.0   33.0  162.0   72.0  599.0\n",
       "  33.0   16.0  475.0   20.0    27.0      41.0   26.0   47.0   27.0   33.0\n",
       "  25.0   31.0   27.0   17.0    15.0     315.0   36.0   28.0   33.0   25.0\n",
       "  15.0   22.0   34.0   32.0    19.0      21.0   16.0   20.0   15.0   15.0\n",
       "  11.0   17.0   21.0   36.0    22.0  …   23.0   33.0   23.0   26.0   11.0\n",
       "   9.0   19.0   18.0   18.0    26.0      34.0   30.0   16.0   11.0    9.0\n",
       "   6.0   13.0   14.0   23.0    26.0      19.0   22.0   15.0   22.0    6.0\n",
       "   7.0   18.0   13.0   17.0    29.0      20.0   27.0   18.0   19.0    7.0\n",
       "  13.0   15.0   12.0   13.0    25.0      19.0   12.0    9.0   14.0   13.0\n",
       "  12.0   12.0   16.0   15.0    27.0  …   35.0   17.0   12.0   15.0   12.0\n",
       "  13.0    8.0   19.0   12.0    22.0      33.0   10.0   13.0   11.0   13.0\n",
       "  14.0   12.0   10.0   29.0    24.0      32.0   21.0   19.0   15.0   14.0\n",
       "  10.0   15.0   14.0   22.0    22.0      20.0   17.0   26.0   19.0   10.0\n",
       "  12.0   26.0   11.0   14.0    24.0      45.0   39.0   28.0   59.0   12.0\n",
       "   8.0   18.0   16.0   24.0    33.0  …   53.0   28.0   29.0   14.0    8.0\n",
       "  16.0   23.0   25.0   62.0    41.0      14.0  309.0   39.0   24.0   18.0\n",
       "  34.0   17.0   53.0   23.0    23.0      39.0   31.0   25.0   19.0   34.0\n",
       "  40.0  354.0   25.0  378.0  2052.0     633.0   46.0  586.0  387.0   40.0\n",
       " NaN    NaN    NaN    NaN     NaN       NaN    NaN    NaN    NaN    NaN"
      ]
     },
     "execution_count": 7,
     "metadata": {},
     "output_type": "execute_result"
    }
   ],
   "source": [
    "ua_quat"
   ]
  },
  {
   "cell_type": "code",
   "execution_count": 8,
   "id": "3b91d052-26a0-45ab-b7dc-f51f4f3970fb",
   "metadata": {},
   "outputs": [
    {
     "data": {
      "text/plain": [
       "26.0"
      ]
     },
     "execution_count": 8,
     "metadata": {},
     "output_type": "execute_result"
    }
   ],
   "source": [
    "using Statistics\n",
    "\n",
    "# Flatten matrix and filter out NaNs\n",
    "data = filter(!isnan, vec(ua_quat))  # or use filter(!isnan, vec(A))\n",
    "\n",
    "mean_val = mean(data)\n",
    "median_val = median(data)"
   ]
  },
  {
   "cell_type": "code",
   "execution_count": 9,
   "id": "1505c456-65fa-4293-81f0-c6af046cdefc",
   "metadata": {},
   "outputs": [
    {
     "data": {
      "text/plain": [
       "55.65555555555556"
      ]
     },
     "execution_count": 9,
     "metadata": {},
     "output_type": "execute_result"
    }
   ],
   "source": [
    "mean_val"
   ]
  },
  {
   "cell_type": "code",
   "execution_count": 10,
   "id": "59797ecf-6823-4944-974b-7bfd638498d5",
   "metadata": {},
   "outputs": [
    {
     "name": "stderr",
     "output_type": "stream",
     "text": [
      "\u001b[32m\u001b[1m    Updating\u001b[22m\u001b[39m registry at `C:\\Users\\g.kirillov\\.julia\\registries\\General.toml`\n",
      "\u001b[32m\u001b[1m   Resolving\u001b[22m\u001b[39m package versions...\n",
      "\u001b[33m\u001b[1m┌ \u001b[22m\u001b[39m\u001b[33m\u001b[1mWarning: \u001b[22m\u001b[39mThe active manifest file at `C:\\Users\\g.kirillov\\DDP\\Manifest.toml` has an old format that is being maintained.\n",
      "\u001b[33m\u001b[1m│ \u001b[22m\u001b[39mTo update to the new format run `Pkg.upgrade_manifest()` which will upgrade the format without re-resolving.\n",
      "\u001b[33m\u001b[1m└ \u001b[22m\u001b[39m\u001b[90m@ Pkg.Types C:\\buildbot\\worker\\package_win64\\build\\usr\\share\\julia\\stdlib\\v1.7\\Pkg\\src\\manifest.jl:287\u001b[39m\n",
      "\u001b[32m\u001b[1m  No Changes\u001b[22m\u001b[39m to `C:\\Users\\g.kirillov\\DDP\\Project.toml`\n",
      "\u001b[32m\u001b[1m  No Changes\u001b[22m\u001b[39m to `C:\\Users\\g.kirillov\\DDP\\Manifest.toml`\n",
      "\u001b[33m\u001b[1m┌ \u001b[22m\u001b[39m\u001b[33m\u001b[1mWarning: \u001b[22m\u001b[39mThe active manifest file is an older format with no julia version entry. Dependencies may have been resolved with a different julia version.\n",
      "\u001b[33m\u001b[1m└ \u001b[22m\u001b[39m\u001b[90m@ C:\\Users\\g.kirillov\\DDP\\Manifest.toml:0\u001b[39m\n"
     ]
    }
   ],
   "source": [
    "import Pkg; Pkg.add(\"StatsBase\")"
   ]
  },
  {
   "cell_type": "code",
   "execution_count": 11,
   "id": "406d9fef-462c-48dc-b748-59f05ed8dbb9",
   "metadata": {},
   "outputs": [
    {
     "data": {
      "text/plain": [
       "322.0"
      ]
     },
     "execution_count": 11,
     "metadata": {},
     "output_type": "execute_result"
    },
    {
     "name": "stderr",
     "output_type": "stream",
     "text": [
      "The PostScript backend does not support transparency; partially transparent artists will be rendered opaque.\n",
      "The PostScript backend does not support transparency; partially transparent artists will be rendered opaque.\n",
      "The PostScript backend does not support transparency; partially transparent artists will be rendered opaque.\n"
     ]
    }
   ],
   "source": [
    "using StatsBase  # for `quantile` function\n",
    "\n",
    "q1 = quantile(data, 0.1)\n",
    "q3 = quantile(data, 0.9)\n",
    "iqr = q3 - q1\n",
    "\n",
    "upper_bound = q3\n",
    "\n",
    "outliers = filter(x -> x > upper_bound, data)\n",
    "\n",
    "mean(outliers)"
   ]
  },
  {
   "cell_type": "code",
   "execution_count": null,
   "id": "d0c7639c-8863-4d3c-b8f5-f0747bbb8d09",
   "metadata": {},
   "outputs": [],
   "source": []
  }
 ],
 "metadata": {
  "kernelspec": {
   "display_name": " 1.7.3",
   "language": "julia",
   "name": "-1.7"
  },
  "language_info": {
   "file_extension": ".jl",
   "mimetype": "application/julia",
   "name": "julia",
   "version": "1.7.3"
  }
 },
 "nbformat": 4,
 "nbformat_minor": 5
}
